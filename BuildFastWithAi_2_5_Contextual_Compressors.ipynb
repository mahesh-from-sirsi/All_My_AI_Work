{
  "cells": [
    {
      "cell_type": "markdown",
      "metadata": {
        "id": "view-in-github",
        "colab_type": "text"
      },
      "source": [
        "<a href=\"https://colab.research.google.com/github/mahesh-from-sirsi/All_My_AI_Work/blob/main/BuildFastWithAi_2_5_Contextual_Compressors.ipynb\" target=\"_parent\"><img src=\"https://colab.research.google.com/assets/colab-badge.svg\" alt=\"Open In Colab\"/></a>"
      ]
    },
    {
      "cell_type": "markdown",
      "metadata": {
        "id": "AzEd1e1NnF1V"
      },
      "source": [
        "## Contextual Compressors\n",
        "\n",
        "Langchain Documentation: https://python.langchain.com/docs/how_to/contextual_compression/"
      ]
    },
    {
      "cell_type": "code",
      "execution_count": null,
      "metadata": {
        "id": "xvO3_27dnF1Y",
        "colab": {
          "base_uri": "https://localhost:8080/"
        },
        "outputId": "b14cfc16-1a9d-4fe1-91f4-07bef4d47c5b"
      },
      "outputs": [
        {
          "output_type": "stream",
          "name": "stdout",
          "text": [
            "\u001b[?25l   \u001b[90m━━━━━━━━━━━━━━━━━━━━━━━━━━━━━━━━━━━━━━━━\u001b[0m \u001b[32m0.0/2.5 MB\u001b[0m \u001b[31m?\u001b[0m eta \u001b[36m-:--:--\u001b[0m\r\u001b[2K   \u001b[91m━━━━━━━━━━━━━━━━━━━━━━━━━━━━━━━━━━━━━━━\u001b[0m\u001b[91m╸\u001b[0m \u001b[32m2.5/2.5 MB\u001b[0m \u001b[31m119.6 MB/s\u001b[0m eta \u001b[36m0:00:01\u001b[0m\r\u001b[2K   \u001b[90m━━━━━━━━━━━━━━━━━━━━━━━━━━━━━━━━━━━━━━━━\u001b[0m \u001b[32m2.5/2.5 MB\u001b[0m \u001b[31m53.0 MB/s\u001b[0m eta \u001b[36m0:00:00\u001b[0m\n",
            "\u001b[2K   \u001b[90m━━━━━━━━━━━━━━━━━━━━━━━━━━━━━━━━━━━━━━━━\u001b[0m \u001b[32m75.0/75.0 kB\u001b[0m \u001b[31m5.3 MB/s\u001b[0m eta \u001b[36m0:00:00\u001b[0m\n",
            "\u001b[2K   \u001b[90m━━━━━━━━━━━━━━━━━━━━━━━━━━━━━━━━━━━━━━━━\u001b[0m \u001b[32m31.4/31.4 MB\u001b[0m \u001b[31m21.5 MB/s\u001b[0m eta \u001b[36m0:00:00\u001b[0m\n",
            "\u001b[2K   \u001b[90m━━━━━━━━━━━━━━━━━━━━━━━━━━━━━━━━━━━━━━━━\u001b[0m \u001b[32m447.5/447.5 kB\u001b[0m \u001b[31m10.6 MB/s\u001b[0m eta \u001b[36m0:00:00\u001b[0m\n",
            "\u001b[2K   \u001b[90m━━━━━━━━━━━━━━━━━━━━━━━━━━━━━━━━━━━━━━━━\u001b[0m \u001b[32m64.7/64.7 kB\u001b[0m \u001b[31m2.3 MB/s\u001b[0m eta \u001b[36m0:00:00\u001b[0m\n",
            "\u001b[2K   \u001b[90m━━━━━━━━━━━━━━━━━━━━━━━━━━━━━━━━━━━━━━━━\u001b[0m \u001b[32m50.9/50.9 kB\u001b[0m \u001b[31m2.2 MB/s\u001b[0m eta \u001b[36m0:00:00\u001b[0m\n",
            "\u001b[?25h\u001b[31mERROR: pip's dependency resolver does not currently take into account all the packages that are installed. This behaviour is the source of the following dependency conflicts.\n",
            "google-colab 1.0.0 requires requests==2.32.4, but you have requests 2.32.5 which is incompatible.\u001b[0m\u001b[31m\n",
            "\u001b[0m"
          ]
        }
      ],
      "source": [
        "%pip install -qU langchain langchain-community langchain-openai langchain-text-splitters faiss-cpu"
      ]
    },
    {
      "cell_type": "code",
      "execution_count": null,
      "metadata": {
        "id": "t2vYLEotnF1a"
      },
      "outputs": [],
      "source": [
        "import os\n",
        "\n",
        "os.environ[\"OPENAI_API_KEY\"] = \"\""
      ]
    },
    {
      "cell_type": "code",
      "execution_count": null,
      "metadata": {
        "id": "g3GB34uxnF1a",
        "outputId": "bf5a16f9-3cbc-4681-e7f7-767badf80b9b",
        "colab": {
          "base_uri": "https://localhost:8080/"
        }
      },
      "outputs": [
        {
          "output_type": "stream",
          "name": "stderr",
          "text": [
            "WARNING:langchain_community.utils.user_agent:USER_AGENT environment variable not set, consider setting it to identify your requests.\n",
            "WARNING:langchain_text_splitters.base:Created a chunk of size 304, which is longer than the specified 200\n",
            "WARNING:langchain_text_splitters.base:Created a chunk of size 478, which is longer than the specified 200\n",
            "WARNING:langchain_text_splitters.base:Created a chunk of size 2140, which is longer than the specified 200\n",
            "WARNING:langchain_text_splitters.base:Created a chunk of size 828, which is longer than the specified 200\n",
            "WARNING:langchain_text_splitters.base:Created a chunk of size 2342, which is longer than the specified 200\n",
            "WARNING:langchain_text_splitters.base:Created a chunk of size 2873, which is longer than the specified 200\n",
            "WARNING:langchain_text_splitters.base:Created a chunk of size 1269, which is longer than the specified 200\n",
            "WARNING:langchain_text_splitters.base:Created a chunk of size 1115, which is longer than the specified 200\n",
            "WARNING:langchain_text_splitters.base:Created a chunk of size 261, which is longer than the specified 200\n",
            "WARNING:langchain_text_splitters.base:Created a chunk of size 327, which is longer than the specified 200\n",
            "WARNING:langchain_text_splitters.base:Created a chunk of size 321, which is longer than the specified 200\n",
            "WARNING:langchain_text_splitters.base:Created a chunk of size 284, which is longer than the specified 200\n",
            "WARNING:langchain_text_splitters.base:Created a chunk of size 223, which is longer than the specified 200\n",
            "WARNING:langchain_text_splitters.base:Created a chunk of size 234, which is longer than the specified 200\n",
            "WARNING:langchain_text_splitters.base:Created a chunk of size 229, which is longer than the specified 200\n",
            "WARNING:langchain_text_splitters.base:Created a chunk of size 597, which is longer than the specified 200\n",
            "WARNING:langchain_text_splitters.base:Created a chunk of size 339, which is longer than the specified 200\n"
          ]
        }
      ],
      "source": [
        "from langchain_community.document_loaders import WebBaseLoader\n",
        "from langchain_community.vectorstores import FAISS\n",
        "from langchain_openai import OpenAIEmbeddings\n",
        "from langchain_text_splitters import CharacterTextSplitter\n",
        "\n",
        "documents = WebBaseLoader(\"https://en.wikipedia.org/wiki/Big_Mac_Index\").load()\n",
        "text_splitter = CharacterTextSplitter(chunk_size=200, chunk_overlap=0)\n",
        "texts = text_splitter.split_documents(documents)\n",
        "retriever = FAISS.from_documents(texts, OpenAIEmbeddings()).as_retriever(search_kwargs={\"k\": 5})\n"
      ]
    },
    {
      "cell_type": "code",
      "execution_count": null,
      "metadata": {
        "id": "J0BKbWLknF1b",
        "outputId": "0293b183-518b-4584-98b7-76ea958a3dc6",
        "colab": {
          "base_uri": "https://localhost:8080/"
        }
      },
      "outputs": [
        {
          "output_type": "execute_result",
          "data": {
            "text/plain": [
              "[Document(id='fbe94ab4-27ed-44b2-8ad9-e5069c5c767b', metadata={'source': 'https://en.wikipedia.org/wiki/Big_Mac_Index', 'title': 'Big Mac Index - Wikipedia', 'language': 'en'}, page_content='^ \"What Is the Big Mac index?\". Investopedia. Archived from the original on 29 April 2022. Retrieved 29 April 2022.'),\n",
              " Document(id='e792009f-de1d-410e-82dc-2255ae45264d', metadata={'source': 'https://en.wikipedia.org/wiki/Big_Mac_Index', 'title': 'Big Mac Index - Wikipedia', 'language': 'en'}, page_content='The Big Mac Index index page\\xa0– contains Big Mac Index data dating back to 1997 (Economist.com subscription required for detail)\\nBig Mac versus iTunes Aplia\\nBig Mac Index in text format for analysis\\nAuthority control databases GND'),\n",
              " Document(id='7c3f4252-ad31-458d-b56f-065fc4f4501d', metadata={'source': 'https://en.wikipedia.org/wiki/Big_Mac_Index', 'title': 'Big Mac Index - Wikipedia', 'language': 'en'}, page_content='Privacy policy\\nAbout Wikipedia\\nDisclaimers\\nContact Wikipedia\\nCode of Conduct\\nDevelopers\\nStatistics\\nCookie statement\\nMobile view\\n\\n\\nSearch\\n\\nSearch\\n\\nToggle the table of contents\\n\\nBig Mac Index'),\n",
              " Document(id='2aa771cf-8b5a-48ae-b78c-c1d9f63b270d', metadata={'source': 'https://en.wikipedia.org/wiki/Big_Mac_Index', 'title': 'Big Mac Index - Wikipedia', 'language': 'en'}, page_content='Big Mac Index - Wikipedia\\n\\nJump to content\\n\\nMain menu\\n\\nMain menu\\nmove to sidebar\\nhide\\n\\n\\t\\tNavigation\\n\\t\\n\\n\\nMain pageContentsCurrent eventsRandom articleAbout WikipediaContact us\\n\\n\\t\\tContribute'),\n",
              " Document(id='a3e5ff25-8bb7-49b6-8783-f8cb3ab5ca3f', metadata={'source': 'https://en.wikipedia.org/wiki/Big_Mac_Index', 'title': 'Big Mac Index - Wikipedia', 'language': 'en'}, page_content='^ \"Big Mac Index\". Corporate Finance Institute. Archived from the original on 29 June 2022. Retrieved 29 April 2022.')]"
            ]
          },
          "metadata": {},
          "execution_count": 4
        }
      ],
      "source": [
        "docs = retriever.invoke(\"What is this index?\")\n",
        "docs"
      ]
    },
    {
      "cell_type": "code",
      "execution_count": null,
      "metadata": {
        "id": "RWaWNmhOnF1c",
        "outputId": "4cb2365e-8b26-433c-d729-af81a07487fd",
        "colab": {
          "base_uri": "https://localhost:8080/"
        }
      },
      "outputs": [
        {
          "output_type": "execute_result",
          "data": {
            "text/plain": [
              "[Document(metadata={'source': 'https://en.wikipedia.org/wiki/Big_Mac_Index', 'title': 'Big Mac Index - Wikipedia', 'language': 'en'}, page_content='\"What Is the Big Mac index?\"'),\n",
              " Document(metadata={'source': 'https://en.wikipedia.org/wiki/Big_Mac_Index', 'title': 'Big Mac Index - Wikipedia', 'language': 'en'}, page_content='The Big Mac Index index page'),\n",
              " Document(metadata={'source': 'https://en.wikipedia.org/wiki/Big_Mac_Index', 'title': 'Big Mac Index - Wikipedia', 'language': 'en'}, page_content='Big Mac Index'),\n",
              " Document(metadata={'source': 'https://en.wikipedia.org/wiki/Big_Mac_Index', 'title': 'Big Mac Index - Wikipedia', 'language': 'en'}, page_content='Big Mac Index - Wikipedia'),\n",
              " Document(metadata={'source': 'https://en.wikipedia.org/wiki/Big_Mac_Index', 'title': 'Big Mac Index - Wikipedia', 'language': 'en'}, page_content='\"Big Mac Index\"')]"
            ]
          },
          "metadata": {},
          "execution_count": 5
        }
      ],
      "source": [
        "from langchain.retrievers import ContextualCompressionRetriever\n",
        "from langchain.retrievers.document_compressors.chain_extract import LLMChainExtractor\n",
        "from langchain_openai import ChatOpenAI\n",
        "\n",
        "llm = ChatOpenAI(temperature=0)\n",
        "compressor = LLMChainExtractor.from_llm(llm)\n",
        "compression_retriever = ContextualCompressionRetriever(\n",
        "    base_compressor=compressor, base_retriever=retriever\n",
        ")\n",
        "\n",
        "compressed_docs = compression_retriever.invoke(\n",
        "    \"What is this index?\"\n",
        ")\n",
        "compressed_docs"
      ]
    },
    {
      "cell_type": "code",
      "execution_count": null,
      "metadata": {
        "id": "UF48_IoGnF1d"
      },
      "outputs": [],
      "source": []
    }
  ],
  "metadata": {
    "kernelspec": {
      "display_name": "localdev",
      "language": "python",
      "name": "python3"
    },
    "language_info": {
      "codemirror_mode": {
        "name": "ipython",
        "version": 3
      },
      "file_extension": ".py",
      "mimetype": "text/x-python",
      "name": "python",
      "nbconvert_exporter": "python",
      "pygments_lexer": "ipython3",
      "version": "3.12.3"
    },
    "colab": {
      "provenance": [],
      "include_colab_link": true
    }
  },
  "nbformat": 4,
  "nbformat_minor": 0
}