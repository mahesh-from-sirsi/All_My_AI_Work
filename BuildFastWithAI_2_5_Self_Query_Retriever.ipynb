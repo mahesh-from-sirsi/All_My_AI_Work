{
  "cells": [
    {
      "cell_type": "markdown",
      "metadata": {
        "id": "view-in-github",
        "colab_type": "text"
      },
      "source": [
        "<a href=\"https://colab.research.google.com/github/mahesh-from-sirsi/All_My_AI_Work/blob/main/BuildFastWithAI_2_5_Self_Query_Retriever.ipynb\" target=\"_parent\"><img src=\"https://colab.research.google.com/assets/colab-badge.svg\" alt=\"Open In Colab\"/></a>"
      ]
    },
    {
      "cell_type": "markdown",
      "metadata": {
        "id": "jUh4Uq-1b2ej"
      },
      "source": [
        "## Self Query Retriever"
      ]
    },
    {
      "cell_type": "code",
      "source": [
        "%pip install -qU openai langchain-community langchain langchain-openai chromadb langchain_chroma"
      ],
      "metadata": {
        "id": "fpXUA5aY7det"
      },
      "execution_count": 3,
      "outputs": []
    },
    {
      "cell_type": "code",
      "execution_count": 4,
      "metadata": {
        "id": "Bml2BMgrb2en"
      },
      "outputs": [],
      "source": [
        "import os\n",
        "\n",
        "os.environ[\"OPENAI_API_KEY\"] = \"\""
      ]
    },
    {
      "cell_type": "code",
      "execution_count": 5,
      "metadata": {
        "id": "PHCFEpZNb2eo"
      },
      "outputs": [],
      "source": [
        "from langchain_openai import OpenAIEmbeddings\n",
        "from langchain.schema import Document\n",
        "from langchain_community.vectorstores import Chroma\n",
        "\n",
        "embeddings = OpenAIEmbeddings()"
      ]
    },
    {
      "cell_type": "markdown",
      "metadata": {
        "id": "bwVaaJ9tb2ep"
      },
      "source": [
        "Creating a Self Query Retriever"
      ]
    },
    {
      "cell_type": "code",
      "execution_count": 6,
      "metadata": {
        "id": "nvzQX0FDb2ep"
      },
      "outputs": [],
      "source": [
        "from langchain_chroma import Chroma\n",
        "from langchain_core.documents import Document\n",
        "\n",
        "docs = [\n",
        "    Document(\n",
        "        page_content=\"A poor but big-hearted man takes orphans into his home. After discovering his scientist father's invisibility device, he rises to the occasion and fights to save his children and all of India from the clutches of a greedy gangster\",\n",
        "        metadata={\"year\": 2006, \"director\": \"Rakesh Roshan\", \"rating\": 7.1, \"genre\": \"science fiction\"},\n",
        "    ),\n",
        "    Document(\n",
        "        page_content=\"The story of six young Indians who assist an English woman to film a documentary on the freedom fighters from their past, and the events that lead them to relive the long-forgotten saga of freedom\",\n",
        "        metadata={\"year\": 2006, \"director\": \"Rakeysh Omprakash Mehra\", \"rating\": 9.1, \"genre\": \"drama\"},\n",
        "    ),\n",
        "    Document(\n",
        "        page_content=\"A depressed wealthy businessman finds his life changing after he meets a spunky and care-free young woman\",\n",
        "        metadata={\"year\": 2007, \"director\": \"Anurag Basu\", \"rating\": 6.8, \"genre\": \"romance\"},\n",
        "    ),\n",
        "    Document(\n",
        "        page_content=\"A schoolteacher's world turns upside down when he realizes that his former student, who is now a world-famous artist, may have plagiarized his work\",\n",
        "        metadata={\"year\": 2023, \"director\": \"R. Balki\", \"rating\": 7.8, \"genre\": \"drama\"},\n",
        "    ),\n",
        "    Document(\n",
        "        page_content=\"A man returns to his country in order to marry his childhood sweetheart and proceeds to create misunderstanding between the families\",\n",
        "        metadata={\"year\": 1995, \"director\": \"Aditya Chopra\", \"rating\": 8.1, \"genre\": \"romance\"},\n",
        "    ),\n",
        "    Document(\n",
        "        page_content=\"The story of an Indian army officer guarding a picket alone in the Kargil conflict between India and Pakistan\",\n",
        "        metadata={\"year\": 2003, \"director\": \"J.P. Dutta\", \"rating\": 7.9, \"genre\": \"war\"},\n",
        "    ),\n",
        "    Document(\n",
        "        page_content=\"Three young men from different parts of India arrive in Mumbai, seeking fame and fortune\",\n",
        "        metadata={\"year\": 1975, \"director\": \"Ramesh Sippy\", \"rating\": 8.2, \"genre\": \"action\"},\n",
        "    ),\n",
        "    Document(\n",
        "        page_content=\"A simple man from a village falls in love with his new neighbor. He enlists the help of his musical-theater friends to woo the lovely girl-next-door away from her music teacher\",\n",
        "        metadata={\"year\": 1990, \"director\": \"Sooraj Barjatya\", \"rating\": 7.7, \"genre\": \"musical\"},\n",
        "    ),\n",
        "    Document(\n",
        "        page_content=\"A young mute girl from Pakistan loses herself in India with no way to head back. A devoted man undertakes the task to get her back to her homeland and unite her with her family\",\n",
        "        metadata={\"year\": 2015, \"director\": \"Kabir Khan\", \"rating\": 8.0, \"genre\": \"drama\"},\n",
        "    ),\n",
        "    Document(\n",
        "        page_content=\"Three idiots embark on a quest for a lost buddy. This journey takes them on a hilarious and meaningful adventure through memory lane and gives them a chance to relive their college days\",\n",
        "        metadata={\"year\": 2009, \"director\": \"Rajkumar Hirani\", \"rating\": 9.4, \"genre\": \"comedy\"},\n",
        "    ),\n",
        "]\n",
        "\n",
        "vectorstore = Chroma.from_documents(docs, OpenAIEmbeddings())"
      ]
    },
    {
      "cell_type": "code",
      "execution_count": 7,
      "metadata": {
        "id": "z0uGfB8Ib2eq"
      },
      "outputs": [],
      "source": [
        "from langchain.chains.query_constructor.base import AttributeInfo\n",
        "from langchain.retrievers.self_query.base import SelfQueryRetriever\n",
        "from langchain_openai import ChatOpenAI\n",
        "\n",
        "metadata_field_info = [\n",
        "    AttributeInfo(\n",
        "        name=\"genre\",\n",
        "        description=\"The genre of the movie.\",\n",
        "        type=\"string\",\n",
        "    ),\n",
        "    AttributeInfo(\n",
        "        name=\"year\",\n",
        "        description=\"The year the movie was released\",\n",
        "        type=\"integer\",\n",
        "    ),\n",
        "    AttributeInfo(\n",
        "        name=\"director\",\n",
        "        description=\"The name of the movie director\",\n",
        "        type=\"string\",\n",
        "    ),\n",
        "    AttributeInfo(\n",
        "        name=\"rating\", description=\"A 1-10 rating for the movie\", type=\"float\"\n",
        "    ),\n",
        "]\n",
        "document_content_description = \"Brief summary of a movie\"\n",
        "llm = ChatOpenAI(temperature=0)\n",
        "retriever = SelfQueryRetriever.from_llm(\n",
        "    llm,\n",
        "    vectorstore,\n",
        "    document_content_description,\n",
        "    metadata_field_info,\n",
        ")"
      ]
    },
    {
      "cell_type": "code",
      "execution_count": 8,
      "metadata": {
        "id": "dNhRFU7Qb2er",
        "outputId": "af5c2597-58ef-41b0-cc0d-9f5e407c5d94",
        "colab": {
          "base_uri": "https://localhost:8080/"
        }
      },
      "outputs": [
        {
          "output_type": "execute_result",
          "data": {
            "text/plain": [
              "[Document(id='31c9f961-ab3a-418d-82f6-63f05285c52c', metadata={'year': 2009, 'director': 'Rajkumar Hirani', 'rating': 9.4, 'genre': 'comedy'}, page_content='Three idiots embark on a quest for a lost buddy. This journey takes them on a hilarious and meaningful adventure through memory lane and gives them a chance to relive their college days'),\n",
              " Document(id='d5b264b0-d5bb-4ef0-9e81-c73fb0a9e6eb', metadata={'year': 1995, 'genre': 'romance', 'rating': 8.1, 'director': 'Aditya Chopra'}, page_content='A man returns to his country in order to marry his childhood sweetheart and proceeds to create misunderstanding between the families'),\n",
              " Document(id='28ba3f21-f0d2-4b96-a2c3-994d2d0d74ac', metadata={'genre': 'drama', 'director': 'Rakeysh Omprakash Mehra', 'rating': 9.1, 'year': 2006}, page_content='The story of six young Indians who assist an English woman to film a documentary on the freedom fighters from their past, and the events that lead them to relive the long-forgotten saga of freedom'),\n",
              " Document(id='98f2e547-b82a-4a38-9089-936480bde44f', metadata={'rating': 8.2, 'genre': 'action', 'year': 1975, 'director': 'Ramesh Sippy'}, page_content='Three young men from different parts of India arrive in Mumbai, seeking fame and fortune')]"
            ]
          },
          "metadata": {},
          "execution_count": 8
        }
      ],
      "source": [
        "# This example only specifies a filter\n",
        "retriever.invoke(\"I want to watch a movie rated higher than 8\")"
      ]
    },
    {
      "cell_type": "code",
      "execution_count": 10,
      "metadata": {
        "id": "xJEX7fF0b2es",
        "outputId": "64d8aaf4-a295-4b3a-fc1a-db7a0fa091b1",
        "colab": {
          "base_uri": "https://localhost:8080/"
        }
      },
      "outputs": [
        {
          "output_type": "execute_result",
          "data": {
            "text/plain": [
              "[Document(id='31c9f961-ab3a-418d-82f6-63f05285c52c', metadata={'director': 'Rajkumar Hirani', 'genre': 'comedy', 'year': 2009, 'rating': 9.4}, page_content='Three idiots embark on a quest for a lost buddy. This journey takes them on a hilarious and meaningful adventure through memory lane and gives them a chance to relive their college days')]"
            ]
          },
          "metadata": {},
          "execution_count": 10
        }
      ],
      "source": [
        "retriever.invoke(\" I want to watch a movie by Rajkumar Hirani which is about college life\")"
      ]
    },
    {
      "cell_type": "code",
      "execution_count": 11,
      "metadata": {
        "id": "YXvNLF4Ab2et"
      },
      "outputs": [],
      "source": [
        "from langchain.chains.query_constructor.base import (\n",
        "    StructuredQueryOutputParser,\n",
        "    get_query_constructor_prompt,\n",
        ")\n",
        "\n",
        "prompt = get_query_constructor_prompt(\n",
        "    document_content_description,\n",
        "    metadata_field_info,\n",
        ")\n",
        "output_parser = StructuredQueryOutputParser.from_components()\n",
        "query_constructor = prompt | llm | output_parser"
      ]
    },
    {
      "cell_type": "code",
      "execution_count": 12,
      "metadata": {
        "id": "uDNElTRib2et",
        "outputId": "9a29d770-3338-47fe-d9d4-0473c699efa7",
        "colab": {
          "base_uri": "https://localhost:8080/"
        }
      },
      "outputs": [
        {
          "output_type": "execute_result",
          "data": {
            "text/plain": [
              "StructuredQuery(query=' ', filter=Comparison(comparator=<Comparator.GT: 'gt'>, attribute='rating', value=9.0), limit=None)"
            ]
          },
          "metadata": {},
          "execution_count": 12
        }
      ],
      "source": [
        "query_constructor.invoke(\n",
        "    {\n",
        "        \"query\": \"I want to watch a movie rated higher than 9.0\"\n",
        "    }\n",
        ")"
      ]
    },
    {
      "cell_type": "code",
      "execution_count": 13,
      "metadata": {
        "id": "YYRkMV8Bb2et",
        "outputId": "18703927-71fe-4e26-df3f-105c7d0dbc4a",
        "colab": {
          "base_uri": "https://localhost:8080/"
        }
      },
      "outputs": [
        {
          "output_type": "execute_result",
          "data": {
            "text/plain": [
              "StructuredQuery(query='suspense plot', filter=Comparison(comparator=<Comparator.GT: 'gt'>, attribute='rating', value=9.0), limit=None)"
            ]
          },
          "metadata": {},
          "execution_count": 13
        }
      ],
      "source": [
        "query_constructor.invoke(\n",
        "    {\n",
        "        \"query\": \"I want to watch a movie rated higher than 9.0 which has suspense plot\"\n",
        "    }\n",
        ")"
      ]
    },
    {
      "cell_type": "code",
      "execution_count": 14,
      "metadata": {
        "id": "t4JOcdmYb2eu",
        "outputId": "b28193ac-d851-4530-9e8e-0e700a5a6ac9",
        "colab": {
          "base_uri": "https://localhost:8080/"
        }
      },
      "outputs": [
        {
          "output_type": "execute_result",
          "data": {
            "text/plain": [
              "StructuredQuery(query='college life', filter=Comparison(comparator=<Comparator.EQ: 'eq'>, attribute='director', value='Rajkumar Hirani'), limit=None)"
            ]
          },
          "metadata": {},
          "execution_count": 14
        }
      ],
      "source": [
        "query_constructor.invoke(\n",
        "    {\n",
        "        \"query\": \"I want to watch a movie by Rajkumar Hirani which is about college life\"\n",
        "    }\n",
        ")"
      ]
    }
  ],
  "metadata": {
    "kernelspec": {
      "display_name": "localdev",
      "language": "python",
      "name": "python3"
    },
    "language_info": {
      "codemirror_mode": {
        "name": "ipython",
        "version": 3
      },
      "file_extension": ".py",
      "mimetype": "text/x-python",
      "name": "python",
      "nbconvert_exporter": "python",
      "pygments_lexer": "ipython3",
      "version": "3.12.3"
    },
    "colab": {
      "provenance": [],
      "include_colab_link": true
    }
  },
  "nbformat": 4,
  "nbformat_minor": 0
}