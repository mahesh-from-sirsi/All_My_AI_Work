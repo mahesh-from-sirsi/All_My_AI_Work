{
  "nbformat": 4,
  "nbformat_minor": 0,
  "metadata": {
    "colab": {
      "provenance": [],
      "include_colab_link": true
    },
    "kernelspec": {
      "name": "python3",
      "display_name": "Python 3"
    },
    "language_info": {
      "name": "python"
    }
  },
  "cells": [
    {
      "cell_type": "markdown",
      "metadata": {
        "id": "view-in-github",
        "colab_type": "text"
      },
      "source": [
        "<a href=\"https://colab.research.google.com/github/mahesh-from-sirsi/All_My_AI_Work/blob/main/MaheshVShet_BuildFastWithAI_Module2_BuildYourChatBot_Execerise_ChatGPT_Replica.ipynb\" target=\"_parent\"><img src=\"https://colab.research.google.com/assets/colab-badge.svg\" alt=\"Open In Colab\"/></a>"
      ]
    },
    {
      "cell_type": "markdown",
      "source": [
        "### Exercise 1 : Display Recent Conversation\n",
        "Modify the `display_chat_history` function to allow users to specify a range of messages to display, such as showing only the last 10 messages.  \n",
        "\n"
      ],
      "metadata": {
        "id": "gXI99pQGFGRZ"
      }
    },
    {
      "cell_type": "code",
      "source": [
        "!pip install -qU langchain langchain-groq langchain_community"
      ],
      "metadata": {
        "id": "JIiZThhqMKwd"
      },
      "execution_count": 6,
      "outputs": []
    },
    {
      "cell_type": "code",
      "source": [
        "import os\n",
        "\n",
        "os.environ['GROQ_API_KEY'] = \"\"\n",
        "\n",
        "from langchain_groq import ChatGroq\n",
        "from langchain_core.prompts import ChatPromptTemplate, MessagesPlaceholder\n",
        "from langchain_core.runnables.history import RunnableWithMessageHistory\n",
        "from langchain_community.chat_message_histories import ChatMessageHistory\n",
        "\n",
        "# Create a Model using ChatGroq\n",
        "llama_model = ChatGroq(\n",
        "                      model = \"meta-llama/llama-4-maverick-17b-128e-instruct\",\n",
        "                      temperature = \"0.2\",\n",
        "                      max_tokens = 256)\n",
        "\n",
        "# This is a store for all the messages\n",
        "store = {}\n",
        "\n",
        "# Call Back to get the history\n",
        "def get_session_history(session_id):\n",
        "    if session_id not in store:\n",
        "        store[session_id] = ChatMessageHistory()\n",
        "    return store[session_id]\n",
        "\n",
        "\n",
        "# prompt = ChatPromptTemplate.from_messages([\n",
        "#     (\"system\", \"\"\"You are a BearBot, a helpful AI assistant created by Build Fast with AI.\n",
        "#                   You answer questions in a funny and engaging way with unusual analogies.\n",
        "#                   You don't answer any questions not related to AI. Please respond with 'I cannot answer the question' for non-AI questions.\n",
        "#                \"\"\"),\n",
        "#     MessagesPlaceholder(variable_name=\"history\"),\n",
        "#     (\"human\", \"{question}\")\n",
        "# ])\n",
        "\n",
        "prompt = ChatPromptTemplate.from_messages([\n",
        "    (\"system\", \"You are a helpful agent.\"),\n",
        "    MessagesPlaceholder(variable_name=\"history\"),\n",
        "    (\"human\", \"{question}\")\n",
        "])\n",
        "\n",
        "chain = prompt | llama_model\n",
        "\n",
        "chain_with_history = RunnableWithMessageHistory(\n",
        "    chain,\n",
        "    get_session_history,             # Callable for persistent session history\n",
        "    input_messages_key=\"question\",   # Key for human input\n",
        "    history_messages_key=\"history\"   # Key for message history\n",
        ")\n"
      ],
      "metadata": {
        "id": "Iuw8Ai3fMT9R"
      },
      "execution_count": 10,
      "outputs": []
    },
    {
      "cell_type": "code",
      "source": [
        "response = chain_with_history.invoke({'question': 'Who is the first black president of U.S.A?'}, {'configurable': {'session_id': 'user1'}})\n",
        "print(response)"
      ],
      "metadata": {
        "colab": {
          "base_uri": "https://localhost:8080/"
        },
        "id": "4V4EIIyo6hR-",
        "outputId": "1b4c25dd-9c30-45bd-98a1-103a66ff3118"
      },
      "execution_count": 14,
      "outputs": [
        {
          "output_type": "stream",
          "name": "stdout",
          "text": [
            "content='The first black president of the United States is Barack Obama. He was inaugurated as the 44th President of the United States on January 20, 2009, and served two terms until January 20, 2017.' additional_kwargs={} response_metadata={'token_usage': {'completion_tokens': 49, 'prompt_tokens': 32, 'total_tokens': 81, 'completion_time': 0.057186039, 'prompt_time': 0.000536959, 'queue_time': 0.186266666, 'total_time': 0.057722998}, 'model_name': 'meta-llama/llama-4-maverick-17b-128e-instruct', 'system_fingerprint': 'fp_c527aa4474', 'service_tier': 'on_demand', 'finish_reason': 'stop', 'logprobs': None} id='run--4d7c28dd-6b68-4be7-ab6a-53e2be6f1080-0' usage_metadata={'input_tokens': 32, 'output_tokens': 49, 'total_tokens': 81}\n"
          ]
        }
      ]
    },
    {
      "cell_type": "code",
      "source": [
        "chain_with_history.invoke({'question': 'In which year did he became president of U.S.A?'}, {'configurable': {'session_id': 'user1'}})"
      ],
      "metadata": {
        "colab": {
          "base_uri": "https://localhost:8080/"
        },
        "id": "Pq0Ot6DK8awe",
        "outputId": "009757f2-1f26-47dc-dce7-9829f740b63b"
      },
      "execution_count": 17,
      "outputs": [
        {
          "output_type": "execute_result",
          "data": {
            "text/plain": [
              "AIMessage(content='Barack Obama became the President of the United States in 2009. He was elected on November 4, 2008, and inaugurated as the 44th President on January 20, 2009.', additional_kwargs={}, response_metadata={'token_usage': {'completion_tokens': 46, 'prompt_tokens': 97, 'total_tokens': 143, 'completion_time': 0.093955965, 'prompt_time': 0.002293184, 'queue_time': 0.210402261, 'total_time': 0.096249149}, 'model_name': 'meta-llama/llama-4-maverick-17b-128e-instruct', 'system_fingerprint': 'fp_c527aa4474', 'service_tier': 'on_demand', 'finish_reason': 'stop', 'logprobs': None}, id='run--539a5596-c346-4e49-b487-a790d0e233ad-0', usage_metadata={'input_tokens': 97, 'output_tokens': 46, 'total_tokens': 143})"
            ]
          },
          "metadata": {},
          "execution_count": 17
        }
      ]
    },
    {
      "cell_type": "code",
      "source": [
        "chain_with_history.invoke({'question': 'What was his age when he became president of U.S.A?'}, {'configurable': {'session_id': 'user1'}})"
      ],
      "metadata": {
        "colab": {
          "base_uri": "https://localhost:8080/"
        },
        "id": "mBahcJlO8j_j",
        "outputId": "50431685-fc8e-4dd4-840e-1f855b5ab089"
      },
      "execution_count": 18,
      "outputs": [
        {
          "output_type": "execute_result",
          "data": {
            "text/plain": [
              "AIMessage(content='Barack Obama was born on August4,1961. He became the President of the United States on January20,2009. At that time, he was 47 years old.', additional_kwargs={}, response_metadata={'token_usage': {'completion_tokens': 39, 'prompt_tokens': 159, 'total_tokens': 198, 'completion_time': 0.058473778, 'prompt_time': 0.00304204, 'queue_time': 0.198126477, 'total_time': 0.061515818}, 'model_name': 'meta-llama/llama-4-maverick-17b-128e-instruct', 'system_fingerprint': 'fp_c527aa4474', 'service_tier': 'on_demand', 'finish_reason': 'stop', 'logprobs': None}, id='run--b32c625b-a6d5-4b89-849c-4efc301849e4-0', usage_metadata={'input_tokens': 159, 'output_tokens': 39, 'total_tokens': 198})"
            ]
          },
          "metadata": {},
          "execution_count": 18
        }
      ]
    },
    {
      "cell_type": "code",
      "source": [
        "user1_history = store['user1']\n",
        "print(user1_history)"
      ],
      "metadata": {
        "colab": {
          "base_uri": "https://localhost:8080/"
        },
        "id": "1jT_dzUN8Ffg",
        "outputId": "7f76da65-9897-4c39-e828-c61243072957"
      },
      "execution_count": 19,
      "outputs": [
        {
          "output_type": "stream",
          "name": "stdout",
          "text": [
            "Human: Who is the first black president of U.S.A?\n",
            "AI: The first black president of the United States is Barack Obama. He was inaugurated as the 44th President of the United States on January 20, 2009, and served two terms until January 20, 2017.\n",
            "Human: In which year did he became president of U.S.A?\n",
            "AI: Barack Obama became the President of the United States in 2009. He was elected on November 4, 2008, and inaugurated as the 44th President on January 20, 2009.\n",
            "Human: What was his age when he became president of U.S.A?\n",
            "AI: Barack Obama was born on August4,1961. He became the President of the United States on January20,2009. At that time, he was 47 years old.\n"
          ]
        }
      ]
    },
    {
      "cell_type": "markdown",
      "source": [
        "####Hint:\n"
      ],
      "metadata": {
        "id": "INlM3pa5e6NW"
      }
    },
    {
      "cell_type": "code",
      "source": [
        "# Chat_history\n",
        "print(user1_history.messages[-1])"
      ],
      "metadata": {
        "id": "OL6eRL9FFY55",
        "colab": {
          "base_uri": "https://localhost:8080/"
        },
        "outputId": "e4fe5746-8025-41d5-f967-262fb02a8838"
      },
      "execution_count": 35,
      "outputs": [
        {
          "output_type": "stream",
          "name": "stdout",
          "text": [
            "content='Barack Obama was born on August4,1961. He became the President of the United States on January20,2009. At that time, he was 47 years old.' additional_kwargs={} response_metadata={'token_usage': {'completion_tokens': 39, 'prompt_tokens': 159, 'total_tokens': 198, 'completion_time': 0.058473778, 'prompt_time': 0.00304204, 'queue_time': 0.198126477, 'total_time': 0.061515818}, 'model_name': 'meta-llama/llama-4-maverick-17b-128e-instruct', 'system_fingerprint': 'fp_c527aa4474', 'service_tier': 'on_demand', 'finish_reason': 'stop', 'logprobs': None} id='run--b32c625b-a6d5-4b89-849c-4efc301849e4-0' usage_metadata={'input_tokens': 159, 'output_tokens': 39, 'total_tokens': 198}\n"
          ]
        }
      ]
    },
    {
      "cell_type": "code",
      "source": [],
      "metadata": {
        "id": "EkNX4sA2e7Oc"
      },
      "execution_count": null,
      "outputs": []
    },
    {
      "cell_type": "markdown",
      "source": [
        "### Exercise 2 : Export Chat History\n",
        "Add a feature that allows users to export the chat history to a file in a structured format, such as JSON or CSV.  \n",
        "\n"
      ],
      "metadata": {
        "id": "U7JxnmdEFc9a"
      }
    },
    {
      "cell_type": "markdown",
      "source": [
        "####Hint:"
      ],
      "metadata": {
        "id": "pYRx_msoe9r_"
      }
    },
    {
      "cell_type": "code",
      "source": [
        "# call llm and save required chat_history\n",
        "from langchain_core.messages import HumanMessage\n",
        "import json\n",
        "\n",
        "structured_data = [\n",
        "        {\"role\": \"Human\" if isinstance(msg, HumanMessage) else \"AI\", \"content\": msg.content}\n",
        "        for msg in user1_history.messages\n",
        "    ]\n",
        "\n",
        "# now save is json/csv file\n",
        "with open(\"chat_history.json\", \"w\") as f:\n",
        "    json.dump(structured_data, f, indent=4)   # indent=4 makes it human-readable\n"
      ],
      "metadata": {
        "id": "CAyJas1vFdOd"
      },
      "execution_count": 40,
      "outputs": []
    },
    {
      "cell_type": "code",
      "source": [],
      "metadata": {
        "id": "ivZ_DtPq4KU3"
      },
      "execution_count": null,
      "outputs": []
    }
  ]
}