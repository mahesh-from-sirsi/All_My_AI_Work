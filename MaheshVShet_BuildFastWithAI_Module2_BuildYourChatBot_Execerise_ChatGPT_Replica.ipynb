{
  "nbformat": 4,
  "nbformat_minor": 0,
  "metadata": {
    "colab": {
      "provenance": [],
      "include_colab_link": true
    },
    "kernelspec": {
      "name": "python3",
      "display_name": "Python 3"
    },
    "language_info": {
      "name": "python"
    }
  },
  "cells": [
    {
      "cell_type": "markdown",
      "metadata": {
        "id": "view-in-github",
        "colab_type": "text"
      },
      "source": [
        "<a href=\"https://colab.research.google.com/github/mahesh-from-sirsi/All_My_AI_Work/blob/main/MaheshVShet_BuildFastWithAI_Module2_BuildYourChatBot_Execerise_ChatGPT_Replica.ipynb\" target=\"_parent\"><img src=\"https://colab.research.google.com/assets/colab-badge.svg\" alt=\"Open In Colab\"/></a>"
      ]
    },
    {
      "cell_type": "markdown",
      "source": [
        "### Exercise 1 : Display Recent Conversation\n",
        "Modify the `display_chat_history` function to allow users to specify a range of messages to display, such as showing only the last 10 messages.  \n",
        "\n"
      ],
      "metadata": {
        "id": "gXI99pQGFGRZ"
      }
    },
    {
      "cell_type": "markdown",
      "source": [
        "####Hint:\n"
      ],
      "metadata": {
        "id": "INlM3pa5e6NW"
      }
    },
    {
      "cell_type": "code",
      "source": [
        "!pip install -qU langchain langchain-openai"
      ],
      "metadata": {
        "id": "FAHKy5U7sJPL",
        "outputId": "6ccdfb5f-0b88-4be0-80af-ec7486ed33d0",
        "colab": {
          "base_uri": "https://localhost:8080/"
        }
      },
      "execution_count": null,
      "outputs": [
        {
          "output_type": "stream",
          "name": "stdout",
          "text": [
            "\u001b[?25l   \u001b[90m━━━━━━━━━━━━━━━━━━━━━━━━━━━━━━━━━━━━━━━━\u001b[0m \u001b[32m0.0/75.0 kB\u001b[0m \u001b[31m?\u001b[0m eta \u001b[36m-:--:--\u001b[0m\r\u001b[2K   \u001b[90m━━━━━━━━━━━━━━━━━━━━━━━━━━━━━━━━━━━━━━━━\u001b[0m \u001b[32m75.0/75.0 kB\u001b[0m \u001b[31m2.9 MB/s\u001b[0m eta \u001b[36m0:00:00\u001b[0m\n",
            "\u001b[?25h\u001b[?25l   \u001b[90m━━━━━━━━━━━━━━━━━━━━━━━━━━━━━━━━━━━━━━━━\u001b[0m \u001b[32m0.0/447.5 kB\u001b[0m \u001b[31m?\u001b[0m eta \u001b[36m-:--:--\u001b[0m\r\u001b[2K   \u001b[90m━━━━━━━━━━━━━━━━━━━━━━━━━━━━━━━━━━━━━━━━\u001b[0m \u001b[32m447.5/447.5 kB\u001b[0m \u001b[31m13.2 MB/s\u001b[0m eta \u001b[36m0:00:00\u001b[0m\n",
            "\u001b[?25h"
          ]
        }
      ]
    },
    {
      "cell_type": "code",
      "source": [
        "!pip install langchain-groq"
      ],
      "metadata": {
        "id": "Mm4cNlFesPOq",
        "outputId": "d4679d42-3bd3-48d7-ad3f-d9e7582f8ce4",
        "colab": {
          "base_uri": "https://localhost:8080/"
        }
      },
      "execution_count": null,
      "outputs": [
        {
          "output_type": "stream",
          "name": "stdout",
          "text": [
            "Collecting langchain-groq\n",
            "  Downloading langchain_groq-0.3.8-py3-none-any.whl.metadata (2.6 kB)\n",
            "Requirement already satisfied: langchain-core<1.0.0,>=0.3.75 in /usr/local/lib/python3.12/dist-packages (from langchain-groq) (0.3.76)\n",
            "Collecting groq<1,>=0.30.0 (from langchain-groq)\n",
            "  Downloading groq-0.31.1-py3-none-any.whl.metadata (16 kB)\n",
            "Requirement already satisfied: anyio<5,>=3.5.0 in /usr/local/lib/python3.12/dist-packages (from groq<1,>=0.30.0->langchain-groq) (4.10.0)\n",
            "Requirement already satisfied: distro<2,>=1.7.0 in /usr/local/lib/python3.12/dist-packages (from groq<1,>=0.30.0->langchain-groq) (1.9.0)\n",
            "Requirement already satisfied: httpx<1,>=0.23.0 in /usr/local/lib/python3.12/dist-packages (from groq<1,>=0.30.0->langchain-groq) (0.28.1)\n",
            "Requirement already satisfied: pydantic<3,>=1.9.0 in /usr/local/lib/python3.12/dist-packages (from groq<1,>=0.30.0->langchain-groq) (2.11.7)\n",
            "Requirement already satisfied: sniffio in /usr/local/lib/python3.12/dist-packages (from groq<1,>=0.30.0->langchain-groq) (1.3.1)\n",
            "Requirement already satisfied: typing-extensions<5,>=4.10 in /usr/local/lib/python3.12/dist-packages (from groq<1,>=0.30.0->langchain-groq) (4.15.0)\n",
            "Requirement already satisfied: langsmith>=0.3.45 in /usr/local/lib/python3.12/dist-packages (from langchain-core<1.0.0,>=0.3.75->langchain-groq) (0.4.24)\n",
            "Requirement already satisfied: tenacity!=8.4.0,<10.0.0,>=8.1.0 in /usr/local/lib/python3.12/dist-packages (from langchain-core<1.0.0,>=0.3.75->langchain-groq) (8.5.0)\n",
            "Requirement already satisfied: jsonpatch<2.0,>=1.33 in /usr/local/lib/python3.12/dist-packages (from langchain-core<1.0.0,>=0.3.75->langchain-groq) (1.33)\n",
            "Requirement already satisfied: PyYAML>=5.3 in /usr/local/lib/python3.12/dist-packages (from langchain-core<1.0.0,>=0.3.75->langchain-groq) (6.0.2)\n",
            "Requirement already satisfied: packaging>=23.2 in /usr/local/lib/python3.12/dist-packages (from langchain-core<1.0.0,>=0.3.75->langchain-groq) (25.0)\n",
            "Requirement already satisfied: idna>=2.8 in /usr/local/lib/python3.12/dist-packages (from anyio<5,>=3.5.0->groq<1,>=0.30.0->langchain-groq) (3.10)\n",
            "Requirement already satisfied: certifi in /usr/local/lib/python3.12/dist-packages (from httpx<1,>=0.23.0->groq<1,>=0.30.0->langchain-groq) (2025.8.3)\n",
            "Requirement already satisfied: httpcore==1.* in /usr/local/lib/python3.12/dist-packages (from httpx<1,>=0.23.0->groq<1,>=0.30.0->langchain-groq) (1.0.9)\n",
            "Requirement already satisfied: h11>=0.16 in /usr/local/lib/python3.12/dist-packages (from httpcore==1.*->httpx<1,>=0.23.0->groq<1,>=0.30.0->langchain-groq) (0.16.0)\n",
            "Requirement already satisfied: jsonpointer>=1.9 in /usr/local/lib/python3.12/dist-packages (from jsonpatch<2.0,>=1.33->langchain-core<1.0.0,>=0.3.75->langchain-groq) (3.0.0)\n",
            "Requirement already satisfied: orjson>=3.9.14 in /usr/local/lib/python3.12/dist-packages (from langsmith>=0.3.45->langchain-core<1.0.0,>=0.3.75->langchain-groq) (3.11.3)\n",
            "Requirement already satisfied: requests-toolbelt>=1.0.0 in /usr/local/lib/python3.12/dist-packages (from langsmith>=0.3.45->langchain-core<1.0.0,>=0.3.75->langchain-groq) (1.0.0)\n",
            "Requirement already satisfied: requests>=2.0.0 in /usr/local/lib/python3.12/dist-packages (from langsmith>=0.3.45->langchain-core<1.0.0,>=0.3.75->langchain-groq) (2.32.4)\n",
            "Requirement already satisfied: zstandard>=0.23.0 in /usr/local/lib/python3.12/dist-packages (from langsmith>=0.3.45->langchain-core<1.0.0,>=0.3.75->langchain-groq) (0.24.0)\n",
            "Requirement already satisfied: annotated-types>=0.6.0 in /usr/local/lib/python3.12/dist-packages (from pydantic<3,>=1.9.0->groq<1,>=0.30.0->langchain-groq) (0.7.0)\n",
            "Requirement already satisfied: pydantic-core==2.33.2 in /usr/local/lib/python3.12/dist-packages (from pydantic<3,>=1.9.0->groq<1,>=0.30.0->langchain-groq) (2.33.2)\n",
            "Requirement already satisfied: typing-inspection>=0.4.0 in /usr/local/lib/python3.12/dist-packages (from pydantic<3,>=1.9.0->groq<1,>=0.30.0->langchain-groq) (0.4.1)\n",
            "Requirement already satisfied: charset_normalizer<4,>=2 in /usr/local/lib/python3.12/dist-packages (from requests>=2.0.0->langsmith>=0.3.45->langchain-core<1.0.0,>=0.3.75->langchain-groq) (3.4.3)\n",
            "Requirement already satisfied: urllib3<3,>=1.21.1 in /usr/local/lib/python3.12/dist-packages (from requests>=2.0.0->langsmith>=0.3.45->langchain-core<1.0.0,>=0.3.75->langchain-groq) (2.5.0)\n",
            "Downloading langchain_groq-0.3.8-py3-none-any.whl (16 kB)\n",
            "Downloading groq-0.31.1-py3-none-any.whl (134 kB)\n",
            "\u001b[2K   \u001b[90m━━━━━━━━━━━━━━━━━━━━━━━━━━━━━━━━━━━━━━━━\u001b[0m \u001b[32m134.9/134.9 kB\u001b[0m \u001b[31m4.9 MB/s\u001b[0m eta \u001b[36m0:00:00\u001b[0m\n",
            "\u001b[?25hInstalling collected packages: groq, langchain-groq\n",
            "Successfully installed groq-0.31.1 langchain-groq-0.3.8\n"
          ]
        }
      ]
    },
    {
      "cell_type": "code",
      "source": [
        "import os\n",
        "os.environ['GROQ_API_KEY'] = \"\"\n",
        "\n",
        "from langchain_openai import ChatOpenAI\n",
        "from langchain.chains import ConversationChain\n",
        "from langchain.memory import ConversationBufferMemory, ConversationSummaryMemory\n",
        "from langchain_groq import ChatGroq\n",
        "\n",
        "# Using Groq to create llama model as Together Now charges $5 to get the API key\n",
        "llama_model = ChatGroq(\n",
        "                      model = \"meta-llama/llama-4-maverick-17b-128e-instruct\",\n",
        "                      temperature = \"0.2\",\n",
        "                      max_tokens = 256)\n",
        "\n",
        "memory = ConversationBufferMemory(k = 3)\n",
        "\n",
        "conversation = ConversationChain(\n",
        "    llm=llama_model,\n",
        "    memory = memory\n",
        ")\n",
        "\n",
        "conversation.invoke(input = 'Who is the first black president of USA?')"
      ],
      "metadata": {
        "id": "nypPO-iMsWon",
        "outputId": "bec9f7eb-a789-4b3c-fd53-75a3a8edb40c",
        "colab": {
          "base_uri": "https://localhost:8080/"
        }
      },
      "execution_count": null,
      "outputs": [
        {
          "output_type": "stream",
          "name": "stderr",
          "text": [
            "/tmp/ipython-input-1771377200.py:15: LangChainDeprecationWarning: Please see the migration guide at: https://python.langchain.com/docs/versions/migrating_memory/\n",
            "  memory = ConversationBufferMemory(k = 3)\n",
            "/tmp/ipython-input-1771377200.py:17: LangChainDeprecationWarning: The class `ConversationChain` was deprecated in LangChain 0.2.7 and will be removed in 1.0. Use :class:`~langchain_core.runnables.history.RunnableWithMessageHistory` instead.\n",
            "  conversation = ConversationChain(\n"
          ]
        },
        {
          "output_type": "execute_result",
          "data": {
            "text/plain": [
              "{'input': 'Who is the first black president of USA?',\n",
              " 'history': '',\n",
              " 'response': 'The first black president of the USA is Barack Obama. He was inaugurated on January 20, 2009, and served two terms until January 20, 2017. Obama was born on August 4, 1961, in Honolulu, Hawaii, and before becoming president, he was a senator representing Illinois from 2005 to 2008. Would you like to know more about his presidency or policies?'}"
            ]
          },
          "metadata": {},
          "execution_count": 5
        }
      ]
    },
    {
      "cell_type": "code",
      "source": [
        "conversation.invoke(input = 'Where did he study?')"
      ],
      "metadata": {
        "id": "kbnFQw2tsxMQ",
        "outputId": "b0a048b1-8ebb-4d2c-9263-288281911af0",
        "colab": {
          "base_uri": "https://localhost:8080/"
        }
      },
      "execution_count": null,
      "outputs": [
        {
          "output_type": "execute_result",
          "data": {
            "text/plain": [
              "{'input': 'Where did he study?',\n",
              " 'history': 'Human: Who is the first black president of USA?\\nAI: The first black president of the USA is Barack Obama. He was inaugurated on January 20, 2009, and served two terms until January 20, 2017. Obama was born on August 4, 1961, in Honolulu, Hawaii, and before becoming president, he was a senator representing Illinois from 2005 to 2008. Would you like to know more about his presidency or policies?',\n",
              " 'response': 'Barack Obama attended several institutions for his education. He went to Punahou School in Honolulu, Hawaii, for his high school education from 1971 to 1979. After high school, he attended Occidental College in Los Angeles, California, for two years before transferring to Columbia University in New York City, where he graduated with a Bachelor of Arts degree in 1983. Later, he attended Harvard Law School, where he earned his Juris Doctor (J.D.) degree in 1991 and was also the first black president of the Harvard Law Review. Would you like to know more about his time at Harvard or his experiences as a law student?'}"
            ]
          },
          "metadata": {},
          "execution_count": 6
        }
      ]
    },
    {
      "cell_type": "code",
      "source": [
        "conversation.invoke(input = 'What did he study?')"
      ],
      "metadata": {
        "id": "ycnHFiGDsxDG",
        "outputId": "c67cfc8d-f5fd-4c7c-a1c5-ad7cc48f1bca",
        "colab": {
          "base_uri": "https://localhost:8080/"
        }
      },
      "execution_count": null,
      "outputs": [
        {
          "output_type": "execute_result",
          "data": {
            "text/plain": [
              "{'input': 'What did he study?',\n",
              " 'history': 'Human: Who is the first black president of USA?\\nAI: The first black president of the USA is Barack Obama. He was inaugurated on January 20, 2009, and served two terms until January 20, 2017. Obama was born on August 4, 1961, in Honolulu, Hawaii, and before becoming president, he was a senator representing Illinois from 2005 to 2008. Would you like to know more about his presidency or policies?\\nHuman: Where did he study?\\nAI: Barack Obama attended several institutions for his education. He went to Punahou School in Honolulu, Hawaii, for his high school education from 1971 to 1979. After high school, he attended Occidental College in Los Angeles, California, for two years before transferring to Columbia University in New York City, where he graduated with a Bachelor of Arts degree in 1983. Later, he attended Harvard Law School, where he earned his Juris Doctor (J.D.) degree in 1991 and was also the first black president of the Harvard Law Review. Would you like to know more about his time at Harvard or his experiences as a law student?',\n",
              " 'response': 'At Occidental College, Obama studied international relations. Later, at Columbia University, he majored in political science with a specialization in international relations, and his senior thesis was on the topic of Soviet nuclear disarmament. At Harvard Law School, he studied law, of course, and was heavily involved with the Harvard Law Review, becoming the first African American to be elected as its president in 1990. During his time at Harvard, he was also exposed to constitutional law, civil rights law, and other areas of law that would later influence his policy decisions as president. Would you like to know more about his thesis or his experiences as a law student?'}"
            ]
          },
          "metadata": {},
          "execution_count": 7
        }
      ]
    },
    {
      "cell_type": "code",
      "source": [
        "conversation.invoke(input = 'What did he do after his studies?')"
      ],
      "metadata": {
        "id": "sTkq1SZesw3_",
        "outputId": "d8c29f7d-5831-4780-96de-11bcbcfadf40",
        "colab": {
          "base_uri": "https://localhost:8080/"
        }
      },
      "execution_count": null,
      "outputs": [
        {
          "output_type": "execute_result",
          "data": {
            "text/plain": [
              "{'input': 'What did he do after his studies?',\n",
              " 'history': 'Human: Who is the first black president of USA?\\nAI: The first black president of the USA is Barack Obama. He was inaugurated on January 20, 2009, and served two terms until January 20, 2017. Obama was born on August 4, 1961, in Honolulu, Hawaii, and before becoming president, he was a senator representing Illinois from 2005 to 2008. Would you like to know more about his presidency or policies?\\nHuman: Where did he study?\\nAI: Barack Obama attended several institutions for his education. He went to Punahou School in Honolulu, Hawaii, for his high school education from 1971 to 1979. After high school, he attended Occidental College in Los Angeles, California, for two years before transferring to Columbia University in New York City, where he graduated with a Bachelor of Arts degree in 1983. Later, he attended Harvard Law School, where he earned his Juris Doctor (J.D.) degree in 1991 and was also the first black president of the Harvard Law Review. Would you like to know more about his time at Harvard or his experiences as a law student?\\nHuman: What did he study?\\nAI: At Occidental College, Obama studied international relations. Later, at Columbia University, he majored in political science with a specialization in international relations, and his senior thesis was on the topic of Soviet nuclear disarmament. At Harvard Law School, he studied law, of course, and was heavily involved with the Harvard Law Review, becoming the first African American to be elected as its president in 1990. During his time at Harvard, he was also exposed to constitutional law, civil rights law, and other areas of law that would later influence his policy decisions as president. Would you like to know more about his thesis or his experiences as a law student?',\n",
              " 'response': \"After completing his studies, Barack Obama went on to have a distinguished career in public service and law. After graduating from Columbia University in 1983, he worked as a community organizer in Chicago, Illinois, where he helped to build affordable housing and improve living conditions for low-income families. He worked with the Developing Communities Project, a church-based community organization, from 1985 to 1988.\\n\\nAfter graduating from Harvard Law School in 1991, Obama returned to Chicago and worked as a civil rights attorney and a law professor. He taught constitutional law at the University of Chicago Law School from 1992 to 2004. In 1996, he was elected to the Illinois State Senate, where he served three terms until 2004. During his time in the state senate, he worked on various committees, including education, health, and human services.\\n\\nIn 2004, Obama was elected to the United States Senate, representing Illinois, but he didn't complete his full term as he resigned in 2008 to focus on his presidential campaign. As a senator, he worked on a range of issues, including education, healthcare, and veterans' affairs. Would you like to know more about his work as a community organizer or his time in the Illinois State Senate\"}"
            ]
          },
          "metadata": {},
          "execution_count": 8
        }
      ]
    },
    {
      "cell_type": "code",
      "source": [
        "chat_history = conversation.memory.chat_memory.messages"
      ],
      "metadata": {
        "id": "sIkePjf8swrk"
      },
      "execution_count": null,
      "outputs": []
    },
    {
      "cell_type": "code",
      "source": [
        "print(type(chat_history))"
      ],
      "metadata": {
        "id": "dVG1GkO6swdm",
        "outputId": "b00b2582-cc9f-42c9-b23b-7801ce7c9162",
        "colab": {
          "base_uri": "https://localhost:8080/"
        }
      },
      "execution_count": null,
      "outputs": [
        {
          "output_type": "stream",
          "name": "stdout",
          "text": [
            "<class 'list'>\n"
          ]
        }
      ]
    },
    {
      "cell_type": "code",
      "source": [
        "print(chat_history[-1])"
      ],
      "metadata": {
        "id": "8E4UkxYItSF-",
        "outputId": "77eff6b8-712b-452a-9a1a-06bbd8bf6e49",
        "colab": {
          "base_uri": "https://localhost:8080/"
        }
      },
      "execution_count": null,
      "outputs": [
        {
          "output_type": "stream",
          "name": "stdout",
          "text": [
            "content=\"After completing his studies, Barack Obama went on to have a distinguished career in public service and law. After graduating from Columbia University in 1983, he worked as a community organizer in Chicago, Illinois, where he helped to build affordable housing and improve living conditions for low-income families. He worked with the Developing Communities Project, a church-based community organization, from 1985 to 1988.\\n\\nAfter graduating from Harvard Law School in 1991, Obama returned to Chicago and worked as a civil rights attorney and a law professor. He taught constitutional law at the University of Chicago Law School from 1992 to 2004. In 1996, he was elected to the Illinois State Senate, where he served three terms until 2004. During his time in the state senate, he worked on various committees, including education, health, and human services.\\n\\nIn 2004, Obama was elected to the United States Senate, representing Illinois, but he didn't complete his full term as he resigned in 2008 to focus on his presidential campaign. As a senator, he worked on a range of issues, including education, healthcare, and veterans' affairs. Would you like to know more about his work as a community organizer or his time in the Illinois State Senate\" additional_kwargs={} response_metadata={}\n"
          ]
        }
      ]
    },
    {
      "cell_type": "code",
      "source": [
        "print(chat_history[-3])"
      ],
      "metadata": {
        "id": "yvN9RuCstXjy",
        "outputId": "50371009-35d9-406f-b5f2-715a4a811798",
        "colab": {
          "base_uri": "https://localhost:8080/"
        }
      },
      "execution_count": null,
      "outputs": [
        {
          "output_type": "stream",
          "name": "stdout",
          "text": [
            "content='At Occidental College, Obama studied international relations. Later, at Columbia University, he majored in political science with a specialization in international relations, and his senior thesis was on the topic of Soviet nuclear disarmament. At Harvard Law School, he studied law, of course, and was heavily involved with the Harvard Law Review, becoming the first African American to be elected as its president in 1990. During his time at Harvard, he was also exposed to constitutional law, civil rights law, and other areas of law that would later influence his policy decisions as president. Would you like to know more about his thesis or his experiences as a law student?' additional_kwargs={} response_metadata={}\n"
          ]
        }
      ]
    },
    {
      "cell_type": "code",
      "source": [
        "Chat_history_new=Chat_history[-n]\n",
        "# Now print the chat history"
      ],
      "metadata": {
        "id": "OL6eRL9FFY55"
      },
      "execution_count": null,
      "outputs": []
    },
    {
      "cell_type": "code",
      "source": [],
      "metadata": {
        "id": "EkNX4sA2e7Oc"
      },
      "execution_count": null,
      "outputs": []
    },
    {
      "cell_type": "markdown",
      "source": [
        "### Exercise 2 : Export Chat History\n",
        "Add a feature that allows users to export the chat history to a file in a structured format, such as JSON or CSV.  \n",
        "\n"
      ],
      "metadata": {
        "id": "U7JxnmdEFc9a"
      }
    },
    {
      "cell_type": "markdown",
      "source": [
        "####Hint:"
      ],
      "metadata": {
        "id": "pYRx_msoe9r_"
      }
    },
    {
      "cell_type": "code",
      "source": [
        "from langchain_core.messages import HumanMessage\n",
        "# call llm and save required chat_history\n",
        "structured_data = [\n",
        "        {\"role\": \"Human\" if isinstance(msg, HumanMessage) else \"AI\", \"content\": msg.content}\n",
        "        for msg in chat_history\n",
        "    ]\n",
        "\n",
        "# now save is json/csv file\n",
        "import json\n",
        "with open(\"chat_history.json\", \"w\", encoding=\"utf-8\") as json_file:\n",
        "    json.dump(structured_data, json_file, indent=4)\n"
      ],
      "metadata": {
        "id": "CAyJas1vFdOd"
      },
      "execution_count": null,
      "outputs": []
    },
    {
      "cell_type": "code",
      "source": [],
      "metadata": {
        "id": "ivZ_DtPq4KU3"
      },
      "execution_count": null,
      "outputs": []
    }
  ]
}