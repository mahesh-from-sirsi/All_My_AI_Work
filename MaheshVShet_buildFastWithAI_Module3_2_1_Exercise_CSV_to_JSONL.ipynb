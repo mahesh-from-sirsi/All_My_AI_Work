{
  "cells": [
    {
      "cell_type": "markdown",
      "metadata": {
        "id": "view-in-github",
        "colab_type": "text"
      },
      "source": [
        "<a href=\"https://colab.research.google.com/github/mahesh-from-sirsi/All_My_AI_Work/blob/main/MaheshVShet_buildFastWithAI_Module3_2_1_Exercise_CSV_to_JSONL.ipynb\" target=\"_parent\"><img src=\"https://colab.research.google.com/assets/colab-badge.svg\" alt=\"Open In Colab\"/></a>"
      ]
    },
    {
      "cell_type": "markdown",
      "metadata": {
        "id": "AQSeMm7cRFdJ"
      },
      "source": [
        "## Exercise 1: Create a CSV of Famous Person's Tweets\n",
        "\n",
        "Task: Create a CSV file containing tweets from a famous person (e.g., Elon Musk, Bill Gates, etc.). The CSV should have two columns: Input (a user's question or prompt) and Output (the famous person's tweet).\n"
      ]
    },
    {
      "cell_type": "markdown",
      "source": [
        "###Hint:\n",
        "\n",
        "- You can manually collect tweets from Twitter or use a tool like Tweepy\n",
        "(Twitter API) to fetch tweets.\n",
        "\n",
        "- For Input, create hypothetical user prompts that could lead to the famous person's tweet as a response."
      ],
      "metadata": {
        "id": "ccU7JRKbTnfl"
      }
    },
    {
      "cell_type": "code",
      "execution_count": null,
      "metadata": {
        "id": "P6-IxxoGRFdL"
      },
      "outputs": [],
      "source": [
        "# Step 1 : Collect tweets from a specific person or topic manually or using tools like Tweepy.\n",
        "#Step 2 : Organize the data in Excel/Google Sheets with two columns: Input (user prompts) and Output (tweets).\n",
        "#Step 3 : Save the file as a CSV by exporting it from Excel or Google Sheets."
      ]
    },
    {
      "cell_type": "markdown",
      "metadata": {
        "id": "YT7NvCffRFdM"
      },
      "source": [
        "## Exercise 2: Convert Your CSV Into Jsonl\n",
        "\n",
        "**Task:** Use Convert CSV to Jsonl Funtion and Create your Jsonl File\n",
        "\n"
      ]
    },
    {
      "cell_type": "markdown",
      "source": [
        "###Hint"
      ],
      "metadata": {
        "id": "C7mXO1xrWv7Z"
      }
    },
    {
      "cell_type": "code",
      "execution_count": null,
      "metadata": {
        "id": "3VbaUXpoRFdM"
      },
      "outputs": [],
      "source": [
        "#Step:- Use Convert to Jsonl Funtion and Create your Own Jsonl File\n",
        "def csv_to_jsonl(input_csv, output_jsonl):\n",
        "    # Define the system message\n",
        "    system_message = {\n",
        "        \"role\": \"system\",\n",
        "        \"content\": \"You are helpful assistant.\"\n",
        "    }\n",
        "# Use Full Code"
      ]
    },
    {
      "cell_type": "code",
      "source": [],
      "metadata": {
        "id": "dvQI5FByXDvG"
      },
      "execution_count": null,
      "outputs": []
    }
  ],
  "metadata": {
    "kernelspec": {
      "display_name": "Python 3",
      "language": "python",
      "name": "python3"
    },
    "language_info": {
      "name": "python",
      "version": "3.12.8"
    },
    "colab": {
      "provenance": [],
      "include_colab_link": true
    }
  },
  "nbformat": 4,
  "nbformat_minor": 0
}