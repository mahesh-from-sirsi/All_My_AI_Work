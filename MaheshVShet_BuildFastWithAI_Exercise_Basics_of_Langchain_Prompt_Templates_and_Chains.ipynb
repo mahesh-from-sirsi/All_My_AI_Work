{
  "nbformat": 4,
  "nbformat_minor": 0,
  "metadata": {
    "colab": {
      "provenance": [],
      "include_colab_link": true
    },
    "kernelspec": {
      "name": "python3",
      "display_name": "Python 3"
    },
    "language_info": {
      "name": "python"
    }
  },
  "cells": [
    {
      "cell_type": "markdown",
      "metadata": {
        "id": "view-in-github",
        "colab_type": "text"
      },
      "source": [
        "<a href=\"https://colab.research.google.com/github/mahesh-from-sirsi/All_My_AI_Work/blob/main/MaheshVShet_BuildFastWithAI_Exercise_Basics_of_Langchain_Prompt_Templates_and_Chains.ipynb\" target=\"_parent\"><img src=\"https://colab.research.google.com/assets/colab-badge.svg\" alt=\"Open In Colab\"/></a>"
      ]
    },
    {
      "cell_type": "markdown",
      "source": [
        "###Exercise 1: Using Prompt Templates\n",
        "\n"
      ],
      "metadata": {
        "id": "WFAFgej4_0Qv"
      }
    },
    {
      "cell_type": "markdown",
      "source": [
        "Create a prompt template that generates a daily workout plan based on the user's fitness level and preferred workout type (e.g., cardio, strength training). Use the template to generate a workout plan for a beginner interested in cardio."
      ],
      "metadata": {
        "id": "GThxVaxw_3UR"
      }
    },
    {
      "cell_type": "markdown",
      "source": [
        "####Hint"
      ],
      "metadata": {
        "id": "m4rzQZqFA9NR"
      }
    },
    {
      "cell_type": "code",
      "execution_count": null,
      "metadata": {
        "id": "qBGyKRl5_pLG"
      },
      "outputs": [],
      "source": [
        "# Example: User describes a workout plan for a beginner interested in cardio.\n",
        "fitness_level = \"beginner\"\n",
        "workout_type = \"cardio\"\n",
        "\n",
        "# Logic: Use a prompt template to generate the workout plan.\n",
        "# Hint: Initialize the template and use `format` to fill in the placeholders."
      ]
    },
    {
      "cell_type": "code",
      "source": [],
      "metadata": {
        "id": "_Sn9rGw3KpGZ"
      },
      "execution_count": null,
      "outputs": []
    },
    {
      "cell_type": "markdown",
      "source": [
        "###Exercise 2: Using LLM Chains\n",
        "\n"
      ],
      "metadata": {
        "id": "orRvA_FcBvvG"
      }
    },
    {
      "cell_type": "markdown",
      "source": [
        "Write an LLM chain that uses the GPT-4 model to generate a recipe based on a user's preferred cuisine and dietary restrictions (e.g., vegan, gluten-free). Use the chain to generate a vegan Italian recipe."
      ],
      "metadata": {
        "id": "pP2tCKNLBzmg"
      }
    },
    {
      "cell_type": "code",
      "source": [
        "# Example: User requests a vegan Italian recipe.\n",
        "dietary_restrictions = \"vegan\"\n",
        "cuisine = \"Italian\"\n",
        "\n",
        "# Logic: Use an LLM chain to generate the recipe.\n",
        "# Hint: Initialize the chain and use `run` to send the request."
      ],
      "metadata": {
        "id": "f9RZ_QzLBwoy"
      },
      "execution_count": null,
      "outputs": []
    },
    {
      "cell_type": "code",
      "source": [],
      "metadata": {
        "id": "TDQ2DsKfKpfo"
      },
      "execution_count": null,
      "outputs": []
    },
    {
      "cell_type": "markdown",
      "source": [
        "###Exercise 3: Using Gemini Models\n",
        "\n"
      ],
      "metadata": {
        "id": "43AatAvdCy3m"
      }
    },
    {
      "cell_type": "markdown",
      "source": [
        "Use the Google Gemini Flash model to generate a travel itinerary for a 3-day trip to Paris. The itinerary should include activities for each day."
      ],
      "metadata": {
        "id": "IOMj-x_CCtgH"
      }
    },
    {
      "cell_type": "code",
      "source": [
        "# Example: User requests a 3-day travel itinerary for Paris.\n",
        "itinerary_request = \"Create a 3-day travel itinerary for Paris, including activities for each day.\"\n",
        "\n",
        "# Logic: Use Gemini Flash to generate the itinerary.\n",
        "# Hint: Initialize the model and use `invoke` to send the request."
      ],
      "metadata": {
        "id": "BkASnllmCuP2"
      },
      "execution_count": null,
      "outputs": []
    },
    {
      "cell_type": "code",
      "source": [],
      "metadata": {
        "id": "6yVcGnMaKp7f"
      },
      "execution_count": null,
      "outputs": []
    },
    {
      "cell_type": "markdown",
      "source": [
        "###Exercise 4: Combining Prompt Templates and LLM Chains\n",
        "\n"
      ],
      "metadata": {
        "id": "Mzk-IU_hELYu"
      }
    },
    {
      "cell_type": "markdown",
      "source": [
        "Create an LLM chain that uses a prompt template to generate a business plan for a startup. The template should include placeholders for the business type, target market, and unique selling proposition (USP)."
      ],
      "metadata": {
        "id": "w4KUePPnEPl-"
      }
    },
    {
      "cell_type": "code",
      "source": [
        "# Example: User describes a business plan for an eco-friendly clothing brand.\n",
        "business_type = \"eco-friendly clothing brand\"\n",
        "target_market = \"environmentally conscious consumers\"\n",
        "usp = \"sustainable materials and ethical manufacturing\"\n",
        "\n",
        "# Logic: Use an LLM chain to generate the business plan.\n",
        "# Hint: Initialize the chain and use `run` to send the request."
      ],
      "metadata": {
        "id": "yaYTX02rEM6u"
      },
      "execution_count": null,
      "outputs": []
    },
    {
      "cell_type": "code",
      "source": [],
      "metadata": {
        "id": "xXFk8Y7fKqdn"
      },
      "execution_count": null,
      "outputs": []
    }
  ]
}