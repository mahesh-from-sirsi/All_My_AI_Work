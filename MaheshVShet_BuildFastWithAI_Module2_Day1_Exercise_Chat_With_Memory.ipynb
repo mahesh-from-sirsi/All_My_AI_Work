{
  "nbformat": 4,
  "nbformat_minor": 0,
  "metadata": {
    "colab": {
      "provenance": [],
      "include_colab_link": true
    },
    "kernelspec": {
      "name": "python3",
      "display_name": "Python 3"
    },
    "language_info": {
      "name": "python"
    }
  },
  "cells": [
    {
      "cell_type": "markdown",
      "metadata": {
        "id": "view-in-github",
        "colab_type": "text"
      },
      "source": [
        "<a href=\"https://colab.research.google.com/github/mahesh-from-sirsi/All_My_AI_Work/blob/main/MaheshVShet_BuildFastWithAI_Module2_Day1_Exercise_Chat_With_Memory.ipynb\" target=\"_parent\"><img src=\"https://colab.research.google.com/assets/colab-badge.svg\" alt=\"Open In Colab\"/></a>"
      ]
    },
    {
      "cell_type": "markdown",
      "source": [
        "### Exercise 1 : Chat and Store in Memory\n",
        "Implement a chatbot that asks 10-12 questions sequentially, ensuring each question references earlier interactions. Use `ConversationBufferMemory` and `ConversationSummaryMemory` to maintain the conversation's context.\n",
        "\n"
      ],
      "metadata": {
        "id": "tgJgkFm-Ccdo"
      }
    },
    {
      "cell_type": "markdown",
      "source": [
        " #### Hint  \n"
      ],
      "metadata": {
        "id": "zGp7CvCZRK3n"
      }
    },
    {
      "cell_type": "code",
      "source": [
        "!pip install -qU langchain==0.3.4 langchain-openai==0.2.12 langchain-together==0.2.0"
      ],
      "metadata": {
        "id": "IgUwgzkuR7L_"
      },
      "execution_count": 2,
      "outputs": []
    },
    {
      "cell_type": "code",
      "source": [
        "import os\n",
        "\n",
        "os.environ['OPENAI_API_KEY'] = \"\""
      ],
      "metadata": {
        "id": "9TtfykeAR_JM"
      },
      "execution_count": 3,
      "outputs": []
    },
    {
      "cell_type": "code",
      "source": [
        "# Using OpenAI Models\n",
        "from langchain_openai import ChatOpenAI\n",
        "gpt4o_mini_model = ChatOpenAI(model = \"gpt-4o-mini\")"
      ],
      "metadata": {
        "id": "6WOfABOpSFPh"
      },
      "execution_count": 4,
      "outputs": []
    },
    {
      "cell_type": "code",
      "source": [
        "from langchain import ConversationChain\n",
        "from langchain.memory import ConversationBufferMemory, ConversationSummaryMemory"
      ],
      "metadata": {
        "id": "d0W5uZAuSSLo"
      },
      "execution_count": 5,
      "outputs": []
    },
    {
      "cell_type": "code",
      "source": [
        "# Memory for full conversation history\n",
        "buffer_memory = ConversationBufferMemory(k = 10, memory_key=\"history\", return_messages=True)\n",
        "\n",
        "# Memory for summarizing the conversation\n",
        "summary_memory = ConversationSummaryMemory(llm=gpt4o_mini_model)\n",
        "\n",
        "# Start conversation\n",
        "# get response and append ai messages\n",
        "conversation = ConversationChain(\n",
        "    llm=gpt4o_mini_model,\n",
        "    memory = buffer_memory\n",
        ")\n",
        "\n",
        "conversation2 = ConversationChain(\n",
        "    llm=gpt4o_mini_model,\n",
        "    memory = summary_memory\n",
        ")"
      ],
      "metadata": {
        "id": "CoKF-5WJCckA"
      },
      "execution_count": 11,
      "outputs": []
    },
    {
      "cell_type": "code",
      "source": [
        "conversation.predict(input = \"Who is Trump\")"
      ],
      "metadata": {
        "id": "FYuggkG8eq2Q",
        "colab": {
          "base_uri": "https://localhost:8080/",
          "height": 107
        },
        "outputId": "d3ae0a83-b264-49bd-9c2b-6704bfbda0d4"
      },
      "execution_count": 13,
      "outputs": [
        {
          "output_type": "execute_result",
          "data": {
            "text/plain": [
              "'Donald Trump is an American businessman, television personality, and politician who served as the 45th President of the United States from January 20, 2017, to January 20, 2021. Before entering politics, he was well-known for his real estate ventures and as the host of the reality TV show \"The Apprentice.\" Trump is a member of the Republican Party and has been a prominent figure in American politics, known for his unconventional style, controversial statements, and policies. His presidency included significant events such as tax reforms, immigration policy changes, and the handling of the COVID-19 pandemic. Would you like to know more about a specific aspect of his life or presidency?'"
            ],
            "application/vnd.google.colaboratory.intrinsic+json": {
              "type": "string"
            }
          },
          "metadata": {},
          "execution_count": 13
        }
      ]
    },
    {
      "cell_type": "code",
      "source": [
        "conversation.predict(input = \"How old is he?\")"
      ],
      "metadata": {
        "colab": {
          "base_uri": "https://localhost:8080/",
          "height": 35
        },
        "id": "1EJ2FdEoToaN",
        "outputId": "db5f7955-a958-403f-c09a-7713fa113e8f"
      },
      "execution_count": 14,
      "outputs": [
        {
          "output_type": "execute_result",
          "data": {
            "text/plain": [
              "'Donald Trump was born on June 14, 1946. As of now, he is 77 years old. If you have any more questions about his life or career, feel free to ask!'"
            ],
            "application/vnd.google.colaboratory.intrinsic+json": {
              "type": "string"
            }
          },
          "metadata": {},
          "execution_count": 14
        }
      ]
    },
    {
      "cell_type": "code",
      "source": [
        "conversation.predict(input = \"How intelligent is he?\")"
      ],
      "metadata": {
        "colab": {
          "base_uri": "https://localhost:8080/",
          "height": 125
        },
        "id": "uCuNonDNTslt",
        "outputId": "12bfe5df-92d7-4e0c-a2ba-2c67d47f15cf"
      },
      "execution_count": 15,
      "outputs": [
        {
          "output_type": "execute_result",
          "data": {
            "text/plain": [
              "\"Intelligence can be measured in various ways, and opinions about Donald Trump's intelligence vary widely. Supporters often point to his business success and ability to connect with a certain voter base as indicators of his intelligence. Critics, on the other hand, may argue that his communication style and some of his statements reflect a lack of depth or understanding on certain topics. \\n\\nHe holds a degree in economics from the Wharton School of the University of Pennsylvania, which is considered a prestigious business school. However, assessments of intelligence can be subjective and depend on personal beliefs and criteria. If you have a specific context in mind—like his business acumen, political strategies, or something else—let me know!\""
            ],
            "application/vnd.google.colaboratory.intrinsic+json": {
              "type": "string"
            }
          },
          "metadata": {},
          "execution_count": 15
        }
      ]
    },
    {
      "cell_type": "code",
      "source": [
        "conversation.predict(input = \"What is his problem?\")"
      ],
      "metadata": {
        "colab": {
          "base_uri": "https://localhost:8080/",
          "height": 143
        },
        "id": "kdMg98BtTxpT",
        "outputId": "04dfb88b-d02a-41d9-8907-b354b8c3dd76"
      },
      "execution_count": 16,
      "outputs": [
        {
          "output_type": "execute_result",
          "data": {
            "text/plain": [
              "\"Donald Trump has faced a variety of challenges and controversies throughout his career, both in business and politics. Some of the issues often associated with him include:\\n\\n1. **Political Polarization**: His presidency was marked by significant division within the country, with strong opinions both in support of and against him. This polarization has continued even after his presidency.\\n\\n2. **Controversial Statements and Actions**: Trump is known for making provocative statements and taking actions that have sparked backlash, including his handling of issues like immigration, race relations, and foreign policy.\\n\\n3. **Legal Challenges**: Since leaving office, he has faced multiple legal challenges, including investigations into his business practices and his actions related to the 2020 election.\\n\\n4. **Public Perception**: His communication style and social media presence have led to mixed perceptions of his character and competency, influencing both his supporters and detractors.\\n\\n5. **Policy Decisions**: Some of his policies, such as tax cuts and deregulation, were praised by supporters but criticized by opponents who argue they disproportionately benefited the wealthy and harmed social programs.\\n\\nIf you're looking for more specific issues or a particular area of concern, feel free to clarify!\""
            ],
            "application/vnd.google.colaboratory.intrinsic+json": {
              "type": "string"
            }
          },
          "metadata": {},
          "execution_count": 16
        }
      ]
    },
    {
      "cell_type": "code",
      "source": [
        "conversation.predict(input = \"What is his profession before he came into politics?\")"
      ],
      "metadata": {
        "colab": {
          "base_uri": "https://localhost:8080/",
          "height": 107
        },
        "id": "YjgOxGScT20d",
        "outputId": "d8032681-1601-47e8-aff0-5428e559dd56"
      },
      "execution_count": 17,
      "outputs": [
        {
          "output_type": "execute_result",
          "data": {
            "text/plain": [
              "'Before entering politics, Donald Trump was primarily known as a businessman and real estate developer. He took over his family\\'s real estate company, Trump Organization, in the 1970s and expanded its operations significantly. Trump was involved in various real estate ventures, including residential, commercial, and hotel properties. \\n\\nIn addition to his real estate career, he gained fame as a television personality, particularly as the host of the reality TV show \"The Apprentice,\" which premiered in 2004. The show showcased his business acumen and helped solidify his public persona as a successful entrepreneur. Would you like to know more about his business ventures or his time on television?'"
            ],
            "application/vnd.google.colaboratory.intrinsic+json": {
              "type": "string"
            }
          },
          "metadata": {},
          "execution_count": 17
        }
      ]
    },
    {
      "cell_type": "code",
      "source": [
        "conversation.predict(input = \"Who is his political competitor?\")"
      ],
      "metadata": {
        "colab": {
          "base_uri": "https://localhost:8080/",
          "height": 107
        },
        "id": "coxmRvzJT-o7",
        "outputId": "c1ba355c-e9a7-48e6-fe18-47f2ac9d63e6"
      },
      "execution_count": 18,
      "outputs": [
        {
          "output_type": "execute_result",
          "data": {
            "text/plain": [
              "\"Donald Trump's most notable political competitor during his presidency was Joe Biden, the Democratic nominee in the 2020 presidential election. Biden, who served as Vice President under Barack Obama from 2009 to 2017, ran against Trump and ultimately won the election, becoming the 46th President of the United States, inaugurated on January 20, 2021. \\n\\nIn addition to Biden, Trump faced various opponents during his political career, including candidates from both the Republican primary in 2016, such as Ted Cruz and Marco Rubio, and other Democratic challengers during his presidency. If you're interested in a specific election or competitor, let me know!\""
            ],
            "application/vnd.google.colaboratory.intrinsic+json": {
              "type": "string"
            }
          },
          "metadata": {},
          "execution_count": 18
        }
      ]
    },
    {
      "cell_type": "code",
      "source": [
        "conversation.predict(input = \"what is he badly known for?\")"
      ],
      "metadata": {
        "colab": {
          "base_uri": "https://localhost:8080/",
          "height": 143
        },
        "id": "UWXUsf1WUEtx",
        "outputId": "bbcc4b9a-aa2b-4bd1-f41d-4efce4f09155"
      },
      "execution_count": 19,
      "outputs": [
        {
          "output_type": "execute_result",
          "data": {
            "text/plain": [
              "\"Donald Trump is often known for several controversial aspects and actions that have garnered significant criticism. Some of the things he is badly known for include:\\n\\n1. **Rhetoric and Communication Style**: His use of inflammatory language and personal attacks on opponents and public figures has drawn criticism. Many believe his communication style has contributed to increased division and hostility in political discourse.\\n\\n2. **Handling of Race Relations**: Trump's responses to issues related to race, including the Black Lives Matter movement and his comments following incidents of racial violence, have been viewed as divisive and insensitive.\\n\\n3. **Immigration Policies**: His administration implemented strict immigration policies, including the separation of families at the border and the travel ban from several predominantly Muslim countries. These policies faced widespread backlash and legal challenges.\\n\\n4. **COVID-19 Response**: His handling of the COVID-19 pandemic, including downplaying the severity of the virus and promoting unproven treatments, led to criticism from health experts and political opponents.\\n\\n5. **Legal Issues**: Trump has faced various legal challenges and investigations, including impeachment proceedings during his presidency—first in relation to his dealings with Ukraine and later regarding the January 6 Capitol riot.\\n\\n6. **Environmental Policies**: His administration rolled back numerous environmental regulations, leading to criticism from environmentalists and concerns about climate change.\\n\\nThese aspects have shaped public perception of Trump, with opinions varying widely depending on political affiliation and personal beliefs. If you're interested in a specific incident or area, feel free to ask!\""
            ],
            "application/vnd.google.colaboratory.intrinsic+json": {
              "type": "string"
            }
          },
          "metadata": {},
          "execution_count": 19
        }
      ]
    },
    {
      "cell_type": "code",
      "source": [
        "conversation.predict(input = \"what is his wifes name?\")"
      ],
      "metadata": {
        "colab": {
          "base_uri": "https://localhost:8080/",
          "height": 71
        },
        "id": "_8EwARn2UMOB",
        "outputId": "740b4d55-a320-4f67-c6ee-75163f523666"
      },
      "execution_count": 20,
      "outputs": [
        {
          "output_type": "execute_result",
          "data": {
            "text/plain": [
              "\"Donald Trump's wife is Melania Trump. They got married on January 22, 2005. Melania is originally from Slovenia and worked as a model before her marriage. During Trump's presidency, she served as the First Lady of the United States, focusing on initiatives such as children's wellness and combating cyberbullying. If you'd like to know more about her background or role as First Lady, feel free to ask!\""
            ],
            "application/vnd.google.colaboratory.intrinsic+json": {
              "type": "string"
            }
          },
          "metadata": {},
          "execution_count": 20
        }
      ]
    },
    {
      "cell_type": "code",
      "source": [
        "conversation.predict(input = \"how old is she?\")"
      ],
      "metadata": {
        "colab": {
          "base_uri": "https://localhost:8080/",
          "height": 35
        },
        "id": "ovefwboOURbo",
        "outputId": "c8aac934-480c-42e6-ac12-74e8214541c1"
      },
      "execution_count": 21,
      "outputs": [
        {
          "output_type": "execute_result",
          "data": {
            "text/plain": [
              "'Melania Trump was born on April 26, 1970. As of now, she is 53 years old. If you have more questions about her or anything else, feel free to ask!'"
            ],
            "application/vnd.google.colaboratory.intrinsic+json": {
              "type": "string"
            }
          },
          "metadata": {},
          "execution_count": 21
        }
      ]
    },
    {
      "cell_type": "code",
      "source": [
        "conversation.predict(input = \"what is she known for?\")"
      ],
      "metadata": {
        "colab": {
          "base_uri": "https://localhost:8080/",
          "height": 143
        },
        "id": "wjzt0ZnuUWb0",
        "outputId": "70722f90-8e1c-4416-f491-4b25c1586d35"
      },
      "execution_count": 22,
      "outputs": [
        {
          "output_type": "execute_result",
          "data": {
            "text/plain": [
              "'Melania Trump is known for several aspects of her life and public role, particularly during her time as First Lady of the United States. Here are some key points:\\n\\n1. **Role as First Lady**: During her time in the White House, Melania focused on initiatives related to children\\'s well-being, particularly through her \"Be Best\" campaign, which aimed to promote healthy living and combat cyberbullying.\\n\\n2. **Background as a Model**: Before her marriage to Donald Trump, she had a successful career as a model, working with various high-profile brands and appearing in numerous magazines.\\n\\n3. **Her Slovenian Heritage**: Melania is originally from Slovenia, and she has often spoken about her upbringing and culture. She is the only First Lady to have been born outside of the United States.\\n\\n4. **Fashion and Style**: Melania is often recognized for her fashion sense and has been noted for her elegant style. She frequently wore designer clothing during public appearances, which sometimes sparked discussions about fashion and political statements.\\n\\n5. **Privacy and Public Perception**: Melania has maintained a relatively private life compared to previous First Ladies, often avoiding the spotlight and media attention. This has led to varying public perceptions about her involvement in political matters and her relationship with her husband.\\n\\nIf you\\'re interested in a specific aspect of her life or role, just let me know!'"
            ],
            "application/vnd.google.colaboratory.intrinsic+json": {
              "type": "string"
            }
          },
          "metadata": {},
          "execution_count": 22
        }
      ]
    },
    {
      "cell_type": "code",
      "source": [
        "conversation.predict(input = \"what was first job?\")"
      ],
      "metadata": {
        "colab": {
          "base_uri": "https://localhost:8080/",
          "height": 89
        },
        "id": "dUwZCnBEUbv9",
        "outputId": "4e871f76-b0ee-4246-a9c2-77299aa5cb5e"
      },
      "execution_count": 23,
      "outputs": [
        {
          "output_type": "execute_result",
          "data": {
            "text/plain": [
              "'Melania Trump began her career as a model at a young age. She started modeling in her home country of Slovenia at the age of 16 and eventually moved to Milan, Italy, to pursue modeling professionally. Her first significant job as a model included working for notable fashion designers and appearing in various magazines. This career laid the foundation for her later work in the fashion industry and her public persona. If you’d like to know more about her modeling career or any specific jobs she held, feel free to ask!'"
            ],
            "application/vnd.google.colaboratory.intrinsic+json": {
              "type": "string"
            }
          },
          "metadata": {},
          "execution_count": 23
        }
      ]
    },
    {
      "cell_type": "code",
      "source": [
        "conversation.predict(input = \"What is her height?\")"
      ],
      "metadata": {
        "colab": {
          "base_uri": "https://localhost:8080/",
          "height": 53
        },
        "id": "slEcXIdNUkAC",
        "outputId": "19d70899-088c-472f-b759-8c6d82c2388b"
      },
      "execution_count": 24,
      "outputs": [
        {
          "output_type": "execute_result",
          "data": {
            "text/plain": [
              "'Melania Trump is approximately 5 feet 11 inches (180 cm) tall. Her height has often been noted in the media, especially in relation to her modeling career and public appearances. If you have any more questions about her or anything else, feel free to ask!'"
            ],
            "application/vnd.google.colaboratory.intrinsic+json": {
              "type": "string"
            }
          },
          "metadata": {},
          "execution_count": 24
        }
      ]
    },
    {
      "cell_type": "code",
      "source": [
        "conversation.predict(input = \"Did she won any awards in modelling?\")"
      ],
      "metadata": {
        "colab": {
          "base_uri": "https://localhost:8080/",
          "height": 107
        },
        "id": "Oe41kw_xUoBy",
        "outputId": "ca3a565b-09ad-4649-9a27-451792c58624"
      },
      "execution_count": 25,
      "outputs": [
        {
          "output_type": "execute_result",
          "data": {
            "text/plain": [
              "'Melania Trump has received several accolades during her modeling career, although she is not widely known for winning major fashion awards like some of her contemporaries. However, she gained recognition for her work in various fashion campaigns and magazine covers. \\n\\nOne notable mention is that she was named \"Model of the Year\" by the Slovenian magazine \"Vogue\" in 1992, which helped to elevate her profile in the industry. Additionally, she has worked with prestigious designers and brands, contributing to her reputation as a successful model. If you\\'re interested in learning more about her modeling career or specific projects she worked on, let me know!'"
            ],
            "application/vnd.google.colaboratory.intrinsic+json": {
              "type": "string"
            }
          },
          "metadata": {},
          "execution_count": 25
        }
      ]
    },
    {
      "cell_type": "code",
      "source": [
        "conversation.predict(input = \"What is her worth?\")"
      ],
      "metadata": {
        "colab": {
          "base_uri": "https://localhost:8080/",
          "height": 71
        },
        "id": "YadMRZEZUtn2",
        "outputId": "40d38b08-c517-4ef7-8f72-6be738389c68"
      },
      "execution_count": 26,
      "outputs": [
        {
          "output_type": "execute_result",
          "data": {
            "text/plain": [
              "\"Melania Trump's net worth is estimated to be around $50 million, though estimates can vary. Much of her wealth comes from her career as a model, her business ventures, and her marriage to Donald Trump. Before her time as First Lady, she had her own line of skincare products and has been involved in various business endeavors. If you have more specific questions about her financial background or any related topics, feel free to ask!\""
            ],
            "application/vnd.google.colaboratory.intrinsic+json": {
              "type": "string"
            }
          },
          "metadata": {},
          "execution_count": 26
        }
      ]
    },
    {
      "cell_type": "code",
      "source": [
        "conversation.predict(input = \"does she have kids?\")"
      ],
      "metadata": {
        "colab": {
          "base_uri": "https://localhost:8080/",
          "height": 53
        },
        "id": "qXbUPZt6UyvN",
        "outputId": "2e54279b-ae80-4445-e5b2-0f7309f00f7d"
      },
      "execution_count": 27,
      "outputs": [
        {
          "output_type": "execute_result",
          "data": {
            "text/plain": [
              "\"Yes, Melania Trump and Donald Trump have one son, Barron William Trump. He was born on March 20, 2006. Barron is currently a teenager and has generally maintained a low profile compared to his parents. If you'd like to know more about him or their family life, feel free to ask!\""
            ],
            "application/vnd.google.colaboratory.intrinsic+json": {
              "type": "string"
            }
          },
          "metadata": {},
          "execution_count": 27
        }
      ]
    },
    {
      "cell_type": "code",
      "source": [
        "conversation.predict(input = \"Does she love her son?\")"
      ],
      "metadata": {
        "colab": {
          "base_uri": "https://localhost:8080/",
          "height": 89
        },
        "id": "OfjNsU-3U5rr",
        "outputId": "843ec980-3857-420c-b14a-82d7870ddc69"
      },
      "execution_count": 28,
      "outputs": [
        {
          "output_type": "execute_result",
          "data": {
            "text/plain": [
              "\"While I can't speak to the personal feelings of Melania Trump, it is generally understood that parents have a deep love for their children. Melania has often been seen supporting Barron and attending events with him, indicating a caring relationship. However, specific feelings and emotions are private and can only be truly known by the individuals involved. If you have more questions about their family dynamics or anything else, feel free to ask!\""
            ],
            "application/vnd.google.colaboratory.intrinsic+json": {
              "type": "string"
            }
          },
          "metadata": {},
          "execution_count": 28
        }
      ]
    },
    {
      "cell_type": "code",
      "source": [
        "conversation.predict(input = \"how old is she now?\")"
      ],
      "metadata": {
        "colab": {
          "base_uri": "https://localhost:8080/",
          "height": 53
        },
        "id": "zL1eprBGVIMP",
        "outputId": "8f82316f-4a25-4dfb-a296-4e41594c1ae9"
      },
      "execution_count": 29,
      "outputs": [
        {
          "output_type": "execute_result",
          "data": {
            "text/plain": [
              "'As of now, Melania Trump is 53 years old, having been born on April 26, 1970. If you have any more questions or need information on a different topic, feel free to ask!'"
            ],
            "application/vnd.google.colaboratory.intrinsic+json": {
              "type": "string"
            }
          },
          "metadata": {},
          "execution_count": 29
        }
      ]
    },
    {
      "cell_type": "code",
      "source": [
        "conversation.predict(input = \"Is she still participating in modelling?\")"
      ],
      "metadata": {
        "colab": {
          "base_uri": "https://localhost:8080/",
          "height": 89
        },
        "id": "k2EtyQc2VMvN",
        "outputId": "5dcb7b16-8b43-4c08-836d-31a6601da5f2"
      },
      "execution_count": 30,
      "outputs": [
        {
          "output_type": "execute_result",
          "data": {
            "text/plain": [
              "'As of now, Melania Trump is not actively participating in modeling. After her marriage to Donald Trump and her role as First Lady of the United States, she has largely stepped back from her modeling career. While she previously had a successful modeling career, her focus has shifted to her family and her initiatives, such as her \"Be Best\" campaign during her time as First Lady. If you\\'re curious about her past modeling projects or her current activities, feel free to ask!'"
            ],
            "application/vnd.google.colaboratory.intrinsic+json": {
              "type": "string"
            }
          },
          "metadata": {},
          "execution_count": 30
        }
      ]
    },
    {
      "cell_type": "code",
      "source": [
        "conversation.predict(input = \"Does she host or own any such events?\")"
      ],
      "metadata": {
        "colab": {
          "base_uri": "https://localhost:8080/",
          "height": 107
        },
        "id": "tby1K8uYVSED",
        "outputId": "23ad6462-a2bb-4f0b-f93c-55cbf807bfd0"
      },
      "execution_count": 31,
      "outputs": [
        {
          "output_type": "execute_result",
          "data": {
            "text/plain": [
              "'Melania Trump does not currently host or own any major public events in the way she did during her modeling career or as First Lady. However, during her time in the White House, she was involved in various events, including state dinners and public appearances that supported her initiatives like the \"Be Best\" campaign. \\n\\nSince leaving the role of First Lady, she has maintained a lower public profile and has not been known to host large-scale events. Her focus appears to be more on family life and private endeavors rather than public hosting or event ownership. If you\\'re interested in specific types of events or initiatives she may have been involved with in the past, let me know!'"
            ],
            "application/vnd.google.colaboratory.intrinsic+json": {
              "type": "string"
            }
          },
          "metadata": {},
          "execution_count": 31
        }
      ]
    },
    {
      "cell_type": "code",
      "source": [
        "conversation.predict(input = \"How old is he?\")"
      ],
      "metadata": {
        "colab": {
          "base_uri": "https://localhost:8080/",
          "height": 53
        },
        "id": "zeoTeWiNVg4d",
        "outputId": "7ad77025-e01d-434d-fd24-800ab7576b85"
      },
      "execution_count": 32,
      "outputs": [
        {
          "output_type": "execute_result",
          "data": {
            "text/plain": [
              "'Donald Trump was born on June 14, 1946. As of now, he is 77 years old. If you have any more questions or need information on something else, feel free to ask!'"
            ],
            "application/vnd.google.colaboratory.intrinsic+json": {
              "type": "string"
            }
          },
          "metadata": {},
          "execution_count": 32
        }
      ]
    },
    {
      "cell_type": "code",
      "source": [
        "conversation.predict(input = \"how did he meet her?\")"
      ],
      "metadata": {
        "colab": {
          "base_uri": "https://localhost:8080/",
          "height": 107
        },
        "id": "8-1jqcIeVktH",
        "outputId": "45999949-b60c-4ce1-925f-7b67f8ddf10f"
      },
      "execution_count": 33,
      "outputs": [
        {
          "output_type": "execute_result",
          "data": {
            "text/plain": [
              "\"Donald Trump and Melania Trump (then Melania Knauss) met at a gala event in New York City in 1998. At the time, Melania was working as a model, and Trump was a prominent businessman and real estate mogul. Their meeting was facilitated by mutual friends, and they reportedly hit it off immediately. \\n\\nFollowing their initial meeting, they began dating, and their relationship garnered significant media attention. Trump proposed to Melania in 2004, and they got married on January 22, 2005, in a lavish ceremony at Mar-a-Lago in Palm Beach, Florida. If you'd like more details about their relationship or wedding, feel free to ask!\""
            ],
            "application/vnd.google.colaboratory.intrinsic+json": {
              "type": "string"
            }
          },
          "metadata": {},
          "execution_count": 33
        }
      ]
    },
    {
      "cell_type": "markdown",
      "source": [
        "### Exercise 2 : Travel Guide\n",
        "Implement a ConversationChain** using `ConversationSummaryMemory`. The LLM should act as a travel agent. Write code to have a conversation about planning a trip to a specific location.\n"
      ],
      "metadata": {
        "id": "ppxJYrstyunm"
      }
    },
    {
      "cell_type": "markdown",
      "source": [
        "####Hint"
      ],
      "metadata": {
        "id": "HXmDw3nKRNdc"
      }
    },
    {
      "cell_type": "code",
      "source": [
        "# Initialize ConversationSummaryMemory to keep track of overall conversation context\n",
        "buffer_memory = ConversationBufferMemory(memory_key=\"history\", return_messages=True)\n",
        "\n",
        "# Memory for summarizing the conversation\n",
        "summary_memory = ConversationSummaryMemory(llm=gpt4o_mini_model)\n",
        "\n",
        "# Set up the LLM to simulate a travel agent\n",
        "# Handle user input regarding travel plans and destination\n",
        "# Generate responses based on the conversation summary and display them"
      ],
      "metadata": {
        "id": "2F2aFkjEyNRb"
      },
      "execution_count": 36,
      "outputs": []
    },
    {
      "cell_type": "code",
      "source": [
        "c1 = ConversationChain(llm=gpt4o_mini_model, memory=summary_memory)\n",
        "c1.predict(input = \"Who is Trump\")"
      ],
      "metadata": {
        "id": "OO3NSLCaercR",
        "colab": {
          "base_uri": "https://localhost:8080/",
          "height": 125
        },
        "outputId": "145d7748-6b6b-4aaf-a087-46e1b6b4235d"
      },
      "execution_count": 38,
      "outputs": [
        {
          "output_type": "execute_result",
          "data": {
            "text/plain": [
              "'Donald Trump is an American businessman, television personality, and politician who served as the 45th president of the United States from January 20, 2017, to January 20, 2021. Before entering politics, he was known for his work in real estate as the president of The Trump Organization, which he inherited from his father. Trump gained fame as the host of the reality TV show \"The Apprentice.\" His presidency was marked by significant controversy, including his approach to immigration, international relations, and trade policies. He is a member of the Republican Party and has a very active presence on social media. After his presidency, he remained a prominent figure in American politics, often influencing the Republican Party and its direction. If you have any specific questions about his policies or background, feel free to ask!'"
            ],
            "application/vnd.google.colaboratory.intrinsic+json": {
              "type": "string"
            }
          },
          "metadata": {},
          "execution_count": 38
        }
      ]
    },
    {
      "cell_type": "code",
      "source": [
        "c1.predict(input=\"Who is his age?\")"
      ],
      "metadata": {
        "colab": {
          "base_uri": "https://localhost:8080/",
          "height": 53
        },
        "id": "vnsScCRJWNYz",
        "outputId": "a59cc025-e6ef-4a15-f942-ba93c74c5979"
      },
      "execution_count": 39,
      "outputs": [
        {
          "output_type": "execute_result",
          "data": {
            "text/plain": [
              "\"Donald Trump was born on June 14, 1946. As of now, that makes him 77 years old. If you're interested, I can share more about his early life, business ventures, or his time in office!\""
            ],
            "application/vnd.google.colaboratory.intrinsic+json": {
              "type": "string"
            }
          },
          "metadata": {},
          "execution_count": 39
        }
      ]
    }
  ]
}