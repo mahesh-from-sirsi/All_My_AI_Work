{
  "nbformat": 4,
  "nbformat_minor": 0,
  "metadata": {
    "colab": {
      "provenance": [],
      "include_colab_link": true
    },
    "kernelspec": {
      "name": "python3",
      "display_name": "Python 3"
    },
    "language_info": {
      "name": "python"
    }
  },
  "cells": [
    {
      "cell_type": "markdown",
      "metadata": {
        "id": "view-in-github",
        "colab_type": "text"
      },
      "source": [
        "<a href=\"https://colab.research.google.com/github/mahesh-from-sirsi/All_My_AI_Work/blob/main/MaheshVShet_buildFastWithAI_Module3_2_1_csv_to_jsonl.ipynb\" target=\"_parent\"><img src=\"https://colab.research.google.com/assets/colab-badge.svg\" alt=\"Open In Colab\"/></a>"
      ]
    },
    {
      "cell_type": "markdown",
      "source": [
        "###Function That Converts CSV TO Jsonl"
      ],
      "metadata": {
        "id": "79WqpyDwV9Tu"
      }
    },
    {
      "cell_type": "code",
      "execution_count": null,
      "metadata": {
        "id": "RRlbp4opTurK"
      },
      "outputs": [],
      "source": [
        "import csv\n",
        "import json\n",
        "import os\n",
        "\n",
        "def csv_to_jsonl(input_csv, output_jsonl):\n",
        "    # Define the system message\n",
        "    system_message = {\n",
        "        \"role\": \"system\",\n",
        "        \"content\": \"You are helpful assistant.\"\n",
        "    }\n",
        "\n",
        "    # Read the CSV file and convert to JSONL\n",
        "    with open(input_csv, 'r', newline='', encoding='utf-8') as csvfile, \\\n",
        "         open(output_jsonl, 'w', encoding='utf-8') as jsonlfile:\n",
        "\n",
        "        reader = csv.DictReader(csvfile)\n",
        "\n",
        "        for row in reader:\n",
        "            conversation = {\n",
        "                \"messages\": [\n",
        "                    system_message,\n",
        "                    {\"role\": \"user\", \"content\": row['Input']},\n",
        "                    {\"role\": \"assistant\", \"content\": row['Output']}\n",
        "                ]\n",
        "            }\n",
        "\n",
        "            jsonlfile.write(json.dumps(conversation) + '\\n')"
      ]
    },
    {
      "cell_type": "markdown",
      "source": [
        "###Usage"
      ],
      "metadata": {
        "id": "TbKHKTLOWCvY"
      }
    },
    {
      "cell_type": "code",
      "source": [
        "# Specify the paths\n",
        "input_csv = '/content/satvik_linkedin_posts - Sheet1.csv'  # Replace with your CSV file name\n",
        "output_jsonl = '/content/satvik_posts.jsonl'  # Replace with your desired output file name\n",
        "\n",
        "# Ensure the output directory exists\n",
        "os.makedirs(os.path.dirname(output_jsonl), exist_ok=True)\n",
        "\n",
        "# Run the conversion\n",
        "csv_to_jsonl(input_csv, output_jsonl)\n",
        "print(f\"Conversion complete. Output saved to {output_jsonl}\")"
      ],
      "metadata": {
        "colab": {
          "base_uri": "https://localhost:8080/"
        },
        "id": "j-Jmo3brVhxZ",
        "outputId": "1f125234-aedc-4a52-b778-0f34764dd8bd"
      },
      "execution_count": null,
      "outputs": [
        {
          "output_type": "stream",
          "name": "stdout",
          "text": [
            "Conversion complete. Output saved to /content/satvik_posts.jsonl\n"
          ]
        }
      ]
    }
  ]
}