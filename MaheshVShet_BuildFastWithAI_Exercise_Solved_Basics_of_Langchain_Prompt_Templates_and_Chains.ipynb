{
  "nbformat": 4,
  "nbformat_minor": 0,
  "metadata": {
    "colab": {
      "provenance": [],
      "include_colab_link": true
    },
    "kernelspec": {
      "name": "python3",
      "display_name": "Python 3"
    },
    "language_info": {
      "name": "python"
    }
  },
  "cells": [
    {
      "cell_type": "markdown",
      "metadata": {
        "id": "view-in-github",
        "colab_type": "text"
      },
      "source": [
        "<a href=\"https://colab.research.google.com/github/mahesh-from-sirsi/All_My_AI_Work/blob/main/MaheshVShet_BuildFastWithAI_Exercise_Solved_Basics_of_Langchain_Prompt_Templates_and_Chains.ipynb\" target=\"_parent\"><img src=\"https://colab.research.google.com/assets/colab-badge.svg\" alt=\"Open In Colab\"/></a>"
      ]
    },
    {
      "cell_type": "markdown",
      "source": [
        "###Exercise 1: Using Prompt Templates\n",
        "\n"
      ],
      "metadata": {
        "id": "WFAFgej4_0Qv"
      }
    },
    {
      "cell_type": "markdown",
      "source": [
        "Create a prompt template that generates a daily workout plan based on the user's fitness level and preferred workout type (e.g., cardio, strength training). Use the template to generate a workout plan for a beginner interested in cardio."
      ],
      "metadata": {
        "id": "GThxVaxw_3UR"
      }
    },
    {
      "cell_type": "code",
      "source": [
        "!pip install langchain==0.3.4 langchain-openai==0.2.12 langchain-google-genai==2.0.1"
      ],
      "metadata": {
        "colab": {
          "base_uri": "https://localhost:8080/"
        },
        "id": "WnRPpvaH3bJm",
        "outputId": "7a4290dd-a2ac-48b1-9d4f-9ca97c7b5a9c"
      },
      "execution_count": null,
      "outputs": [
        {
          "output_type": "stream",
          "name": "stdout",
          "text": [
            "Requirement already satisfied: langchain==0.3.4 in /usr/local/lib/python3.12/dist-packages (0.3.4)\n",
            "Requirement already satisfied: langchain-openai==0.2.12 in /usr/local/lib/python3.12/dist-packages (0.2.12)\n",
            "Requirement already satisfied: langchain-google-genai==2.0.1 in /usr/local/lib/python3.12/dist-packages (2.0.1)\n",
            "Requirement already satisfied: PyYAML>=5.3 in /usr/local/lib/python3.12/dist-packages (from langchain==0.3.4) (6.0.2)\n",
            "Requirement already satisfied: SQLAlchemy<3,>=1.4 in /usr/local/lib/python3.12/dist-packages (from langchain==0.3.4) (2.0.43)\n",
            "Requirement already satisfied: aiohttp<4.0.0,>=3.8.3 in /usr/local/lib/python3.12/dist-packages (from langchain==0.3.4) (3.12.15)\n",
            "Requirement already satisfied: langchain-core<0.4.0,>=0.3.12 in /usr/local/lib/python3.12/dist-packages (from langchain==0.3.4) (0.3.63)\n",
            "Requirement already satisfied: langchain-text-splitters<0.4.0,>=0.3.0 in /usr/local/lib/python3.12/dist-packages (from langchain==0.3.4) (0.3.8)\n",
            "Requirement already satisfied: langsmith<0.2.0,>=0.1.17 in /usr/local/lib/python3.12/dist-packages (from langchain==0.3.4) (0.1.147)\n",
            "Requirement already satisfied: numpy<2.0.0,>=1.26.0 in /usr/local/lib/python3.12/dist-packages (from langchain==0.3.4) (1.26.4)\n",
            "Requirement already satisfied: pydantic<3.0.0,>=2.7.4 in /usr/local/lib/python3.12/dist-packages (from langchain==0.3.4) (2.11.7)\n",
            "Requirement already satisfied: requests<3,>=2 in /usr/local/lib/python3.12/dist-packages (from langchain==0.3.4) (2.32.4)\n",
            "Requirement already satisfied: tenacity!=8.4.0,<10,>=8.1.0 in /usr/local/lib/python3.12/dist-packages (from langchain==0.3.4) (8.5.0)\n",
            "Requirement already satisfied: openai<2.0.0,>=1.55.3 in /usr/local/lib/python3.12/dist-packages (from langchain-openai==0.2.12) (1.106.0)\n",
            "Requirement already satisfied: tiktoken<1,>=0.7 in /usr/local/lib/python3.12/dist-packages (from langchain-openai==0.2.12) (0.11.0)\n",
            "Requirement already satisfied: google-generativeai<0.9.0,>=0.8.0 in /usr/local/lib/python3.12/dist-packages (from langchain-google-genai==2.0.1) (0.8.5)\n",
            "Requirement already satisfied: aiohappyeyeballs>=2.5.0 in /usr/local/lib/python3.12/dist-packages (from aiohttp<4.0.0,>=3.8.3->langchain==0.3.4) (2.6.1)\n",
            "Requirement already satisfied: aiosignal>=1.4.0 in /usr/local/lib/python3.12/dist-packages (from aiohttp<4.0.0,>=3.8.3->langchain==0.3.4) (1.4.0)\n",
            "Requirement already satisfied: attrs>=17.3.0 in /usr/local/lib/python3.12/dist-packages (from aiohttp<4.0.0,>=3.8.3->langchain==0.3.4) (25.3.0)\n",
            "Requirement already satisfied: frozenlist>=1.1.1 in /usr/local/lib/python3.12/dist-packages (from aiohttp<4.0.0,>=3.8.3->langchain==0.3.4) (1.7.0)\n",
            "Requirement already satisfied: multidict<7.0,>=4.5 in /usr/local/lib/python3.12/dist-packages (from aiohttp<4.0.0,>=3.8.3->langchain==0.3.4) (6.6.4)\n",
            "Requirement already satisfied: propcache>=0.2.0 in /usr/local/lib/python3.12/dist-packages (from aiohttp<4.0.0,>=3.8.3->langchain==0.3.4) (0.3.2)\n",
            "Requirement already satisfied: yarl<2.0,>=1.17.0 in /usr/local/lib/python3.12/dist-packages (from aiohttp<4.0.0,>=3.8.3->langchain==0.3.4) (1.20.1)\n",
            "Requirement already satisfied: google-ai-generativelanguage==0.6.15 in /usr/local/lib/python3.12/dist-packages (from google-generativeai<0.9.0,>=0.8.0->langchain-google-genai==2.0.1) (0.6.15)\n",
            "Requirement already satisfied: google-api-core in /usr/local/lib/python3.12/dist-packages (from google-generativeai<0.9.0,>=0.8.0->langchain-google-genai==2.0.1) (2.25.1)\n",
            "Requirement already satisfied: google-api-python-client in /usr/local/lib/python3.12/dist-packages (from google-generativeai<0.9.0,>=0.8.0->langchain-google-genai==2.0.1) (2.181.0)\n",
            "Requirement already satisfied: google-auth>=2.15.0 in /usr/local/lib/python3.12/dist-packages (from google-generativeai<0.9.0,>=0.8.0->langchain-google-genai==2.0.1) (2.38.0)\n",
            "Requirement already satisfied: protobuf in /usr/local/lib/python3.12/dist-packages (from google-generativeai<0.9.0,>=0.8.0->langchain-google-genai==2.0.1) (5.29.5)\n",
            "Requirement already satisfied: tqdm in /usr/local/lib/python3.12/dist-packages (from google-generativeai<0.9.0,>=0.8.0->langchain-google-genai==2.0.1) (4.67.1)\n",
            "Requirement already satisfied: typing-extensions in /usr/local/lib/python3.12/dist-packages (from google-generativeai<0.9.0,>=0.8.0->langchain-google-genai==2.0.1) (4.15.0)\n",
            "Requirement already satisfied: proto-plus<2.0.0dev,>=1.22.3 in /usr/local/lib/python3.12/dist-packages (from google-ai-generativelanguage==0.6.15->google-generativeai<0.9.0,>=0.8.0->langchain-google-genai==2.0.1) (1.26.1)\n",
            "Requirement already satisfied: jsonpatch<2.0,>=1.33 in /usr/local/lib/python3.12/dist-packages (from langchain-core<0.4.0,>=0.3.12->langchain==0.3.4) (1.33)\n",
            "Requirement already satisfied: packaging<25,>=23.2 in /usr/local/lib/python3.12/dist-packages (from langchain-core<0.4.0,>=0.3.12->langchain==0.3.4) (24.2)\n",
            "Requirement already satisfied: httpx<1,>=0.23.0 in /usr/local/lib/python3.12/dist-packages (from langsmith<0.2.0,>=0.1.17->langchain==0.3.4) (0.28.1)\n",
            "Requirement already satisfied: orjson<4.0.0,>=3.9.14 in /usr/local/lib/python3.12/dist-packages (from langsmith<0.2.0,>=0.1.17->langchain==0.3.4) (3.11.3)\n",
            "Requirement already satisfied: requests-toolbelt<2.0.0,>=1.0.0 in /usr/local/lib/python3.12/dist-packages (from langsmith<0.2.0,>=0.1.17->langchain==0.3.4) (1.0.0)\n",
            "Requirement already satisfied: anyio<5,>=3.5.0 in /usr/local/lib/python3.12/dist-packages (from openai<2.0.0,>=1.55.3->langchain-openai==0.2.12) (4.10.0)\n",
            "Requirement already satisfied: distro<2,>=1.7.0 in /usr/local/lib/python3.12/dist-packages (from openai<2.0.0,>=1.55.3->langchain-openai==0.2.12) (1.9.0)\n",
            "Requirement already satisfied: jiter<1,>=0.4.0 in /usr/local/lib/python3.12/dist-packages (from openai<2.0.0,>=1.55.3->langchain-openai==0.2.12) (0.10.0)\n",
            "Requirement already satisfied: sniffio in /usr/local/lib/python3.12/dist-packages (from openai<2.0.0,>=1.55.3->langchain-openai==0.2.12) (1.3.1)\n",
            "Requirement already satisfied: annotated-types>=0.6.0 in /usr/local/lib/python3.12/dist-packages (from pydantic<3.0.0,>=2.7.4->langchain==0.3.4) (0.7.0)\n",
            "Requirement already satisfied: pydantic-core==2.33.2 in /usr/local/lib/python3.12/dist-packages (from pydantic<3.0.0,>=2.7.4->langchain==0.3.4) (2.33.2)\n",
            "Requirement already satisfied: typing-inspection>=0.4.0 in /usr/local/lib/python3.12/dist-packages (from pydantic<3.0.0,>=2.7.4->langchain==0.3.4) (0.4.1)\n",
            "Requirement already satisfied: charset_normalizer<4,>=2 in /usr/local/lib/python3.12/dist-packages (from requests<3,>=2->langchain==0.3.4) (3.4.3)\n",
            "Requirement already satisfied: idna<4,>=2.5 in /usr/local/lib/python3.12/dist-packages (from requests<3,>=2->langchain==0.3.4) (3.10)\n",
            "Requirement already satisfied: urllib3<3,>=1.21.1 in /usr/local/lib/python3.12/dist-packages (from requests<3,>=2->langchain==0.3.4) (2.5.0)\n",
            "Requirement already satisfied: certifi>=2017.4.17 in /usr/local/lib/python3.12/dist-packages (from requests<3,>=2->langchain==0.3.4) (2025.8.3)\n",
            "Requirement already satisfied: greenlet>=1 in /usr/local/lib/python3.12/dist-packages (from SQLAlchemy<3,>=1.4->langchain==0.3.4) (3.2.4)\n",
            "Requirement already satisfied: regex>=2022.1.18 in /usr/local/lib/python3.12/dist-packages (from tiktoken<1,>=0.7->langchain-openai==0.2.12) (2024.11.6)\n",
            "Requirement already satisfied: googleapis-common-protos<2.0.0,>=1.56.2 in /usr/local/lib/python3.12/dist-packages (from google-api-core->google-generativeai<0.9.0,>=0.8.0->langchain-google-genai==2.0.1) (1.70.0)\n",
            "Requirement already satisfied: cachetools<6.0,>=2.0.0 in /usr/local/lib/python3.12/dist-packages (from google-auth>=2.15.0->google-generativeai<0.9.0,>=0.8.0->langchain-google-genai==2.0.1) (5.5.2)\n",
            "Requirement already satisfied: pyasn1-modules>=0.2.1 in /usr/local/lib/python3.12/dist-packages (from google-auth>=2.15.0->google-generativeai<0.9.0,>=0.8.0->langchain-google-genai==2.0.1) (0.4.2)\n",
            "Requirement already satisfied: rsa<5,>=3.1.4 in /usr/local/lib/python3.12/dist-packages (from google-auth>=2.15.0->google-generativeai<0.9.0,>=0.8.0->langchain-google-genai==2.0.1) (4.9.1)\n",
            "Requirement already satisfied: httpcore==1.* in /usr/local/lib/python3.12/dist-packages (from httpx<1,>=0.23.0->langsmith<0.2.0,>=0.1.17->langchain==0.3.4) (1.0.9)\n",
            "Requirement already satisfied: h11>=0.16 in /usr/local/lib/python3.12/dist-packages (from httpcore==1.*->httpx<1,>=0.23.0->langsmith<0.2.0,>=0.1.17->langchain==0.3.4) (0.16.0)\n",
            "Requirement already satisfied: jsonpointer>=1.9 in /usr/local/lib/python3.12/dist-packages (from jsonpatch<2.0,>=1.33->langchain-core<0.4.0,>=0.3.12->langchain==0.3.4) (3.0.0)\n",
            "Requirement already satisfied: httplib2<1.0.0,>=0.19.0 in /usr/local/lib/python3.12/dist-packages (from google-api-python-client->google-generativeai<0.9.0,>=0.8.0->langchain-google-genai==2.0.1) (0.30.0)\n",
            "Requirement already satisfied: google-auth-httplib2<1.0.0,>=0.2.0 in /usr/local/lib/python3.12/dist-packages (from google-api-python-client->google-generativeai<0.9.0,>=0.8.0->langchain-google-genai==2.0.1) (0.2.0)\n",
            "Requirement already satisfied: uritemplate<5,>=3.0.1 in /usr/local/lib/python3.12/dist-packages (from google-api-python-client->google-generativeai<0.9.0,>=0.8.0->langchain-google-genai==2.0.1) (4.2.0)\n",
            "Requirement already satisfied: grpcio<2.0.0,>=1.33.2 in /usr/local/lib/python3.12/dist-packages (from google-api-core[grpc]!=2.0.*,!=2.1.*,!=2.10.*,!=2.2.*,!=2.3.*,!=2.4.*,!=2.5.*,!=2.6.*,!=2.7.*,!=2.8.*,!=2.9.*,<3.0.0dev,>=1.34.1->google-ai-generativelanguage==0.6.15->google-generativeai<0.9.0,>=0.8.0->langchain-google-genai==2.0.1) (1.74.0)\n",
            "Requirement already satisfied: grpcio-status<2.0.0,>=1.33.2 in /usr/local/lib/python3.12/dist-packages (from google-api-core[grpc]!=2.0.*,!=2.1.*,!=2.10.*,!=2.2.*,!=2.3.*,!=2.4.*,!=2.5.*,!=2.6.*,!=2.7.*,!=2.8.*,!=2.9.*,<3.0.0dev,>=1.34.1->google-ai-generativelanguage==0.6.15->google-generativeai<0.9.0,>=0.8.0->langchain-google-genai==2.0.1) (1.71.2)\n",
            "Requirement already satisfied: pyparsing<4,>=3.0.4 in /usr/local/lib/python3.12/dist-packages (from httplib2<1.0.0,>=0.19.0->google-api-python-client->google-generativeai<0.9.0,>=0.8.0->langchain-google-genai==2.0.1) (3.2.3)\n",
            "Requirement already satisfied: pyasn1<0.7.0,>=0.6.1 in /usr/local/lib/python3.12/dist-packages (from pyasn1-modules>=0.2.1->google-auth>=2.15.0->google-generativeai<0.9.0,>=0.8.0->langchain-google-genai==2.0.1) (0.6.1)\n"
          ]
        }
      ]
    },
    {
      "cell_type": "code",
      "source": [
        "from langchain_openai import ChatOpenAI\n",
        "from langchain_google_genai import ChatGoogleGenerativeAI\n",
        "from langchain import PromptTemplate\n",
        "\n",
        "import os\n",
        "\n",
        "# Set up API keys for OpenAI and Google\n",
        "os.environ['OPENAI_API_KEY'] = \"\"\n",
        "os.environ['GOOGLE_API_KEY']  = \"\"\n",
        "\n",
        "gpt_4o_model = ChatOpenAI(model=\"gpt-4o-mini\")\n",
        "gemini_model = ChatGoogleGenerativeAI(model=\"gemini-1.5-flash-latest\")\n",
        "\n",
        "fitness_prompt_template = \"\"\"\n",
        "Generates a daily workout plan based on:\n",
        "1. The user's {fitness_level} level and\n",
        "2. Preferred {workout_type} type (e.g., cardio, strength training)\n",
        "\"\"\"\n",
        "fitness_prompt = PromptTemplate(\n",
        "                     template = fitness_prompt_template,\n",
        "                     input_variables=['fitness_level', 'workout_type']\n",
        ")\n",
        "\n",
        "\n",
        "\n",
        "\n"
      ],
      "metadata": {
        "id": "JFfwuwbK4TlL"
      },
      "execution_count": null,
      "outputs": []
    },
    {
      "cell_type": "markdown",
      "source": [
        "####Hint"
      ],
      "metadata": {
        "id": "m4rzQZqFA9NR"
      }
    },
    {
      "cell_type": "code",
      "execution_count": null,
      "metadata": {
        "id": "qBGyKRl5_pLG",
        "colab": {
          "base_uri": "https://localhost:8080/"
        },
        "outputId": "d2bbd881-586c-4b1a-dfa4-0793f9753bc3"
      },
      "outputs": [
        {
          "output_type": "stream",
          "name": "stdout",
          "text": [
            "\n",
            "Generates a daily workout plan based on:\n",
            "1. The user's beginner level and \n",
            "2. Preferred cardio type (e.g., cardio, strength training)\n",
            "\n"
          ]
        }
      ],
      "source": [
        "# Example: User describes a workout plan for a beginner interested in cardio.\n",
        "fitness_level = \"beginner\"\n",
        "workout_type = \"cardio\"\n",
        "\n",
        "# Logic: Use a prompt template to generate the workout plan.\n",
        "# Hint: Initialize the template and use `format` to fill in the placeholders.\n",
        "# Generating the prompt\n",
        "prompt = fitness_prompt.format(\n",
        "    fitness_level=fitness_level,\n",
        "    workout_type=workout_type\n",
        ")\n",
        "\n",
        "print(prompt)"
      ]
    },
    {
      "cell_type": "code",
      "source": [],
      "metadata": {
        "id": "_Sn9rGw3KpGZ"
      },
      "execution_count": null,
      "outputs": []
    },
    {
      "cell_type": "markdown",
      "source": [
        "###Exercise 2: Using LLM Chains\n",
        "\n"
      ],
      "metadata": {
        "id": "orRvA_FcBvvG"
      }
    },
    {
      "cell_type": "markdown",
      "source": [
        "Write an LLM chain that uses the GPT-4 model to generate a recipe based on a user's preferred cuisine and dietary restrictions (e.g., vegan, gluten-free). Use the chain to generate a vegan Italian recipe."
      ],
      "metadata": {
        "id": "pP2tCKNLBzmg"
      }
    },
    {
      "cell_type": "code",
      "source": [
        "from langchain import LLMChain\n",
        "\n",
        "recipe_prompt_template = PromptTemplate(template = \"generate a recipe based on a user's preferred {cuisine} and {dietary_restrictions} (e.g., vegan, gluten-free)\",\n",
        "                                        input_variables = ['cuisine','dietary_restrictions'])\n",
        "\n"
      ],
      "metadata": {
        "id": "OspvY1Sp7Awx"
      },
      "execution_count": null,
      "outputs": []
    },
    {
      "cell_type": "code",
      "source": [
        "# Example: User requests a vegan Italian recipe.\n",
        "dietary_restrictions = \"vegan\"\n",
        "cuisine = \"Italian\"\n",
        "\n",
        "fitness_chain = recipe_prompt_template|gpt_4o_model\n",
        "# Logic: Use an LLM chain to generate the recipe.\n",
        "# Hint: Initialize the chain and use `run` to send the request.\n",
        "response = fitness_chain.invoke({\"dietary_restrictions\": dietary_restrictions, \"cuisine\": cuisine})\n",
        "print(response)"
      ],
      "metadata": {
        "id": "f9RZ_QzLBwoy",
        "colab": {
          "base_uri": "https://localhost:8080/"
        },
        "outputId": "35c56b66-00a5-4eb9-9c11-f8b241ae7f09"
      },
      "execution_count": null,
      "outputs": [
        {
          "output_type": "stream",
          "name": "stdout",
          "text": [
            "content='Sure! Here’s a delicious vegan and gluten-free Italian recipe for **Zucchini Noodles with Avocado Pesto**.\\n\\n### Zucchini Noodles with Avocado Pesto\\n\\n#### Ingredients\\n\\n**For the Zucchini Noodles:**\\n- 4 medium zucchinis\\n- 1 tablespoon olive oil\\n- Salt and pepper to taste\\n\\n**For the Avocado Pesto:**\\n- 2 ripe avocados\\n- 1 cup fresh basil leaves\\n- 2 cloves garlic, minced\\n- 2 tablespoons lemon juice\\n- 1/4 cup nutritional yeast (for a cheesy flavor)\\n- 1/4 cup pine nuts (you can substitute with walnuts or sunflower seeds)\\n- Salt and pepper to taste\\n- Water (as needed for consistency)\\n\\n**Optional Toppings:**\\n- Cherry tomatoes, halved\\n- Pine nuts, toasted\\n- Fresh basil leaves\\n\\n#### Instructions\\n\\n1. **Prepare the Zucchini Noodles:**\\n   - Use a spiralizer or a vegetable peeler to create noodles from the zucchinis. If using a peeler, make long, thin strips.\\n   - In a large skillet, heat the olive oil over medium heat. Add the zucchini noodles and sauté for about 3-5 minutes, just until they are slightly tender. Season with salt and pepper. Remove from heat and set aside.\\n\\n2. **Make the Avocado Pesto:**\\n   - In a food processor, combine the avocados, basil leaves, minced garlic, lemon juice, nutritional yeast, and pine nuts. Blend until smooth.\\n   - If the pesto is too thick, add water a tablespoon at a time until you reach your desired consistency. Season with salt and pepper to taste.\\n\\n3. **Combine:**\\n   - In a large bowl, mix the zucchini noodles with the avocado pesto until well coated.\\n\\n4. **Serve:**\\n   - Divide the zucchini noodles into serving bowls. Top with halved cherry tomatoes, extra pine nuts, and fresh basil leaves if desired.\\n\\n5. **Enjoy:**\\n   - Serve immediately and enjoy your fresh, flavorful, and healthy vegan Italian dish!\\n\\n### Tips:\\n- You can add sautéed mushrooms or roasted bell peppers to the dish for extra flavor and nutrition.\\n- If you prefer a warm dish, you can cook the zucchini noodles for longer, but be careful not to overcook them, as they may become mushy.\\n\\nThis recipe is simple, refreshing, and packed with nutrients while being entirely vegan and gluten-free. Enjoy your meal!' additional_kwargs={'refusal': None} response_metadata={'token_usage': {'completion_tokens': 514, 'prompt_tokens': 27, 'total_tokens': 541, 'completion_tokens_details': {'accepted_prediction_tokens': 0, 'audio_tokens': 0, 'reasoning_tokens': 0, 'rejected_prediction_tokens': 0}, 'prompt_tokens_details': {'audio_tokens': 0, 'cached_tokens': 0}}, 'model_name': 'gpt-4o-mini-2024-07-18', 'system_fingerprint': 'fp_8bda4d3a2c', 'finish_reason': 'stop', 'logprobs': None} id='run--a830e720-c3f8-4172-afd6-196ebc9623d9-0' usage_metadata={'input_tokens': 27, 'output_tokens': 514, 'total_tokens': 541, 'input_token_details': {'audio': 0, 'cache_read': 0}, 'output_token_details': {'audio': 0, 'reasoning': 0}}\n"
          ]
        }
      ]
    },
    {
      "cell_type": "code",
      "source": [
        "print(response.content)"
      ],
      "metadata": {
        "id": "TDQ2DsKfKpfo",
        "colab": {
          "base_uri": "https://localhost:8080/"
        },
        "outputId": "4239cf5c-581c-4ef0-8183-4f5ba0a7905e"
      },
      "execution_count": null,
      "outputs": [
        {
          "output_type": "stream",
          "name": "stdout",
          "text": [
            "Sure! Here’s a delicious vegan and gluten-free Italian recipe for **Zucchini Noodles with Avocado Pesto**.\n",
            "\n",
            "### Zucchini Noodles with Avocado Pesto\n",
            "\n",
            "#### Ingredients\n",
            "\n",
            "**For the Zucchini Noodles:**\n",
            "- 4 medium zucchinis\n",
            "- 1 tablespoon olive oil\n",
            "- Salt and pepper to taste\n",
            "\n",
            "**For the Avocado Pesto:**\n",
            "- 2 ripe avocados\n",
            "- 1 cup fresh basil leaves\n",
            "- 2 cloves garlic, minced\n",
            "- 2 tablespoons lemon juice\n",
            "- 1/4 cup nutritional yeast (for a cheesy flavor)\n",
            "- 1/4 cup pine nuts (you can substitute with walnuts or sunflower seeds)\n",
            "- Salt and pepper to taste\n",
            "- Water (as needed for consistency)\n",
            "\n",
            "**Optional Toppings:**\n",
            "- Cherry tomatoes, halved\n",
            "- Pine nuts, toasted\n",
            "- Fresh basil leaves\n",
            "\n",
            "#### Instructions\n",
            "\n",
            "1. **Prepare the Zucchini Noodles:**\n",
            "   - Use a spiralizer or a vegetable peeler to create noodles from the zucchinis. If using a peeler, make long, thin strips.\n",
            "   - In a large skillet, heat the olive oil over medium heat. Add the zucchini noodles and sauté for about 3-5 minutes, just until they are slightly tender. Season with salt and pepper. Remove from heat and set aside.\n",
            "\n",
            "2. **Make the Avocado Pesto:**\n",
            "   - In a food processor, combine the avocados, basil leaves, minced garlic, lemon juice, nutritional yeast, and pine nuts. Blend until smooth.\n",
            "   - If the pesto is too thick, add water a tablespoon at a time until you reach your desired consistency. Season with salt and pepper to taste.\n",
            "\n",
            "3. **Combine:**\n",
            "   - In a large bowl, mix the zucchini noodles with the avocado pesto until well coated.\n",
            "\n",
            "4. **Serve:**\n",
            "   - Divide the zucchini noodles into serving bowls. Top with halved cherry tomatoes, extra pine nuts, and fresh basil leaves if desired.\n",
            "\n",
            "5. **Enjoy:**\n",
            "   - Serve immediately and enjoy your fresh, flavorful, and healthy vegan Italian dish!\n",
            "\n",
            "### Tips:\n",
            "- You can add sautéed mushrooms or roasted bell peppers to the dish for extra flavor and nutrition.\n",
            "- If you prefer a warm dish, you can cook the zucchini noodles for longer, but be careful not to overcook them, as they may become mushy.\n",
            "\n",
            "This recipe is simple, refreshing, and packed with nutrients while being entirely vegan and gluten-free. Enjoy your meal!\n"
          ]
        }
      ]
    },
    {
      "cell_type": "markdown",
      "source": [
        "###Exercise 3: Using Gemini Models\n",
        "\n"
      ],
      "metadata": {
        "id": "43AatAvdCy3m"
      }
    },
    {
      "cell_type": "markdown",
      "source": [
        "Use the Google Gemini Flash model to generate a travel itinerary for a 3-day trip to Paris. The itinerary should include activities for each day."
      ],
      "metadata": {
        "id": "IOMj-x_CCtgH"
      }
    },
    {
      "cell_type": "code",
      "source": [
        "from re import template\n",
        "# Example: User requests a 3-day travel itinerary for Paris.\n",
        "itinerary_request = \"Create a {days} travel itinerary for {location}, including activities for each day.\"\n",
        "\n",
        "iternary_request_prompt = PromptTemplate(template = itinerary_request,\n",
        "                                         input_variables = ['days', 'location'])\n",
        "\n",
        "iternary_chain = iternary_request_prompt|gemini_model\n",
        "\n",
        "# Logic: Use Gemini Flash to generate the itinerary.\n",
        "# Hint: Initialize the model and use `invoke` to send the request."
      ],
      "metadata": {
        "id": "BkASnllmCuP2"
      },
      "execution_count": null,
      "outputs": []
    },
    {
      "cell_type": "code",
      "source": [
        "response = iternary_chain.invoke({\"days\": 3, \"location\": \"Paris\"})\n",
        "print(response.content)"
      ],
      "metadata": {
        "id": "6yVcGnMaKp7f",
        "colab": {
          "base_uri": "https://localhost:8080/"
        },
        "outputId": "29923ed7-9b1e-417f-b267-0fe1a136923b"
      },
      "execution_count": null,
      "outputs": [
        {
          "output_type": "stream",
          "name": "stdout",
          "text": [
            "## 3-Day Paris Itinerary: A Blend of Iconic & Unique\n",
            "\n",
            "This itinerary balances iconic Parisian landmarks with less-touristy experiences, catering to a moderate activity level.  Adjust it based on your interests and pace.\n",
            "\n",
            "**Day 1: Iconic Paris & Charming Montmartre**\n",
            "\n",
            "* **Morning (9:00 AM):** Start at the **Eiffel Tower**. Pre-book tickets to avoid long queues. Ascend for breathtaking panoramic views.\n",
            "* **Late Morning (11:00 AM):** Stroll along the **Champ de Mars**, enjoying the atmosphere and perhaps grabbing a coffee.\n",
            "* **Lunch (1:00 PM):** Enjoy a classic Parisian lunch at a bistro near the Eiffel Tower or pack a picnic to enjoy in the Champ de Mars.\n",
            "* **Afternoon (2:30 PM):** Take a scenic boat tour on the **Seine River**. This offers a different perspective of the city's landmarks.\n",
            "* **Late Afternoon (4:00 PM):** Explore **Montmartre**, the artistic heart of Paris. Wander through the charming streets, visit the **Sacré-Cœur Basilica**, and enjoy street performers in **Place du Tertre**.\n",
            "* **Evening (6:00 PM):**  Enjoy dinner in Montmartre, choosing from traditional French restaurants or more casual options. Consider a cabaret show at the Moulin Rouge (book well in advance!).\n",
            "\n",
            "\n",
            "**Day 2: Louvre Masterpieces & Royal Grandeur**\n",
            "\n",
            "* **Morning (9:00 AM):** Dedicate the morning to the **Louvre Museum**.  Focus on key works like the Mona Lisa and Venus de Milo to avoid feeling overwhelmed. Pre-booking tickets is highly recommended. Consider a guided tour to maximize your time.\n",
            "* **Lunch (1:00 PM):**  Grab a quick and delicious lunch at a cafe near the Louvre or pack a picnic to enjoy in the Tuileries Garden.\n",
            "* **Afternoon (2:30 PM):** Explore the **Tuileries Garden**, a beautiful formal garden connecting the Louvre to Place de la Concorde.\n",
            "* **Late Afternoon (4:00 PM):** Visit the **Palace of Versailles**.  Allow ample time to explore the palace, gardens, and Marie Antoinette's Estate.  Consider taking the RER C train for easy access.\n",
            "* **Evening (7:00 PM):** Enjoy dinner near your hotel or in a neighborhood of your choice.\n",
            "\n",
            "\n",
            "**Day 3: Latin Quarter Charm & Hidden Gems**\n",
            "\n",
            "* **Morning (9:00 AM):** Explore the **Latin Quarter**, known for its student atmosphere and historical significance. Visit the **Panthéon**, the **Sorbonne University**, and wander through the charming streets.\n",
            "* **Late Morning (11:00 AM):**  Browse the **Shakespeare and Company** bookstore, a legendary English-language bookstore with a rich history.\n",
            "* **Lunch (1:00 PM):** Enjoy lunch in the Latin Quarter, choosing from crêperies, bistros, or falafel stands.\n",
            "* **Afternoon (2:30 PM):** Visit the **Musée d'Orsay**, housed in a stunning former railway station, showcasing Impressionist and Post-Impressionist art.\n",
            "* **Late Afternoon (4:30 PM):**  Take a leisurely walk along the **Seine River**, perhaps crossing one of the iconic bridges.\n",
            "* **Evening (6:00 PM):** Enjoy a final Parisian dinner, perhaps trying a different type of cuisine or revisiting a favorite spot.  Consider a final stroll along the Seine before heading back to your accommodation.\n",
            "\n",
            "\n",
            "**Important Notes:**\n",
            "\n",
            "* **Transportation:** Utilize the efficient Paris Metro system. Purchase a Navigo Découverte pass for unlimited travel within zones 1-5.\n",
            "* **Food:**  Take advantage of the many boulangeries, patisseries, and cafes for delicious and affordable meals and snacks.\n",
            "* **Reservations:**  Book accommodations, popular attractions (Eiffel Tower, Louvre, Versailles, shows), and potentially restaurants in advance, especially during peak season.\n",
            "* **Flexibility:** This is just a suggestion; feel free to adjust it based on your interests and energy levels.  Allow for spontaneous discoveries!\n",
            "\n",
            "\n",
            "Enjoy your Parisian adventure!\n",
            "\n"
          ]
        }
      ]
    },
    {
      "cell_type": "markdown",
      "source": [
        "###Exercise 4: Combining Prompt Templates and LLM Chains\n",
        "\n"
      ],
      "metadata": {
        "id": "Mzk-IU_hELYu"
      }
    },
    {
      "cell_type": "markdown",
      "source": [
        "Create an LLM chain that uses a prompt template to generate a business plan for a startup. The template should include placeholders for the business type, target market, and unique selling proposition (USP)."
      ],
      "metadata": {
        "id": "w4KUePPnEPl-"
      }
    },
    {
      "cell_type": "code",
      "source": [
        "# Example: User describes a business plan for an eco-friendly clothing brand.\n",
        "business_type = \"eco-friendly clothing brand\"\n",
        "target_market = \"environmentally conscious consumers\"\n",
        "usp = \"sustainable materials and ethical manufacturing\"\n",
        "\n",
        "# Logic: Use an LLM chain to generate the business plan.\n",
        "# Hint: Initialize the chain and use `run` to send the request."
      ],
      "metadata": {
        "id": "yaYTX02rEM6u"
      },
      "execution_count": null,
      "outputs": []
    },
    {
      "cell_type": "code",
      "source": [
        "business_plan_template = PromptTemplate(template = \"Generate a business plan for a startup. The business plan should include details for the {business_type}, {target_market}, and {usp} (USP)\",\n",
        "                                        input_variables = ['business_type', 'target_market', 'usp'])\n",
        "\n",
        "business_plan_chain = business_plan_template|gpt_4o_model\n",
        "\n",
        "response = business_plan_chain.invoke({\"business_type\": business_type, \"target_market\": target_market, \"usp\": usp})\n",
        "print(response.content)\n",
        "\n"
      ],
      "metadata": {
        "id": "xXFk8Y7fKqdn",
        "colab": {
          "base_uri": "https://localhost:8080/"
        },
        "outputId": "b36fa0d9-5391-4d18-9415-05aa7beefc94"
      },
      "execution_count": null,
      "outputs": [
        {
          "output_type": "stream",
          "name": "stdout",
          "text": [
            "# Business Plan for EcoThreads: An Eco-Friendly Clothing Brand\n",
            "\n",
            "## Executive Summary\n",
            "**Business Name:** EcoThreads  \n",
            "**Business Structure:** Limited Liability Company (LLC)  \n",
            "**Location:** Online with pop-up stores in select cities  \n",
            "**Mission Statement:** EcoThreads is committed to providing sustainable, stylish, and ethically produced clothing for environmentally conscious consumers. By using eco-friendly materials and ethical manufacturing practices, we aim to reduce the fashion industry's impact on the planet while promoting a lifestyle of sustainability.\n",
            "\n",
            "## Business Objectives\n",
            "1. Achieve a gross revenue of $500,000 in the first year.\n",
            "2. Build a loyal customer base of at least 5,000 repeat customers within the first two years.\n",
            "3. Establish partnerships with at least 10 ethical manufacturers and sustainable material suppliers by year two.\n",
            "4. Launch a community outreach program focused on sustainability education by the end of year three.\n",
            "\n",
            "## Market Analysis\n",
            "### Industry Overview\n",
            "The global sustainable fashion market is expected to grow significantly, driven by increasing awareness of environmental issues and a shift towards more ethical consumer behavior. Eco-friendly clothing brands are positioned to capture a share of this emerging market.\n",
            "\n",
            "### Target Market\n",
            "EcoThreads will primarily target:\n",
            "- **Demographics:** Environmentally conscious consumers aged 18-45, predominantly urban dwellers with disposable income.\n",
            "- **Psychographics:** Consumers who prioritize sustainability, are willing to pay a premium for ethical products, and engage with brands that align with their values.\n",
            "\n",
            "### Market Trends\n",
            "- Increased demand for transparency in supply chains.\n",
            "- Growth in the use of sustainable materials (organic cotton, recycled polyester, Tencel, etc.).\n",
            "- Rising popularity of second-hand shopping and rental models.\n",
            "\n",
            "### Competitive Analysis\n",
            "Key competitors include established eco-friendly brands (e.g., Patagonia, Everlane) and emerging startups. EcoThreads will differentiate itself through its unique blend of high-quality, fashionable designs, transparency in manufacturing processes, and community engagement initiatives.\n",
            "\n",
            "## Unique Selling Proposition (USP)\n",
            "EcoThreads stands out by offering:\n",
            "1. **Sustainable Materials:** We use organic cotton, hemp, Tencel, and recycled materials exclusively.\n",
            "2. **Ethical Manufacturing:** Our products are made in factories that ensure fair wages, safe working conditions, and minimal environmental impact.\n",
            "3. **Transparency:** We provide complete information about our supply chain and production processes, fostering trust and loyalty among consumers.\n",
            "4. **Community Engagement:** A portion of profits will be reinvested into sustainability education programs and local environmental initiatives.\n",
            "\n",
            "## Marketing Strategy\n",
            "### Branding\n",
            "- Develop a strong brand identity focused on sustainability, style, and community.\n",
            "- Use eco-friendly packaging and materials for all shipping and promotional materials.\n",
            "\n",
            "### Online Presence\n",
            "- Create an e-commerce website optimized for user experience and SEO.\n",
            "- Utilize social media platforms (Instagram, TikTok, Pinterest) to showcase products, share sustainability tips, and engage with the community.\n",
            "\n",
            "### Content Marketing\n",
            "- Launch a blog and video series on sustainability topics, ethical fashion, and lifestyle tips.\n",
            "- Collaborate with eco-influencers to reach a broader audience.\n",
            "\n",
            "### Email Marketing\n",
            "- Build an email list through website sign-ups and social media promotions.\n",
            "- Send regular newsletters featuring new products, sustainability news, and exclusive offers.\n",
            "\n",
            "### Offline Marketing\n",
            "- Organize pop-up shops in eco-conscious cities, partnering with local artists and sustainability organizations.\n",
            "- Participate in local markets and fairs to increase brand visibility.\n",
            "\n",
            "## Operations Plan\n",
            "### Production Process\n",
            "1. **Design:** Collaborate with eco-conscious designers to create stylish and unique clothing lines.\n",
            "2. **Sourcing:** Partner with certified suppliers of sustainable materials.\n",
            "3. **Manufacturing:** Work with ethical factories that adhere to fair labor practices and environmental standards.\n",
            "4. **Quality Control:** Implement rigorous quality checks to ensure all products meet sustainability and design standards.\n",
            "\n",
            "### Logistics\n",
            "- Utilize eco-friendly packaging for shipping.\n",
            "- Partner with green logistics companies that prioritize reduced carbon emissions.\n",
            "\n",
            "## Financial Plan\n",
            "### Startup Costs\n",
            "- Initial inventory: $150,000\n",
            "- Website development: $10,000\n",
            "- Marketing and advertising: $20,000\n",
            "- Operational expenses (rent, utilities, payroll): $30,000\n",
            "- Miscellaneous (legal, accounting, etc.): $5,000  \n",
            "**Total Startup Costs:** $215,000\n",
            "\n",
            "### Revenue Streams\n",
            "1. Direct sales through the e-commerce website.\n",
            "2. Wholesale partnerships with eco-friendly boutiques and retailers.\n",
            "3. Subscription box service featuring curated sustainable fashion items.\n",
            "\n",
            "### Financial Projections\n",
            "- **Year 1:** $500,000 revenue, $100,000 profit.\n",
            "- **Year 2:** $1,000,000 revenue, $250,000 profit.\n",
            "- **Year 3:** $1,500,000 revenue, $400,000 profit.\n",
            "\n",
            "## Conclusion\n",
            "EcoThreads aims to revolutionize the fashion industry by providing stylish, sustainable apparel that aligns with the values of environmentally conscious consumers. Through our commitment to ethical manufacturing and community engagement, we will create a brand that not only meets the needs of our customers but also contributes positively to the planet. With a solid business plan and a clear vision, EcoThreads is poised for success in the growing sustainable fashion market.\n"
          ]
        }
      ]
    }
  ]
}