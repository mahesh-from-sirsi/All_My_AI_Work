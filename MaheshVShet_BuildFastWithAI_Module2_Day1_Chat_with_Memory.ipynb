{
  "cells": [
    {
      "cell_type": "markdown",
      "metadata": {
        "id": "view-in-github",
        "colab_type": "text"
      },
      "source": [
        "<a href=\"https://colab.research.google.com/github/mahesh-from-sirsi/All_My_AI_Work/blob/main/MaheshVShet_BuildFastWithAI_Module2_Day1_Chat_with_Memory.ipynb\" target=\"_parent\"><img src=\"https://colab.research.google.com/assets/colab-badge.svg\" alt=\"Open In Colab\"/></a>"
      ]
    },
    {
      "cell_type": "markdown",
      "metadata": {
        "id": "TplHAzzQ_k81"
      },
      "source": [
        "# Chat with Memory\n",
        "\n",
        "\n"
      ]
    },
    {
      "cell_type": "markdown",
      "metadata": {
        "id": "adDLNsW56YWS"
      },
      "source": [
        "### Basic Setup"
      ]
    },
    {
      "cell_type": "code",
      "execution_count": 2,
      "metadata": {
        "id": "4Q2V8Z9VMm5A"
      },
      "outputs": [],
      "source": [
        "!pip install -qU langchain==0.3.4 langchain-openai==0.2.12 langchain-together==0.2.0"
      ]
    },
    {
      "cell_type": "markdown",
      "metadata": {
        "id": "cbA9knJEiPi9"
      },
      "source": [
        "- Get OpenAI API key: https://platform.openai.com/account/api-keys\n",
        "- Get Together AI API key: https://api.together.xyz/settings/api-keys"
      ]
    },
    {
      "cell_type": "code",
      "execution_count": 3,
      "metadata": {
        "id": "Hf6OmfQjgEWm"
      },
      "outputs": [],
      "source": [
        "import os\n",
        "\n",
        "os.environ['OPENAI_API_KEY'] = \"\""
      ]
    },
    {
      "cell_type": "code",
      "execution_count": 4,
      "metadata": {
        "id": "kopsuc39uhkD"
      },
      "outputs": [],
      "source": [
        "# Using OpenAI Models\n",
        "from langchain_openai import ChatOpenAI\n",
        "gpt4o_mini_model = ChatOpenAI(model = \"gpt-4o-mini\")\n"
      ]
    },
    {
      "cell_type": "code",
      "execution_count": 5,
      "metadata": {
        "id": "Q2yjLXjDy0WN"
      },
      "outputs": [],
      "source": [
        "# Using a Llama Model with Together AI! [CLASSWORK]\n",
        "\n",
        "from langchain_openai import ChatOpenAI\n",
        "\n",
        "llama_model = ChatOpenAI(model = \"meta-llama/Llama-3.2-90B-Vision-Instruct-Turbo\",\n",
        "                      openai_api_key = \"\", ## use your key\n",
        "                      openai_api_base = \"https://api.together.xyz/v1\"\n",
        "\n",
        ")"
      ]
    },
    {
      "cell_type": "markdown",
      "metadata": {
        "id": "pymDcYe_E6Fo"
      },
      "source": [
        "### Using the LLM without Memory"
      ]
    },
    {
      "cell_type": "code",
      "execution_count": 6,
      "metadata": {
        "id": "dmFJ9nAzGuWy",
        "colab": {
          "base_uri": "https://localhost:8080/"
        },
        "outputId": "c3ff94a6-ec4c-4009-b0a3-80626a2aa98f"
      },
      "outputs": [
        {
          "output_type": "stream",
          "name": "stdout",
          "text": [
            "The first Black president of the United States is Barack Obama. He served as the 44th president from January 20, 2009, to January 20, 2017.\n"
          ]
        }
      ],
      "source": [
        "response = gpt4o_mini_model.invoke('Who is the first black president of USA?')\n",
        "print(response.content)"
      ]
    },
    {
      "cell_type": "code",
      "execution_count": 7,
      "metadata": {
        "id": "xqe7RIFQHBxo",
        "colab": {
          "base_uri": "https://localhost:8080/"
        },
        "outputId": "15e7621e-a575-4944-a86a-927a0ef52db2"
      },
      "outputs": [
        {
          "output_type": "stream",
          "name": "stdout",
          "text": [
            "Could you please provide the name of the person you are asking about?\n"
          ]
        }
      ],
      "source": [
        "response = gpt4o_mini_model.invoke('When was he born?')\n",
        "print(response.content)"
      ]
    },
    {
      "cell_type": "markdown",
      "metadata": {
        "id": "gZjcRDBzE6Fp"
      },
      "source": [
        "### Using the LLM with Memory"
      ]
    },
    {
      "cell_type": "code",
      "execution_count": 8,
      "metadata": {
        "id": "PcqdTaTsE6Fq"
      },
      "outputs": [],
      "source": [
        "from langchain_openai import ChatOpenAI\n",
        "from langchain import ConversationChain\n",
        "from langchain.memory import ConversationBufferMemory, ConversationSummaryMemory"
      ]
    },
    {
      "cell_type": "code",
      "execution_count": 9,
      "metadata": {
        "id": "pkVvSJbLE6Fq",
        "colab": {
          "base_uri": "https://localhost:8080/"
        },
        "outputId": "d52856b1-703f-4869-8864-aa5e2716bb84"
      },
      "outputs": [
        {
          "output_type": "stream",
          "name": "stderr",
          "text": [
            "/tmp/ipython-input-3841730247.py:2: LangChainDeprecationWarning: Please see the migration guide at: https://python.langchain.com/docs/versions/migrating_memory/\n",
            "  memory = ConversationBufferMemory(k = 3)\n",
            "/tmp/ipython-input-3841730247.py:5: LangChainDeprecationWarning: The class `ConversationChain` was deprecated in LangChain 0.2.7 and will be removed in 1.0. Use :meth:`~RunnableWithMessageHistory: https://python.langchain.com/v0.2/api_reference/core/runnables/langchain_core.runnables.history.RunnableWithMessageHistory.html` instead.\n",
            "  conversation = ConversationChain(\n"
          ]
        }
      ],
      "source": [
        "gpt4o_mini_model = ChatOpenAI(model = \"gpt-4o-mini\")\n",
        "memory = ConversationBufferMemory(k = 3)\n",
        "#memory = ConversationSummaryMemory(llm = gpt4o_mini_model)\n",
        "\n",
        "conversation = ConversationChain(\n",
        "    llm=gpt4o_mini_model,\n",
        "    memory = memory\n",
        ")"
      ]
    },
    {
      "cell_type": "code",
      "execution_count": 10,
      "metadata": {
        "id": "5zhzPYAuE6Fq",
        "outputId": "cdf72447-016a-4031-ad19-b09c9b601fc3",
        "colab": {
          "base_uri": "https://localhost:8080/",
          "height": 89
        }
      },
      "outputs": [
        {
          "output_type": "execute_result",
          "data": {
            "text/plain": [
              "'The first Black president of the United States is Barack Obama. He served as the 44th president from January 20, 2009, to January 20, 2017. Before his presidency, he was a U.S. Senator from Illinois and is known for his healthcare reform, the Affordable Care Act, as well as his efforts in economic recovery following the 2008 financial crisis. Obama is also notable for being awarded the Nobel Peace Prize in 2009 for his efforts to strengthen international diplomacy and cooperation between peoples. Would you like to know more about his presidency or background?'"
            ],
            "application/vnd.google.colaboratory.intrinsic+json": {
              "type": "string"
            }
          },
          "metadata": {},
          "execution_count": 10
        }
      ],
      "source": [
        "conversation.predict(input = 'Who is the first black president of USA?')"
      ]
    },
    {
      "cell_type": "code",
      "execution_count": 11,
      "metadata": {
        "id": "9RdR_NQGE6Fr",
        "outputId": "1f6850f1-238a-4b79-eb12-619782d9e817",
        "colab": {
          "base_uri": "https://localhost:8080/",
          "height": 53
        }
      },
      "outputs": [
        {
          "output_type": "execute_result",
          "data": {
            "text/plain": [
              "\"Barack Obama was born on August 4, 1961, in Honolulu, Hawaii. He spent much of his early life in Hawaii and later lived in Chicago, where he began his political career. If you're interested, I can share more about his childhood, education, or any specific events during his presidency!\""
            ],
            "application/vnd.google.colaboratory.intrinsic+json": {
              "type": "string"
            }
          },
          "metadata": {},
          "execution_count": 11
        }
      ],
      "source": [
        "conversation.predict(input = 'When was he born?')"
      ]
    },
    {
      "cell_type": "code",
      "execution_count": 12,
      "metadata": {
        "id": "JquPprEqE6Fr",
        "outputId": "f2179dde-12c1-404d-d928-f0879b335c18",
        "colab": {
          "base_uri": "https://localhost:8080/",
          "height": 89
        }
      },
      "outputs": [
        {
          "output_type": "execute_result",
          "data": {
            "text/plain": [
              "'Barack Obama attended Occidental College in Los Angeles for two years before transferring to Columbia University in New York City, where he graduated with a degree in political science in 1983. After that, he went on to attend Harvard Law School, where he became the first Black president of the Harvard Law Review and graduated with his Juris Doctor (J.D.) degree in 1991. Would you like to know more about his time in college or his law career after that?'"
            ],
            "application/vnd.google.colaboratory.intrinsic+json": {
              "type": "string"
            }
          },
          "metadata": {},
          "execution_count": 12
        }
      ],
      "source": [
        "conversation.predict(input = 'Where did he go to college?')"
      ]
    },
    {
      "cell_type": "code",
      "execution_count": 13,
      "metadata": {
        "id": "tVwdD-1HE6Fr",
        "colab": {
          "base_uri": "https://localhost:8080/",
          "height": 89
        },
        "outputId": "64788a57-24e8-4bd0-e151-ea9027b243f0"
      },
      "outputs": [
        {
          "output_type": "execute_result",
          "data": {
            "text/plain": [
              "'Barack Obama\\'s wife\\'s name is Michelle Obama. They married on October 3, 1992. Michelle is a lawyer, author, and advocate for various social issues, including education and healthy living. As First Lady, she launched initiatives like \"Let\\'s Move!\" to combat childhood obesity and promoted education for girls around the world. She is also well-known for her bestselling memoir, \"Becoming,\" which details her life story and experiences. If you\\'re interested, I can share more about her initiatives or their family\\'s activities!'"
            ],
            "application/vnd.google.colaboratory.intrinsic+json": {
              "type": "string"
            }
          },
          "metadata": {},
          "execution_count": 13
        }
      ],
      "source": [
        "conversation.predict(input = 'What is his wifes name?')\n",
        "conversation.predict(input = 'Who was the first president of U.S.A?')\n",
        "conversation.predict(input = 'At what age he became president of U.S.A?')\n",
        "conversation.predict(input = 'Where did he go to college?')\n",
        "conversation.predict(input = 'What is his wifes name?')\n",
        "conversation.predict(input = 'What is Baracks wifes name?')"
      ]
    },
    {
      "cell_type": "code",
      "source": [
        "conversation.predict(input = 'Who was the first president of U.S.A?')"
      ],
      "metadata": {
        "colab": {
          "base_uri": "https://localhost:8080/",
          "height": 89
        },
        "id": "IMyF7JrBQJAG",
        "outputId": "ecd181b0-b4b4-4c25-a8be-c03088135be8"
      },
      "execution_count": 14,
      "outputs": [
        {
          "output_type": "execute_result",
          "data": {
            "text/plain": [
              "'The first president of the United States was George Washington. He took office on April 30, 1789, and served two terms until March 4, 1797. Washington is often referred to as the \"Father of His Country\" due to his leadership during the American Revolutionary War and his pivotal role in the founding of the nation. He set many important precedents for the presidency, including the tradition of serving only two terms. If you want to know more about his presidency, military career, or personal life, just let me know!'"
            ],
            "application/vnd.google.colaboratory.intrinsic+json": {
              "type": "string"
            }
          },
          "metadata": {},
          "execution_count": 14
        }
      ]
    },
    {
      "cell_type": "code",
      "source": [
        "conversation.predict(input = 'At what age he became president of U.S.A?')"
      ],
      "metadata": {
        "colab": {
          "base_uri": "https://localhost:8080/",
          "height": 71
        },
        "id": "FqPQGTxbQOOr",
        "outputId": "841043bd-6879-4b29-ff76-aa7bd705ae32"
      },
      "execution_count": 15,
      "outputs": [
        {
          "output_type": "execute_result",
          "data": {
            "text/plain": [
              "\"George Washington became president of the United States at the age of 57. He was born on February 22, 1732, and was inaugurated as president on April 30, 1789. His extensive experience as a military leader and his involvement in the founding of the nation were significant factors in his election as the first president. If you're interested in learning more about his presidency or specific events during that time, feel free to ask!\""
            ],
            "application/vnd.google.colaboratory.intrinsic+json": {
              "type": "string"
            }
          },
          "metadata": {},
          "execution_count": 15
        }
      ]
    },
    {
      "cell_type": "code",
      "source": [
        "conversation.predict(input = 'Where did he go to college?')"
      ],
      "metadata": {
        "colab": {
          "base_uri": "https://localhost:8080/",
          "height": 89
        },
        "id": "jOqlOhTjQTS_",
        "outputId": "d1a6e7a5-1526-4269-9df9-c02fa0375adb"
      },
      "execution_count": 16,
      "outputs": [
        {
          "output_type": "execute_result",
          "data": {
            "text/plain": [
              "'George Washington did not attend college in the traditional sense. His education was primarily guided by private tutors and formal schooling in Virginia. He focused on subjects such as mathematics, surveying, and the classics, which provided him with skills that were beneficial for his future military and political career. If you have more questions about his early life, military accomplishments, or any other aspect of his life, feel free to ask!'"
            ],
            "application/vnd.google.colaboratory.intrinsic+json": {
              "type": "string"
            }
          },
          "metadata": {},
          "execution_count": 16
        }
      ]
    },
    {
      "cell_type": "code",
      "source": [
        "conversation.predict(input = 'What is his wifes name?')"
      ],
      "metadata": {
        "colab": {
          "base_uri": "https://localhost:8080/",
          "height": 89
        },
        "id": "Y3sJsbiPQYVJ",
        "outputId": "c760de83-0bc8-4e1e-fe26-d58bc233e74d"
      },
      "execution_count": 17,
      "outputs": [
        {
          "output_type": "execute_result",
          "data": {
            "text/plain": [
              "\"George Washington's wife's name was Martha Washington. They married on January 6, 1759. Martha played a significant role in supporting George during his military career and was actively involved in managing their plantation, Mount Vernon, in Virginia. As the first First Lady of the United States, she contributed to the social and political life of the nation during its formative years. If you'd like to learn more about their relationship or her contributions, just let me know!\""
            ],
            "application/vnd.google.colaboratory.intrinsic+json": {
              "type": "string"
            }
          },
          "metadata": {},
          "execution_count": 17
        }
      ]
    },
    {
      "cell_type": "code",
      "source": [
        "conversation.predict(input = 'What is Barack Obamas wifes name?')"
      ],
      "metadata": {
        "colab": {
          "base_uri": "https://localhost:8080/",
          "height": 107
        },
        "id": "F-9miiT0Qcos",
        "outputId": "649208ea-3c5b-41eb-bd5e-19739b9f3291"
      },
      "execution_count": 18,
      "outputs": [
        {
          "output_type": "execute_result",
          "data": {
            "text/plain": [
              "'Barack Obama\\'s wife\\'s name is Michelle Obama. They got married on October 3, 1992. Michelle is a lawyer, author, and advocate for various social issues, including education and healthy living. During her time as First Lady from 2009 to 2017, she launched initiatives like \"Let\\'s Move!\" to promote healthy eating and physical activity among children and worked to support education for girls globally. Her memoir, \"Becoming,\" has received widespread praise and details her life experiences and journey. If you\\'re interested, I can share more about her initiatives, their family, or other aspects of her life!'"
            ],
            "application/vnd.google.colaboratory.intrinsic+json": {
              "type": "string"
            }
          },
          "metadata": {},
          "execution_count": 18
        }
      ]
    },
    {
      "cell_type": "code",
      "source": [
        "conversation.predict(input = 'Where did he go to college?')"
      ],
      "metadata": {
        "colab": {
          "base_uri": "https://localhost:8080/",
          "height": 89
        },
        "id": "KzY3iuoNQg6v",
        "outputId": "fbe96bb7-99d1-49d0-9afc-fd535fcfda43"
      },
      "execution_count": 19,
      "outputs": [
        {
          "output_type": "execute_result",
          "data": {
            "text/plain": [
              "'Barack Obama attended Occidental College in Los Angeles for two years before transferring to Columbia University in New York City, where he graduated with a degree in political science in 1983. After that, he went on to Harvard Law School, where he made history as the first Black president of the Harvard Law Review and graduated with his Juris Doctor (J.D.) degree in 1991. If you want to know more about his college experiences or his career after law school, feel free to ask!'"
            ],
            "application/vnd.google.colaboratory.intrinsic+json": {
              "type": "string"
            }
          },
          "metadata": {},
          "execution_count": 19
        }
      ]
    },
    {
      "cell_type": "markdown",
      "metadata": {
        "id": "fOTTn6wpE6Fr"
      },
      "source": [
        "### Extracting Chat History"
      ]
    },
    {
      "cell_type": "code",
      "execution_count": 20,
      "metadata": {
        "id": "BiUFgFyfE6Fr",
        "outputId": "8a3e05ba-3b31-451b-907e-4eedb68430e7",
        "colab": {
          "base_uri": "https://localhost:8080/"
        }
      },
      "outputs": [
        {
          "output_type": "execute_result",
          "data": {
            "text/plain": [
              "ConversationBufferMemory(chat_memory=InMemoryChatMessageHistory(messages=[HumanMessage(content='Who is the first black president of USA?', additional_kwargs={}, response_metadata={}), AIMessage(content='The first Black president of the United States is Barack Obama. He served as the 44th president from January 20, 2009, to January 20, 2017. Before his presidency, he was a U.S. Senator from Illinois and is known for his healthcare reform, the Affordable Care Act, as well as his efforts in economic recovery following the 2008 financial crisis. Obama is also notable for being awarded the Nobel Peace Prize in 2009 for his efforts to strengthen international diplomacy and cooperation between peoples. Would you like to know more about his presidency or background?', additional_kwargs={}, response_metadata={}), HumanMessage(content='When was he born?', additional_kwargs={}, response_metadata={}), AIMessage(content=\"Barack Obama was born on August 4, 1961, in Honolulu, Hawaii. He spent much of his early life in Hawaii and later lived in Chicago, where he began his political career. If you're interested, I can share more about his childhood, education, or any specific events during his presidency!\", additional_kwargs={}, response_metadata={}), HumanMessage(content='Where did he go to college?', additional_kwargs={}, response_metadata={}), AIMessage(content='Barack Obama attended Occidental College in Los Angeles for two years before transferring to Columbia University in New York City, where he graduated with a degree in political science in 1983. After that, he went on to attend Harvard Law School, where he became the first Black president of the Harvard Law Review and graduated with his Juris Doctor (J.D.) degree in 1991. Would you like to know more about his time in college or his law career after that?', additional_kwargs={}, response_metadata={}), HumanMessage(content='What is his wifes name?', additional_kwargs={}, response_metadata={}), AIMessage(content='Barack Obama\\'s wife is Michelle Obama. They got married on October 3, 1992. Michelle Obama is a lawyer and author, and she served as the First Lady of the United States from 2009 to 2017. During her time as First Lady, she focused on various initiatives, including healthy eating and education for girls. She is also known for her memoir, \"Becoming,\" which has received widespread acclaim. Would you like to know more about Michelle Obama or their family?', additional_kwargs={}, response_metadata={}), HumanMessage(content='Who was the first president of U.S.A?', additional_kwargs={}, response_metadata={}), AIMessage(content='The first president of the United States was George Washington. He took office on April 30, 1789, and served two terms until March 4, 1797. Washington is often referred to as the \"Father of His Country\" for his leadership during the founding of the nation and his role in the American Revolutionary War. He set many precedents for the presidency, including the tradition of a two-term limit, and he played a crucial role in the drafting of the U.S. Constitution. If you\\'re interested, I can tell you more about his presidency, military career, or personal life!', additional_kwargs={}, response_metadata={}), HumanMessage(content='At what age he became president of U.S.A?', additional_kwargs={}, response_metadata={}), AIMessage(content='George Washington became president of the United States at the age of 57. He was born on February 22, 1732, and was inaugurated as president on April 30, 1789. His experience as a military leader and his involvement in the founding of the nation were significant factors in his election as the first president. Would you like to learn more about his presidency or any specific events during that time?', additional_kwargs={}, response_metadata={}), HumanMessage(content='Where did he go to college?', additional_kwargs={}, response_metadata={}), AIMessage(content=\"George Washington did not attend college in the way we think of it today. He received most of his education through private tutors and formal schooling in Virginia. His education focused on subjects like mathematics, surveying, and the classics, which helped him develop skills that were beneficial in his military and political career. If you're curious about his early life or any specific achievements, feel free to ask!\", additional_kwargs={}, response_metadata={}), HumanMessage(content='What is his wifes name?', additional_kwargs={}, response_metadata={}), AIMessage(content=\"George Washington's wife's name was Martha Washington. They married on January 6, 1759. Martha was a strong partner to George throughout his life and played a significant role during the Revolutionary War by supporting the troops and managing their plantation, Mount Vernon, in Virginia. She is often remembered for her contributions as the first First Lady of the United States. If you’d like to know more about their relationship or her role in society at that time, just let me know!\", additional_kwargs={}, response_metadata={}), HumanMessage(content='What is Baracks wifes name?', additional_kwargs={}, response_metadata={}), AIMessage(content='Barack Obama\\'s wife\\'s name is Michelle Obama. They married on October 3, 1992. Michelle is a lawyer, author, and advocate for various social issues, including education and healthy living. As First Lady, she launched initiatives like \"Let\\'s Move!\" to combat childhood obesity and promoted education for girls around the world. She is also well-known for her bestselling memoir, \"Becoming,\" which details her life story and experiences. If you\\'re interested, I can share more about her initiatives or their family\\'s activities!', additional_kwargs={}, response_metadata={}), HumanMessage(content='Who was the first president of U.S.A?', additional_kwargs={}, response_metadata={}), AIMessage(content='The first president of the United States was George Washington. He took office on April 30, 1789, and served two terms until March 4, 1797. Washington is often referred to as the \"Father of His Country\" due to his leadership during the American Revolutionary War and his pivotal role in the founding of the nation. He set many important precedents for the presidency, including the tradition of serving only two terms. If you want to know more about his presidency, military career, or personal life, just let me know!', additional_kwargs={}, response_metadata={}), HumanMessage(content='At what age he became president of U.S.A?', additional_kwargs={}, response_metadata={}), AIMessage(content=\"George Washington became president of the United States at the age of 57. He was born on February 22, 1732, and was inaugurated as president on April 30, 1789. His extensive experience as a military leader and his involvement in the founding of the nation were significant factors in his election as the first president. If you're interested in learning more about his presidency or specific events during that time, feel free to ask!\", additional_kwargs={}, response_metadata={}), HumanMessage(content='Where did he go to college?', additional_kwargs={}, response_metadata={}), AIMessage(content='George Washington did not attend college in the traditional sense. His education was primarily guided by private tutors and formal schooling in Virginia. He focused on subjects such as mathematics, surveying, and the classics, which provided him with skills that were beneficial for his future military and political career. If you have more questions about his early life, military accomplishments, or any other aspect of his life, feel free to ask!', additional_kwargs={}, response_metadata={}), HumanMessage(content='What is his wifes name?', additional_kwargs={}, response_metadata={}), AIMessage(content=\"George Washington's wife's name was Martha Washington. They married on January 6, 1759. Martha played a significant role in supporting George during his military career and was actively involved in managing their plantation, Mount Vernon, in Virginia. As the first First Lady of the United States, she contributed to the social and political life of the nation during its formative years. If you'd like to learn more about their relationship or her contributions, just let me know!\", additional_kwargs={}, response_metadata={}), HumanMessage(content='What is Barack Obamas wifes name?', additional_kwargs={}, response_metadata={}), AIMessage(content='Barack Obama\\'s wife\\'s name is Michelle Obama. They got married on October 3, 1992. Michelle is a lawyer, author, and advocate for various social issues, including education and healthy living. During her time as First Lady from 2009 to 2017, she launched initiatives like \"Let\\'s Move!\" to promote healthy eating and physical activity among children and worked to support education for girls globally. Her memoir, \"Becoming,\" has received widespread praise and details her life experiences and journey. If you\\'re interested, I can share more about her initiatives, their family, or other aspects of her life!', additional_kwargs={}, response_metadata={}), HumanMessage(content='Where did he go to college?', additional_kwargs={}, response_metadata={}), AIMessage(content='Barack Obama attended Occidental College in Los Angeles for two years before transferring to Columbia University in New York City, where he graduated with a degree in political science in 1983. After that, he went on to Harvard Law School, where he made history as the first Black president of the Harvard Law Review and graduated with his Juris Doctor (J.D.) degree in 1991. If you want to know more about his college experiences or his career after law school, feel free to ask!', additional_kwargs={}, response_metadata={})]))"
            ]
          },
          "metadata": {},
          "execution_count": 20
        }
      ],
      "source": [
        "conversation.memory"
      ]
    },
    {
      "cell_type": "code",
      "execution_count": 22,
      "metadata": {
        "id": "RaeX99aGE6Fr",
        "outputId": "ed4dcefe-d1c7-4f35-ee7d-f7d2709f82dd",
        "colab": {
          "base_uri": "https://localhost:8080/"
        }
      },
      "outputs": [
        {
          "output_type": "execute_result",
          "data": {
            "text/plain": [
              "[HumanMessage(content='Who is the first black president of USA?', additional_kwargs={}, response_metadata={}),\n",
              " AIMessage(content='The first Black president of the United States is Barack Obama. He served as the 44th president from January 20, 2009, to January 20, 2017. Before his presidency, he was a U.S. Senator from Illinois and is known for his healthcare reform, the Affordable Care Act, as well as his efforts in economic recovery following the 2008 financial crisis. Obama is also notable for being awarded the Nobel Peace Prize in 2009 for his efforts to strengthen international diplomacy and cooperation between peoples. Would you like to know more about his presidency or background?', additional_kwargs={}, response_metadata={}),\n",
              " HumanMessage(content='When was he born?', additional_kwargs={}, response_metadata={}),\n",
              " AIMessage(content=\"Barack Obama was born on August 4, 1961, in Honolulu, Hawaii. He spent much of his early life in Hawaii and later lived in Chicago, where he began his political career. If you're interested, I can share more about his childhood, education, or any specific events during his presidency!\", additional_kwargs={}, response_metadata={}),\n",
              " HumanMessage(content='Where did he go to college?', additional_kwargs={}, response_metadata={}),\n",
              " AIMessage(content='Barack Obama attended Occidental College in Los Angeles for two years before transferring to Columbia University in New York City, where he graduated with a degree in political science in 1983. After that, he went on to attend Harvard Law School, where he became the first Black president of the Harvard Law Review and graduated with his Juris Doctor (J.D.) degree in 1991. Would you like to know more about his time in college or his law career after that?', additional_kwargs={}, response_metadata={}),\n",
              " HumanMessage(content='What is his wifes name?', additional_kwargs={}, response_metadata={}),\n",
              " AIMessage(content='Barack Obama\\'s wife is Michelle Obama. They got married on October 3, 1992. Michelle Obama is a lawyer and author, and she served as the First Lady of the United States from 2009 to 2017. During her time as First Lady, she focused on various initiatives, including healthy eating and education for girls. She is also known for her memoir, \"Becoming,\" which has received widespread acclaim. Would you like to know more about Michelle Obama or their family?', additional_kwargs={}, response_metadata={}),\n",
              " HumanMessage(content='Who was the first president of U.S.A?', additional_kwargs={}, response_metadata={}),\n",
              " AIMessage(content='The first president of the United States was George Washington. He took office on April 30, 1789, and served two terms until March 4, 1797. Washington is often referred to as the \"Father of His Country\" for his leadership during the founding of the nation and his role in the American Revolutionary War. He set many precedents for the presidency, including the tradition of a two-term limit, and he played a crucial role in the drafting of the U.S. Constitution. If you\\'re interested, I can tell you more about his presidency, military career, or personal life!', additional_kwargs={}, response_metadata={}),\n",
              " HumanMessage(content='At what age he became president of U.S.A?', additional_kwargs={}, response_metadata={}),\n",
              " AIMessage(content='George Washington became president of the United States at the age of 57. He was born on February 22, 1732, and was inaugurated as president on April 30, 1789. His experience as a military leader and his involvement in the founding of the nation were significant factors in his election as the first president. Would you like to learn more about his presidency or any specific events during that time?', additional_kwargs={}, response_metadata={}),\n",
              " HumanMessage(content='Where did he go to college?', additional_kwargs={}, response_metadata={}),\n",
              " AIMessage(content=\"George Washington did not attend college in the way we think of it today. He received most of his education through private tutors and formal schooling in Virginia. His education focused on subjects like mathematics, surveying, and the classics, which helped him develop skills that were beneficial in his military and political career. If you're curious about his early life or any specific achievements, feel free to ask!\", additional_kwargs={}, response_metadata={}),\n",
              " HumanMessage(content='What is his wifes name?', additional_kwargs={}, response_metadata={}),\n",
              " AIMessage(content=\"George Washington's wife's name was Martha Washington. They married on January 6, 1759. Martha was a strong partner to George throughout his life and played a significant role during the Revolutionary War by supporting the troops and managing their plantation, Mount Vernon, in Virginia. She is often remembered for her contributions as the first First Lady of the United States. If you’d like to know more about their relationship or her role in society at that time, just let me know!\", additional_kwargs={}, response_metadata={}),\n",
              " HumanMessage(content='What is Baracks wifes name?', additional_kwargs={}, response_metadata={}),\n",
              " AIMessage(content='Barack Obama\\'s wife\\'s name is Michelle Obama. They married on October 3, 1992. Michelle is a lawyer, author, and advocate for various social issues, including education and healthy living. As First Lady, she launched initiatives like \"Let\\'s Move!\" to combat childhood obesity and promoted education for girls around the world. She is also well-known for her bestselling memoir, \"Becoming,\" which details her life story and experiences. If you\\'re interested, I can share more about her initiatives or their family\\'s activities!', additional_kwargs={}, response_metadata={}),\n",
              " HumanMessage(content='Who was the first president of U.S.A?', additional_kwargs={}, response_metadata={}),\n",
              " AIMessage(content='The first president of the United States was George Washington. He took office on April 30, 1789, and served two terms until March 4, 1797. Washington is often referred to as the \"Father of His Country\" due to his leadership during the American Revolutionary War and his pivotal role in the founding of the nation. He set many important precedents for the presidency, including the tradition of serving only two terms. If you want to know more about his presidency, military career, or personal life, just let me know!', additional_kwargs={}, response_metadata={}),\n",
              " HumanMessage(content='At what age he became president of U.S.A?', additional_kwargs={}, response_metadata={}),\n",
              " AIMessage(content=\"George Washington became president of the United States at the age of 57. He was born on February 22, 1732, and was inaugurated as president on April 30, 1789. His extensive experience as a military leader and his involvement in the founding of the nation were significant factors in his election as the first president. If you're interested in learning more about his presidency or specific events during that time, feel free to ask!\", additional_kwargs={}, response_metadata={}),\n",
              " HumanMessage(content='Where did he go to college?', additional_kwargs={}, response_metadata={}),\n",
              " AIMessage(content='George Washington did not attend college in the traditional sense. His education was primarily guided by private tutors and formal schooling in Virginia. He focused on subjects such as mathematics, surveying, and the classics, which provided him with skills that were beneficial for his future military and political career. If you have more questions about his early life, military accomplishments, or any other aspect of his life, feel free to ask!', additional_kwargs={}, response_metadata={}),\n",
              " HumanMessage(content='What is his wifes name?', additional_kwargs={}, response_metadata={}),\n",
              " AIMessage(content=\"George Washington's wife's name was Martha Washington. They married on January 6, 1759. Martha played a significant role in supporting George during his military career and was actively involved in managing their plantation, Mount Vernon, in Virginia. As the first First Lady of the United States, she contributed to the social and political life of the nation during its formative years. If you'd like to learn more about their relationship or her contributions, just let me know!\", additional_kwargs={}, response_metadata={}),\n",
              " HumanMessage(content='What is Barack Obamas wifes name?', additional_kwargs={}, response_metadata={}),\n",
              " AIMessage(content='Barack Obama\\'s wife\\'s name is Michelle Obama. They got married on October 3, 1992. Michelle is a lawyer, author, and advocate for various social issues, including education and healthy living. During her time as First Lady from 2009 to 2017, she launched initiatives like \"Let\\'s Move!\" to promote healthy eating and physical activity among children and worked to support education for girls globally. Her memoir, \"Becoming,\" has received widespread praise and details her life experiences and journey. If you\\'re interested, I can share more about her initiatives, their family, or other aspects of her life!', additional_kwargs={}, response_metadata={}),\n",
              " HumanMessage(content='Where did he go to college?', additional_kwargs={}, response_metadata={}),\n",
              " AIMessage(content='Barack Obama attended Occidental College in Los Angeles for two years before transferring to Columbia University in New York City, where he graduated with a degree in political science in 1983. After that, he went on to Harvard Law School, where he made history as the first Black president of the Harvard Law Review and graduated with his Juris Doctor (J.D.) degree in 1991. If you want to know more about his college experiences or his career after law school, feel free to ask!', additional_kwargs={}, response_metadata={})]"
            ]
          },
          "metadata": {},
          "execution_count": 22
        }
      ],
      "source": [
        "chat_history = conversation.memory.chat_memory.messages\n",
        "\n",
        "chat_history\n"
      ]
    },
    {
      "cell_type": "code",
      "execution_count": 23,
      "metadata": {
        "id": "kbJN0fcRE6Fs",
        "outputId": "91671d57-9c1a-4ded-d2f9-79b1f29e0641",
        "colab": {
          "base_uri": "https://localhost:8080/"
        }
      },
      "outputs": [
        {
          "output_type": "stream",
          "name": "stdout",
          "text": [
            "Human: Who is the first black president of USA?\n",
            "--------------------------------------------------\n",
            "AI: The first Black president of the United States is Barack Obama. He served as the 44th president from January 20, 2009, to January 20, 2017. Before his presidency, he was a U.S. Senator from Illinois and is known for his healthcare reform, the Affordable Care Act, as well as his efforts in economic recovery following the 2008 financial crisis. Obama is also notable for being awarded the Nobel Peace Prize in 2009 for his efforts to strengthen international diplomacy and cooperation between peoples. Would you like to know more about his presidency or background?\n",
            "--------------------------------------------------\n",
            "Human: When was he born?\n",
            "--------------------------------------------------\n",
            "AI: Barack Obama was born on August 4, 1961, in Honolulu, Hawaii. He spent much of his early life in Hawaii and later lived in Chicago, where he began his political career. If you're interested, I can share more about his childhood, education, or any specific events during his presidency!\n",
            "--------------------------------------------------\n",
            "Human: Where did he go to college?\n",
            "--------------------------------------------------\n",
            "AI: Barack Obama attended Occidental College in Los Angeles for two years before transferring to Columbia University in New York City, where he graduated with a degree in political science in 1983. After that, he went on to attend Harvard Law School, where he became the first Black president of the Harvard Law Review and graduated with his Juris Doctor (J.D.) degree in 1991. Would you like to know more about his time in college or his law career after that?\n",
            "--------------------------------------------------\n",
            "Human: What is his wifes name?\n",
            "--------------------------------------------------\n",
            "AI: Barack Obama's wife is Michelle Obama. They got married on October 3, 1992. Michelle Obama is a lawyer and author, and she served as the First Lady of the United States from 2009 to 2017. During her time as First Lady, she focused on various initiatives, including healthy eating and education for girls. She is also known for her memoir, \"Becoming,\" which has received widespread acclaim. Would you like to know more about Michelle Obama or their family?\n",
            "--------------------------------------------------\n",
            "Human: Who was the first president of U.S.A?\n",
            "--------------------------------------------------\n",
            "AI: The first president of the United States was George Washington. He took office on April 30, 1789, and served two terms until March 4, 1797. Washington is often referred to as the \"Father of His Country\" for his leadership during the founding of the nation and his role in the American Revolutionary War. He set many precedents for the presidency, including the tradition of a two-term limit, and he played a crucial role in the drafting of the U.S. Constitution. If you're interested, I can tell you more about his presidency, military career, or personal life!\n",
            "--------------------------------------------------\n",
            "Human: At what age he became president of U.S.A?\n",
            "--------------------------------------------------\n",
            "AI: George Washington became president of the United States at the age of 57. He was born on February 22, 1732, and was inaugurated as president on April 30, 1789. His experience as a military leader and his involvement in the founding of the nation were significant factors in his election as the first president. Would you like to learn more about his presidency or any specific events during that time?\n",
            "--------------------------------------------------\n",
            "Human: Where did he go to college?\n",
            "--------------------------------------------------\n",
            "AI: George Washington did not attend college in the way we think of it today. He received most of his education through private tutors and formal schooling in Virginia. His education focused on subjects like mathematics, surveying, and the classics, which helped him develop skills that were beneficial in his military and political career. If you're curious about his early life or any specific achievements, feel free to ask!\n",
            "--------------------------------------------------\n",
            "Human: What is his wifes name?\n",
            "--------------------------------------------------\n",
            "AI: George Washington's wife's name was Martha Washington. They married on January 6, 1759. Martha was a strong partner to George throughout his life and played a significant role during the Revolutionary War by supporting the troops and managing their plantation, Mount Vernon, in Virginia. She is often remembered for her contributions as the first First Lady of the United States. If you’d like to know more about their relationship or her role in society at that time, just let me know!\n",
            "--------------------------------------------------\n",
            "Human: What is Baracks wifes name?\n",
            "--------------------------------------------------\n",
            "AI: Barack Obama's wife's name is Michelle Obama. They married on October 3, 1992. Michelle is a lawyer, author, and advocate for various social issues, including education and healthy living. As First Lady, she launched initiatives like \"Let's Move!\" to combat childhood obesity and promoted education for girls around the world. She is also well-known for her bestselling memoir, \"Becoming,\" which details her life story and experiences. If you're interested, I can share more about her initiatives or their family's activities!\n",
            "--------------------------------------------------\n",
            "Human: Who was the first president of U.S.A?\n",
            "--------------------------------------------------\n",
            "AI: The first president of the United States was George Washington. He took office on April 30, 1789, and served two terms until March 4, 1797. Washington is often referred to as the \"Father of His Country\" due to his leadership during the American Revolutionary War and his pivotal role in the founding of the nation. He set many important precedents for the presidency, including the tradition of serving only two terms. If you want to know more about his presidency, military career, or personal life, just let me know!\n",
            "--------------------------------------------------\n",
            "Human: At what age he became president of U.S.A?\n",
            "--------------------------------------------------\n",
            "AI: George Washington became president of the United States at the age of 57. He was born on February 22, 1732, and was inaugurated as president on April 30, 1789. His extensive experience as a military leader and his involvement in the founding of the nation were significant factors in his election as the first president. If you're interested in learning more about his presidency or specific events during that time, feel free to ask!\n",
            "--------------------------------------------------\n",
            "Human: Where did he go to college?\n",
            "--------------------------------------------------\n",
            "AI: George Washington did not attend college in the traditional sense. His education was primarily guided by private tutors and formal schooling in Virginia. He focused on subjects such as mathematics, surveying, and the classics, which provided him with skills that were beneficial for his future military and political career. If you have more questions about his early life, military accomplishments, or any other aspect of his life, feel free to ask!\n",
            "--------------------------------------------------\n",
            "Human: What is his wifes name?\n",
            "--------------------------------------------------\n",
            "AI: George Washington's wife's name was Martha Washington. They married on January 6, 1759. Martha played a significant role in supporting George during his military career and was actively involved in managing their plantation, Mount Vernon, in Virginia. As the first First Lady of the United States, she contributed to the social and political life of the nation during its formative years. If you'd like to learn more about their relationship or her contributions, just let me know!\n",
            "--------------------------------------------------\n",
            "Human: What is Barack Obamas wifes name?\n",
            "--------------------------------------------------\n",
            "AI: Barack Obama's wife's name is Michelle Obama. They got married on October 3, 1992. Michelle is a lawyer, author, and advocate for various social issues, including education and healthy living. During her time as First Lady from 2009 to 2017, she launched initiatives like \"Let's Move!\" to promote healthy eating and physical activity among children and worked to support education for girls globally. Her memoir, \"Becoming,\" has received widespread praise and details her life experiences and journey. If you're interested, I can share more about her initiatives, their family, or other aspects of her life!\n",
            "--------------------------------------------------\n",
            "Human: Where did he go to college?\n",
            "--------------------------------------------------\n",
            "AI: Barack Obama attended Occidental College in Los Angeles for two years before transferring to Columbia University in New York City, where he graduated with a degree in political science in 1983. After that, he went on to Harvard Law School, where he made history as the first Black president of the Harvard Law Review and graduated with his Juris Doctor (J.D.) degree in 1991. If you want to know more about his college experiences or his career after law school, feel free to ask!\n",
            "--------------------------------------------------\n"
          ]
        }
      ],
      "source": [
        "def display_chat_history(chat_history):\n",
        "    for message in chat_history:\n",
        "        role = \"Human\" if message.__class__.__name__ == \"HumanMessage\" else \"AI\"\n",
        "        print(f\"{role}: {message.content}\")\n",
        "        print(\"-\" * 50)  # Separator between messages\n",
        "\n",
        "# Assuming chat_history is your variable containing the messages\n",
        "display_chat_history(chat_history)\n"
      ]
    },
    {
      "cell_type": "code",
      "execution_count": null,
      "metadata": {
        "id": "2xCZmH5XE6Fs"
      },
      "outputs": [],
      "source": []
    }
  ],
  "metadata": {
    "colab": {
      "provenance": [],
      "include_colab_link": true
    },
    "kernelspec": {
      "display_name": "Python 3",
      "name": "python3"
    },
    "language_info": {
      "codemirror_mode": {
        "name": "ipython",
        "version": 3
      },
      "file_extension": ".py",
      "mimetype": "text/x-python",
      "name": "python",
      "nbconvert_exporter": "python",
      "pygments_lexer": "ipython3",
      "version": "3.10.14"
    }
  },
  "nbformat": 4,
  "nbformat_minor": 0
}