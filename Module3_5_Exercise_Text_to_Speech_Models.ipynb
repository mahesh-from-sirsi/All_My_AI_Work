{
  "cells": [
    {
      "cell_type": "markdown",
      "metadata": {
        "id": "view-in-github",
        "colab_type": "text"
      },
      "source": [
        "<a href=\"https://colab.research.google.com/github/mahesh-from-sirsi/All_My_AI_Work/blob/main/Module3_5_Exercise_Text_to_Speech_Models.ipynb\" target=\"_parent\"><img src=\"https://colab.research.google.com/assets/colab-badge.svg\" alt=\"Open In Colab\"/></a>"
      ]
    },
    {
      "cell_type": "markdown",
      "metadata": {
        "id": "AQSeMm7cRFdJ"
      },
      "source": [
        "## Exercise 1: Create a \"Multilingual Greeting App\"\n",
        "\n",
        "Task: Build a Multilingual Greeting App that generates greetings in multiple languages (e.g., English, Hindi, Japanese) using ElevenLabs' multilingual TTS model.\n",
        "\n",
        "\n",
        "\n"
      ]
    },
    {
      "cell_type": "markdown",
      "source": [
        "###Hint:"
      ],
      "metadata": {
        "id": "ccU7JRKbTnfl"
      }
    },
    {
      "cell_type": "code",
      "execution_count": null,
      "metadata": {
        "id": "P6-IxxoGRFdL"
      },
      "outputs": [],
      "source": [
        "#Step 1 : Use the eleven_multilingual_v2 model for multilingual support.\n",
        "#Step 2 :Use the play() function to play the generated audio.\n",
        "\n",
        "# Define greetings in different languages\n",
        "greetings = {\n",
        "    \"English\": \"Hello, how are you?\",\n",
        "    \"Hindi\": \"नमस्ते, आप कैसे हैं?\",\n",
        "    \"Japanese\": \"こんにちは、お元気ですか？\"\n",
        "}\n",
        "# Generate and play greetings\n",
        "\n",
        "# Complete the code"
      ]
    },
    {
      "cell_type": "code",
      "source": [],
      "metadata": {
        "id": "Z3uooCprYva2"
      },
      "execution_count": null,
      "outputs": []
    },
    {
      "cell_type": "markdown",
      "metadata": {
        "id": "YT7NvCffRFdM"
      },
      "source": [
        "## Exercise 3: Create a \"Storytelling App\"\n",
        "\n",
        "Task: Build a Storytelling App that generates a short story using GPT and converts it into speech using ElevenLabs' TTS model.\n",
        "\n",
        "\n"
      ]
    },
    {
      "cell_type": "markdown",
      "source": [
        "###Hint"
      ],
      "metadata": {
        "id": "C7mXO1xrWv7Z"
      }
    },
    {
      "cell_type": "code",
      "source": [
        "# Use the ChatOpenAI model to generate the story.\n",
        "# Use the client.generate() function to convert the story into speech.\n",
        "\n",
        "# Step 1: Generate a short story using GPT\n",
        "llm = ChatOpenAI(model=\"gpt-4\")\n",
        "story_prompt = \"Tell me a story about a dragon.\"\n",
        "\n",
        "# Step 2: Convert the story into speech\n",
        "\n",
        "# Step 3: Play the story in speech"
      ],
      "metadata": {
        "id": "PdthFFsSZngR"
      },
      "execution_count": null,
      "outputs": []
    },
    {
      "cell_type": "code",
      "source": [],
      "metadata": {
        "id": "PUU1cFDnseUf"
      },
      "execution_count": null,
      "outputs": []
    }
  ],
  "metadata": {
    "kernelspec": {
      "display_name": "Python 3",
      "language": "python",
      "name": "python3"
    },
    "language_info": {
      "name": "python",
      "version": "3.12.8"
    },
    "colab": {
      "provenance": [],
      "include_colab_link": true
    }
  },
  "nbformat": 4,
  "nbformat_minor": 0
}