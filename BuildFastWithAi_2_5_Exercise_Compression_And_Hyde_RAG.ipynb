{
  "nbformat": 4,
  "nbformat_minor": 0,
  "metadata": {
    "colab": {
      "provenance": [],
      "include_colab_link": true
    },
    "kernelspec": {
      "name": "python3",
      "display_name": "Python 3"
    },
    "language_info": {
      "name": "python"
    }
  },
  "cells": [
    {
      "cell_type": "markdown",
      "metadata": {
        "id": "view-in-github",
        "colab_type": "text"
      },
      "source": [
        "<a href=\"https://colab.research.google.com/github/mahesh-from-sirsi/All_My_AI_Work/blob/main/BuildFastWithAi_2_5_Exercise_Compression_And_Hyde_RAG.ipynb\" target=\"_parent\"><img src=\"https://colab.research.google.com/assets/colab-badge.svg\" alt=\"Open In Colab\"/></a>"
      ]
    },
    {
      "cell_type": "markdown",
      "source": [
        "###Exercise 1 : Contextual Compression for Legal Document Retrieval\n",
        "\n",
        "Use the ContextualCompressionRetriever to retrieve and compress documents related to a specific legal topic (e.g., \"intellectual property rights\") from a dataset of legal documents. Observe how the retriever filters and refines the results to provide more relevant information.\n",
        "\n"
      ],
      "metadata": {
        "id": "jM5eowQxQYF3"
      }
    },
    {
      "cell_type": "code",
      "source": [
        "# Import necessary libraries\n",
        "\n",
        "# Load and split the legal documents (e.g., a PDF on intellectual property rights)\n",
        "loader = PyPDFLoader(\"path_to_legal_document.pdf\")  # Replace with the path to your PDF\n",
        "\n",
        "# Create a FAISS vector store and retriever\n",
        "retriever = FAISS.from_documents(texts, OpenAIEmbeddings()).as_retriever(search_kwargs={\"k\": 5})\n",
        "\n",
        "# Initialize the ContextualCompressionRetriever\n",
        "# Retrieve and compress documents related to the query\n",
        "# Display the compressed documents"
      ],
      "metadata": {
        "id": "hEtHUtowQjZ9"
      },
      "execution_count": null,
      "outputs": []
    },
    {
      "cell_type": "code",
      "source": [],
      "metadata": {
        "id": "ij5m095CBp2n"
      },
      "execution_count": null,
      "outputs": []
    },
    {
      "cell_type": "markdown",
      "source": [
        "###Exercise 2 : HyDE: Enhancing Search with Hypothetical Documents\n",
        "\n",
        "Define Hypothetical Document Embeddings (HyDE) to generate hypothetical documents for a query and retrieve relevant information. Observe how HyDE improves the relevance of retrieved documents by embedding hypothetical content.\n",
        "\n"
      ],
      "metadata": {
        "id": "EE5uUu28BqJ3"
      }
    },
    {
      "cell_type": "code",
      "source": [
        "# Import necessary libraries\n",
        "\n",
        "# Initialize base embeddings and LLM\n",
        "base_embeddings = OpenAIEmbeddings()\n",
        "llm = OpenAI()\n",
        "\n",
        "# Create HyDE embeddings using the \"web_search\" prompt\n",
        "embeddings = HypotheticalDocumentEmbedder.from_llm(llm, base_embeddings, \"web_search\")\n",
        "\n",
        "# Generate embeddings for a query\n",
        "# Display the generated embeddings"
      ],
      "metadata": {
        "id": "QjaUu7aoB_qy"
      },
      "execution_count": null,
      "outputs": []
    },
    {
      "cell_type": "code",
      "source": [],
      "metadata": {
        "id": "ulUqA-NMCJIN"
      },
      "execution_count": null,
      "outputs": []
    }
  ]
}