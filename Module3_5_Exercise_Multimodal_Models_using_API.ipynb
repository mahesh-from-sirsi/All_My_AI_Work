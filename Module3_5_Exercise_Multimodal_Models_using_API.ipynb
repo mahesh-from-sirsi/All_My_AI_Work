{
  "cells": [
    {
      "cell_type": "markdown",
      "metadata": {
        "id": "view-in-github",
        "colab_type": "text"
      },
      "source": [
        "<a href=\"https://colab.research.google.com/github/mahesh-from-sirsi/All_My_AI_Work/blob/main/Module3_5_Exercise_Multimodal_Models_using_API.ipynb\" target=\"_parent\"><img src=\"https://colab.research.google.com/assets/colab-badge.svg\" alt=\"Open In Colab\"/></a>"
      ]
    },
    {
      "cell_type": "markdown",
      "metadata": {
        "id": "AQSeMm7cRFdJ"
      },
      "source": [
        "## Exercise 1: Create an \"Image Description App\"\n",
        "\n",
        "Task: Build an Image Description App that takes an image URL as input and generates a detailed description of the image using GPT-4's vision OR You can use Gemini model.\n",
        "\n",
        "\n",
        "\n"
      ]
    },
    {
      "cell_type": "markdown",
      "source": [
        "###Hint:"
      ],
      "metadata": {
        "id": "ccU7JRKbTnfl"
      }
    },
    {
      "cell_type": "code",
      "execution_count": null,
      "metadata": {
        "id": "P6-IxxoGRFdL"
      },
      "outputs": [],
      "source": [
        "#Step 1 : Use the display_image() function to display the image.\n",
        "#Step 2 :Use the messages parameter to pass both text and image inputs.\n",
        "\n",
        "def describe_image(image_url: str):\n",
        "    # Display the image\n",
        "    display_image_from_url(image_url)\n",
        "\n",
        "    # Generate description using GPT-4 or Gemini\n",
        "\n",
        "\n",
        "    # Print the description\n",
        "\n",
        "# Example usage\n",
        "image_url = \"https://images.unsplash.com/photo-1593701461250-d7b22dfd3a77?w=500&auto=format&fit=crop&q=60&ixlib=rb-4.0.3&ixid=M3wxMjA3fDB8MHxzZWFyY2h8N3x8Z3VsYWIlMjBqYW11bnxlbnwwfHwwfHx8MA%3D%3D\"\n",
        "describe_image(image_url)"
      ]
    },
    {
      "cell_type": "code",
      "source": [],
      "metadata": {
        "id": "Z3uooCprYva2"
      },
      "execution_count": null,
      "outputs": []
    },
    {
      "cell_type": "markdown",
      "metadata": {
        "id": "YT7NvCffRFdM"
      },
      "source": [
        "## Exercise 4: Create a \"Multilingual Audio Translator App\"\n",
        "\n",
        "Task: Build a Multilingual Audio Translator App that takes an audio input in one language, transcribes it, translates it into another language, and generates the translated text as speech.\n",
        "\n"
      ]
    },
    {
      "cell_type": "markdown",
      "source": [
        "###Hint"
      ],
      "metadata": {
        "id": "C7mXO1xrWv7Z"
      }
    },
    {
      "cell_type": "code",
      "source": [
        "#Use the gpt-4o or Gemini 2.O model for audio transcription.\n",
        "#Use the gpt-4o or gemini 2.O model for text translation.\n",
        "#Use the Elevnlabs or any other model for text-to-speech conversion.\n",
        "\n",
        "def multilingual_audio_translator(audio_file: str, target_language: str):\n",
        "\n",
        "    # Step 1: Transcribe the audio input\n",
        "\n",
        "    # Step 2: Translate the transcribed text\n",
        "\n",
        "    # Step 3: Convert the translated text into speech\n",
        "\n",
        "    # Step 4: Play the translated audio"
      ],
      "metadata": {
        "id": "PdthFFsSZngR"
      },
      "execution_count": null,
      "outputs": []
    },
    {
      "cell_type": "code",
      "source": [],
      "metadata": {
        "id": "PUU1cFDnseUf"
      },
      "execution_count": null,
      "outputs": []
    }
  ],
  "metadata": {
    "kernelspec": {
      "display_name": "Python 3",
      "language": "python",
      "name": "python3"
    },
    "language_info": {
      "name": "python",
      "version": "3.12.8"
    },
    "colab": {
      "provenance": [],
      "include_colab_link": true
    }
  },
  "nbformat": 4,
  "nbformat_minor": 0
}