{
  "nbformat": 4,
  "nbformat_minor": 0,
  "metadata": {
    "colab": {
      "provenance": [],
      "include_colab_link": true
    },
    "kernelspec": {
      "name": "python3",
      "display_name": "Python 3"
    },
    "language_info": {
      "name": "python"
    }
  },
  "cells": [
    {
      "cell_type": "markdown",
      "metadata": {
        "id": "view-in-github",
        "colab_type": "text"
      },
      "source": [
        "<a href=\"https://colab.research.google.com/github/mahesh-from-sirsi/All_My_AI_Work/blob/main/MaheshVShet_BuildFast_WithAI_Exercise_Prompt_Engineering_Techniques.ipynb\" target=\"_parent\"><img src=\"https://colab.research.google.com/assets/colab-badge.svg\" alt=\"Open In Colab\"/></a>"
      ]
    },
    {
      "cell_type": "markdown",
      "source": [
        "###Exercise 1: Few-Shot Learning\n",
        "\n",
        "\n"
      ],
      "metadata": {
        "id": "WFAFgej4_0Qv"
      }
    },
    {
      "cell_type": "markdown",
      "source": [
        "Create a few-shot prompt that generates a multiple-choice question about a given topic. Use the GPT-4o model to generate a question about the topic \"Artificial Intelligence.\""
      ],
      "metadata": {
        "id": "GThxVaxw_3UR"
      }
    },
    {
      "cell_type": "markdown",
      "source": [
        "####Hint"
      ],
      "metadata": {
        "id": "m4rzQZqFA9NR"
      }
    },
    {
      "cell_type": "code",
      "execution_count": null,
      "metadata": {
        "id": "qBGyKRl5_pLG"
      },
      "outputs": [],
      "source": [
        "# Example: User wants a multiple-choice question about Artificial Intelligence.\n",
        "input_topic = \"Artificial Intelligence\"\n",
        "\n",
        "# Logic: Use a few-shot prompt to generate a multiple-choice question.\n",
        "# Hint: Initialize the prompt with examples and use `invoke` to send the request."
      ]
    },
    {
      "cell_type": "code",
      "source": [],
      "metadata": {
        "id": "AEgEEzEoJP8u"
      },
      "execution_count": null,
      "outputs": []
    },
    {
      "cell_type": "markdown",
      "source": [
        "###Exercise 2: Persona-Based Prompting\n",
        "\n",
        "\n"
      ],
      "metadata": {
        "id": "orRvA_FcBvvG"
      }
    },
    {
      "cell_type": "markdown",
      "source": [
        "Use persona-based prompting to generate a response as if you were Albert Einstein. Ask the model to explain the theory of relativity in simple terms."
      ],
      "metadata": {
        "id": "pP2tCKNLBzmg"
      }
    },
    {
      "cell_type": "code",
      "source": [
        "# Example: User wants Albert Einstein to explain the theory of relativity.\n",
        "persona_prompt = \"\"\"\n",
        "You are Albert Einstein. Explain the theory of relativity in simple terms.\n",
        "\"\"\"\n",
        "\n",
        "# Logic: Use persona-based prompting to generate a response.\n",
        "# Hint: Initialize the prompt with the persona and use `invoke` to send the request."
      ],
      "metadata": {
        "id": "f9RZ_QzLBwoy"
      },
      "execution_count": null,
      "outputs": []
    },
    {
      "cell_type": "code",
      "source": [],
      "metadata": {
        "id": "iY6wtpebKs4S"
      },
      "execution_count": null,
      "outputs": []
    },
    {
      "cell_type": "markdown",
      "source": [
        "###Exercise 3: Instruction Prompting\n",
        "\n",
        "\n"
      ],
      "metadata": {
        "id": "43AatAvdCy3m"
      }
    },
    {
      "cell_type": "markdown",
      "source": [
        "Use instruction prompting to create a step-by-step guide for baking a chocolate cake. The instructions should include a list of ingredients and detailed steps."
      ],
      "metadata": {
        "id": "IOMj-x_CCtgH"
      }
    },
    {
      "cell_type": "code",
      "source": [
        "# Example: User wants a step-by-step guide for baking a chocolate cake.\n",
        "instruction_prompt = \"\"\"\n",
        "Provide a step-by-step guide for baking a chocolate cake. Include a list of ingredients and detailed steps.\n",
        "\"\"\"\n",
        "\n",
        "# Logic: Use instruction prompting to generate a baking guide.\n",
        "# Hint: Initialize the prompt with clear instructions and use `invoke` to send the request."
      ],
      "metadata": {
        "id": "BkASnllmCuP2"
      },
      "execution_count": null,
      "outputs": []
    },
    {
      "cell_type": "code",
      "source": [],
      "metadata": {
        "id": "WU5JT68dKtNq"
      },
      "execution_count": null,
      "outputs": []
    },
    {
      "cell_type": "markdown",
      "source": [
        "###Exercise 4: Chain-of-Thought Prompting\n",
        "\n"
      ],
      "metadata": {
        "id": "Mzk-IU_hELYu"
      }
    },
    {
      "cell_type": "markdown",
      "source": [
        "Use chain-of-thought prompting to solve a math problem step by step. The problem is: \"What is the result of 45 x 12 + 18 ÷ 6 - 100?\""
      ],
      "metadata": {
        "id": "w4KUePPnEPl-"
      }
    },
    {
      "cell_type": "code",
      "source": [
        "# Example: User wants to solve a math problem step by step.\n",
        "math_problem = \"What is the result of 45 x 12 + 18 ÷ 6 - 100?\"\n",
        "\n",
        "# Logic: Use chain-of-thought prompting to solve the problem.\n",
        "# Hint: Initialize the prompt with step-by-step instructions and use `invoke` to send the request."
      ],
      "metadata": {
        "id": "yaYTX02rEM6u"
      },
      "execution_count": null,
      "outputs": []
    },
    {
      "cell_type": "code",
      "source": [],
      "metadata": {
        "id": "LJuZUxe4KtrE"
      },
      "execution_count": null,
      "outputs": []
    },
    {
      "cell_type": "markdown",
      "source": [
        "###Exercise 5: Tree-of-Thought Prompting\n"
      ],
      "metadata": {
        "id": "pZZeK15vH2kO"
      }
    },
    {
      "cell_type": "markdown",
      "source": [
        "Define tree-of-thought prompting to explore multiple strategies for increasing website traffic by 30%. The model should evaluate and choose the best strategy.\n",
        "\n"
      ],
      "metadata": {
        "id": "LCl1B12DH6Il"
      }
    },
    {
      "cell_type": "code",
      "source": [
        "# Example: User wants to explore strategies for increasing website traffic.\n",
        "problem = \"Increase website traffic by 30%.\"\n",
        "\n",
        "# Logic: Use tree-of-thought prompting to explore and evaluate strategies.\n",
        "# Hint: Initialize the prompt with multiple reasoning paths and use `invoke` to send the request."
      ],
      "metadata": {
        "id": "NsXRMqn-H3Pi"
      },
      "execution_count": null,
      "outputs": []
    },
    {
      "cell_type": "code",
      "source": [],
      "metadata": {
        "id": "DF4oe5PuKuSa"
      },
      "execution_count": null,
      "outputs": []
    },
    {
      "cell_type": "markdown",
      "source": [
        "###Exercise 6: Emotional Prompting\n"
      ],
      "metadata": {
        "id": "jvXPx0PNIBx7"
      }
    },
    {
      "cell_type": "markdown",
      "source": [
        "Chose emotional prompting to generate a heartfelt story about a grandmother's life lessons. The story should be written in a nostalgic and emotional tone."
      ],
      "metadata": {
        "id": "rkZhXr30IEbe"
      }
    },
    {
      "cell_type": "code",
      "source": [
        "# Example: User wants a heartfelt story about a grandmother's life lessons.\n",
        "emotional_prompt = \"\"\"\n",
        "Write a heartfelt story about a grandmother's life lessons. Use a nostalgic and emotional tone.\n",
        "\"\"\"\n",
        "\n",
        "# Logic: Use emotional prompting to generate a heartfelt story.\n",
        "# Hint: Initialize the prompt with emotional context and use `invoke` to send the request."
      ],
      "metadata": {
        "id": "P3PZmnGgICqj"
      },
      "execution_count": null,
      "outputs": []
    },
    {
      "cell_type": "code",
      "source": [],
      "metadata": {
        "id": "NY6ZtzcYKu1A"
      },
      "execution_count": null,
      "outputs": []
    }
  ]
}