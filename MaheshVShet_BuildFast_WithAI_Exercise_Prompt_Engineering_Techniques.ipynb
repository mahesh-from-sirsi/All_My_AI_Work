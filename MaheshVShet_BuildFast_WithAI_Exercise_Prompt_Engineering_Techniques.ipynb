{
  "nbformat": 4,
  "nbformat_minor": 0,
  "metadata": {
    "colab": {
      "provenance": [],
      "include_colab_link": true
    },
    "kernelspec": {
      "name": "python3",
      "display_name": "Python 3"
    },
    "language_info": {
      "name": "python"
    }
  },
  "cells": [
    {
      "cell_type": "markdown",
      "metadata": {
        "id": "view-in-github",
        "colab_type": "text"
      },
      "source": [
        "<a href=\"https://colab.research.google.com/github/mahesh-from-sirsi/All_My_AI_Work/blob/main/MaheshVShet_BuildFast_WithAI_Exercise_Prompt_Engineering_Techniques.ipynb\" target=\"_parent\"><img src=\"https://colab.research.google.com/assets/colab-badge.svg\" alt=\"Open In Colab\"/></a>"
      ]
    },
    {
      "cell_type": "markdown",
      "source": [
        "###Exercise 1: Few-Shot Learning\n",
        "\n",
        "\n"
      ],
      "metadata": {
        "id": "WFAFgej4_0Qv"
      }
    },
    {
      "cell_type": "markdown",
      "source": [
        "Create a few-shot prompt that generates a multiple-choice question about a given topic. Use the GPT-4o model to generate a question about the topic \"Artificial Intelligence.\""
      ],
      "metadata": {
        "id": "GThxVaxw_3UR"
      }
    },
    {
      "cell_type": "markdown",
      "source": [
        "####Hint"
      ],
      "metadata": {
        "id": "m4rzQZqFA9NR"
      }
    },
    {
      "cell_type": "code",
      "source": [
        "!pip install -qU langchain==0.3.4 langchain-openai==0.2.12 langchain-google-genai==2.0.1"
      ],
      "metadata": {
        "id": "P8vm584TUFnk"
      },
      "execution_count": 3,
      "outputs": []
    },
    {
      "cell_type": "code",
      "execution_count": 4,
      "metadata": {
        "id": "qBGyKRl5_pLG"
      },
      "outputs": [],
      "source": [
        "# Example: User wants a multiple-choice question about Artificial Intelligence.\n",
        "input_topic = \"Artificial Intelligence\"\n",
        "\n",
        "# Logic: Use a few-shot prompt to generate a multiple-choice question.\n",
        "# Hint: Initialize the prompt with examples and use `invoke` to send the request."
      ]
    },
    {
      "cell_type": "code",
      "source": [
        "few_shot_prompt = \"\"\"\n",
        "Please generate a multiple choice questions about the {topic} as discussed in the example below:\n",
        "\n",
        "Topic: Vegetables\n",
        "Question: What is color of raw banana?\n",
        "\n",
        "Options:\n",
        "a) Red\n",
        "b) Green\n",
        "c) Yellow\n",
        "d) Orange\n",
        "\n",
        "Answer: b\n",
        "\n",
        "Explanation: Most of the raw fruits are green in color and banana is not an exception.\n",
        "\"\"\"\n",
        "\n",
        "from langchain_google_genai import ChatGoogleGenerativeAI\n",
        "import os\n",
        "\n",
        "os.environ['GOOGLE_API_KEY']  = \"\"\n",
        "\n",
        "model = ChatGoogleGenerativeAI(model = \"gemini-1.5-pro-002\")\n",
        "\n",
        "response = model.invoke(few_shot_prompt.format(topic = input_topic))\n",
        "print(response.content)"
      ],
      "metadata": {
        "id": "AEgEEzEoJP8u",
        "colab": {
          "base_uri": "https://localhost:8080/"
        },
        "outputId": "9b0026b8-1e2f-45ac-8e2a-e33707515f39"
      },
      "execution_count": 7,
      "outputs": [
        {
          "output_type": "stream",
          "name": "stdout",
          "text": [
            "Here are a few multiple choice questions about Artificial Intelligence, varying in difficulty:\n",
            "\n",
            "**Question 1 (Easy):**\n",
            "\n",
            "What is the primary goal of Artificial Intelligence?\n",
            "\n",
            "a) To replace human jobs\n",
            "b) To create machines that can perform tasks that typically require human intelligence\n",
            "c) To build robots that look and act like humans\n",
            "d) To develop faster computers\n",
            "\n",
            "Answer: b\n",
            "\n",
            "Explanation:  AI aims to mimic human cognitive functions, allowing machines to handle tasks that would normally need human intellect, such as learning, problem-solving, and decision-making.\n",
            "\n",
            "\n",
            "**Question 2 (Medium):**\n",
            "\n",
            "Which of the following is an example of a supervised learning algorithm?\n",
            "\n",
            "a) Clustering\n",
            "b) Linear Regression\n",
            "c) K-means\n",
            "d) Reinforcement Learning\n",
            "\n",
            "Answer: b\n",
            "\n",
            "Explanation: Linear regression is a supervised learning algorithm because it learns from labeled data (input and corresponding output) to predict a continuous output variable.\n",
            "\n",
            "\n",
            "**Question 3 (Medium):**\n",
            "\n",
            "What does NLP stand for in the context of Artificial Intelligence?\n",
            "\n",
            "a) Natural Language Processing\n",
            "b) Neural Linguistic Programming\n",
            "c) Non-Linear Programming\n",
            "d) Network Layer Protocol\n",
            "\n",
            "Answer: a\n",
            "\n",
            "Explanation: NLP focuses on enabling computers to understand, interpret, and generate human language.\n",
            "\n",
            "\n",
            "**Question 4 (Harder):**\n",
            "\n",
            "What is the difference between Artificial Intelligence, Machine Learning, and Deep Learning?\n",
            "\n",
            "a) They are all the same thing.\n",
            "b) AI is a subset of ML, which is a subset of DL.\n",
            "c) DL is a subset of ML, which is a subset of AI.\n",
            "d) ML is a subset of AI, and DL is unrelated to either.\n",
            "\n",
            "Answer: c\n",
            "\n",
            "Explanation: Deep Learning is a specialized subfield of Machine Learning, which in turn is a subfield of the broader concept of Artificial Intelligence.\n",
            "\n",
            "\n",
            "**Question 5 (Harder):**\n",
            "\n",
            "Which of these is NOT a common challenge in developing Artificial Intelligence systems?\n",
            "\n",
            "a) Data bias\n",
            "b) Lack of computational power\n",
            "c) Ensuring human control and ethical considerations\n",
            "d) Abundance of readily available and labeled data\n",
            "\n",
            "Answer: d\n",
            "\n",
            "Explanation:  Acquiring sufficient, high-quality, and appropriately labeled data is a major hurdle in AI development. Options a, b, and c are all recognized challenges.\n",
            "\n"
          ]
        }
      ]
    },
    {
      "cell_type": "markdown",
      "source": [
        "###Exercise 2: Persona-Based Prompting\n",
        "\n",
        "\n"
      ],
      "metadata": {
        "id": "orRvA_FcBvvG"
      }
    },
    {
      "cell_type": "markdown",
      "source": [
        "Use persona-based prompting to generate a response as if you were Albert Einstein. Ask the model to explain the theory of relativity in simple terms."
      ],
      "metadata": {
        "id": "pP2tCKNLBzmg"
      }
    },
    {
      "cell_type": "code",
      "source": [
        "# Example: User wants Albert Einstein to explain the theory of relativity.\n",
        "persona_prompt = \"\"\"\n",
        "You are Albert Einstein. Explain the theory of relativity in simple terms.\n",
        "\"\"\"\n",
        "\n",
        "# Logic: Use persona-based prompting to generate a response.\n",
        "# Hint: Initialize the prompt with the persona and use `invoke` to send the request."
      ],
      "metadata": {
        "id": "f9RZ_QzLBwoy"
      },
      "execution_count": 9,
      "outputs": []
    },
    {
      "cell_type": "code",
      "source": [
        "response = model.invoke(persona_prompt)\n",
        "print(response.content)"
      ],
      "metadata": {
        "id": "iY6wtpebKs4S",
        "colab": {
          "base_uri": "https://localhost:8080/"
        },
        "outputId": "e2717bbc-e1e4-4aa8-d3db-6da6f505ff2b"
      },
      "execution_count": 10,
      "outputs": [
        {
          "output_type": "stream",
          "name": "stdout",
          "text": [
            "Ah, relativity!  Imagine you're on a train traveling smoothly at a constant speed. You drop a ball. From your perspective, it falls straight down, just like it would if you were standing still on the ground. But to someone standing still outside the train, the ball would appear to be moving forward as it falls, following a curved path.  Both observations are correct, just from different viewpoints.  That's the basic idea of *relative* motion – motion depends on who's looking.\n",
            "\n",
            "Now, my special theory of relativity adds a crucial ingredient: the speed of light.  Imagine you could shine a flashlight on that train.  You might think the light beam would travel faster for the outside observer, since the train is adding its speed to the light. But that's not what happens.  The speed of light is constant for everyone, regardless of their own motion. This seems impossible, but it's true!\n",
            "\n",
            "To make this work, some strange things have to happen.  Time and space themselves become relative.  For the person on the fast-moving train, time slows down slightly and distances in the direction of motion shrink slightly, compared to the person standing still. These effects are tiny at everyday speeds, but become significant as you approach the speed of light. \n",
            "\n",
            "My general theory of relativity takes this further and explains gravity.  Instead of thinking of gravity as a force, imagine it as a curvature of space and time.  A massive object like the Sun warps the fabric of spacetime around it, and planets follow the curves, like a marble rolling around a bowling ball in a stretched-out sheet.  This curvature also affects light, bending its path as it passes near massive objects.\n",
            "\n",
            "So, in a nutshell, relativity tells us that space and time are not absolute but are relative to the observer, and that gravity is a manifestation of the curvature of this spacetime fabric. It's all quite elegant, wouldn't you say?\n",
            "\n"
          ]
        }
      ]
    },
    {
      "cell_type": "markdown",
      "source": [
        "###Exercise 3: Instruction Prompting\n",
        "\n",
        "\n"
      ],
      "metadata": {
        "id": "43AatAvdCy3m"
      }
    },
    {
      "cell_type": "markdown",
      "source": [
        "Use instruction prompting to create a step-by-step guide for baking a chocolate cake. The instructions should include a list of ingredients and detailed steps."
      ],
      "metadata": {
        "id": "IOMj-x_CCtgH"
      }
    },
    {
      "cell_type": "code",
      "source": [
        "# Example: User wants a step-by-step guide for baking a chocolate cake.\n",
        "instruction_prompt = \"\"\"\n",
        "Provide a step-by-step guide for baking a chocolate cake. Include a list of ingredients and detailed steps.\n",
        "\"\"\"\n",
        "\n",
        "# Logic: Use instruction prompting to generate a baking guide.\n",
        "# Hint: Initialize the prompt with clear instructions and use `invoke` to send the request."
      ],
      "metadata": {
        "id": "BkASnllmCuP2"
      },
      "execution_count": 12,
      "outputs": []
    },
    {
      "cell_type": "code",
      "source": [
        "response = model.invoke(instruction_prompt)\n",
        "print(response.content)"
      ],
      "metadata": {
        "id": "WU5JT68dKtNq",
        "colab": {
          "base_uri": "https://localhost:8080/"
        },
        "outputId": "28b032a0-46dd-4b92-eb71-e0b6d502020c"
      },
      "execution_count": 13,
      "outputs": [
        {
          "output_type": "stream",
          "name": "stdout",
          "text": [
            "## Moist and Delicious Chocolate Cake: A Step-by-Step Guide\n",
            "\n",
            "This recipe yields a classic, moist chocolate cake perfect for birthdays, celebrations, or a simple weeknight treat.\n",
            "\n",
            "**Ingredients:**\n",
            "\n",
            "**For the Cake:**\n",
            "\n",
            "* 2 cups (250g) all-purpose flour\n",
            "* 2 cups (400g) granulated sugar\n",
            "* ¾ cup (60g) unsweetened cocoa powder\n",
            "* 1 ½ teaspoons baking powder\n",
            "* 1 ½ teaspoons baking soda\n",
            "* 1 teaspoon salt\n",
            "* 1 cup (240ml) buttermilk\n",
            "* ½ cup (120ml) vegetable oil\n",
            "* 2 large eggs\n",
            "* 2 teaspoons vanilla extract\n",
            "* 1 cup (240ml) freshly brewed hot coffee\n",
            "\n",
            "\n",
            "**For the Chocolate Frosting:**\n",
            "\n",
            "* 1 cup (2 sticks) unsalted butter, softened\n",
            "* 3 cups (360g) powdered sugar\n",
            "* ¾ cup (60g) unsweetened cocoa powder\n",
            "* ½ cup (120ml) milk\n",
            "* 1 teaspoon vanilla extract\n",
            "\n",
            "\n",
            "**Equipment:**\n",
            "\n",
            "* Two 9-inch round cake pans\n",
            "* Mixer (stand or hand-held)\n",
            "* Rubber spatula or wooden spoon\n",
            "* Measuring cups and spoons\n",
            "* Parchment paper\n",
            "* Wire rack\n",
            "\n",
            "\n",
            "**Instructions:**\n",
            "\n",
            "**Cake Preparation:**\n",
            "\n",
            "1. **Preheat oven & prepare pans:** Preheat oven to 350°F (175°C). Grease and flour two 9-inch round cake pans. Alternatively, line the bottom of each pan with a circle of parchment paper for easier removal.\n",
            "2. **Combine dry ingredients:** In a large bowl, whisk together the flour, sugar, cocoa powder, baking powder, baking soda, and salt.\n",
            "3. **Combine wet ingredients:** In a separate bowl, whisk together the buttermilk, oil, eggs, and vanilla extract.\n",
            "4. **Combine wet and dry ingredients:** Gradually add the wet ingredients to the dry ingredients, mixing on low speed until just combined. Be careful not to overmix.\n",
            "5. **Add hot coffee:** Gradually pour in the hot coffee while mixing on low speed. The batter will be thin.\n",
            "6. **Pour batter into pans:** Divide the batter evenly between the prepared cake pans.\n",
            "7. **Bake:** Bake for 30-35 minutes, or until a wooden skewer inserted into the center comes out clean.\n",
            "8. **Cool:** Let the cakes cool in the pans for 10 minutes before inverting them onto a wire rack to cool completely.\n",
            "\n",
            "\n",
            "**Frosting Preparation:**\n",
            "\n",
            "1. **Beat butter:** In a large bowl, beat the softened butter with an electric mixer until light and fluffy.\n",
            "2. **Add powdered sugar and cocoa:** Gradually add the powdered sugar and cocoa powder, beating on low speed until combined.\n",
            "3. **Add milk and vanilla:** Add the milk and vanilla extract, and beat on medium speed until smooth and creamy. If the frosting is too thick, add a tablespoon of milk at a time until desired consistency is reached.\n",
            "\n",
            "\n",
            "**Assembling the Cake:**\n",
            "\n",
            "1. **Level the cakes (optional):** If the tops of the cakes are uneven, use a serrated knife to carefully level them.\n",
            "2. **Frost the first layer:** Place one cake layer on a serving plate or cake stand. Spread a generous layer of frosting over the top.\n",
            "3. **Add the second layer:** Carefully place the second cake layer on top of the frosted layer.\n",
            "4. **Frost the entire cake:** Frost the top and sides of the cake with the remaining frosting. You can create swirls or other decorative patterns with the frosting.\n",
            "5. **Serve and enjoy:**  Let the cake sit for a few minutes to allow the frosting to set slightly. Slice and serve.\n",
            "\n",
            "\n",
            "**Tips & Variations:**\n",
            "\n",
            "* For a richer chocolate flavor, use dark cocoa powder.\n",
            "* Add chocolate chips or chopped nuts to the batter for extra texture and flavor.\n",
            "* Substitute the coffee with hot water or milk if desired.\n",
            "* Get creative with your frosting! Use different flavors or add sprinkles for a festive touch.\n",
            "* Store leftover cake in an airtight container at room temperature for up to 3 days or in the refrigerator for up to a week.\n",
            "\n",
            "\n",
            "Enjoy your delicious homemade chocolate cake! \n",
            "\n"
          ]
        }
      ]
    },
    {
      "cell_type": "markdown",
      "source": [
        "###Exercise 4: Chain-of-Thought Prompting\n",
        "\n"
      ],
      "metadata": {
        "id": "Mzk-IU_hELYu"
      }
    },
    {
      "cell_type": "markdown",
      "source": [
        "Use chain-of-thought prompting to solve a math problem step by step. The problem is: \"What is the result of 45 x 12 + 18 ÷ 6 - 100?\""
      ],
      "metadata": {
        "id": "w4KUePPnEPl-"
      }
    },
    {
      "cell_type": "code",
      "source": [
        "# Example: User wants to solve a math problem step by step.\n",
        "math_problem = \"What is the result of 45 x 12 + 18 ÷ 6 - 100? Please explain step by step\"\n",
        "\n",
        "# Logic: Use chain-of-thought prompting to solve the problem.\n",
        "# Hint: Initialize the prompt with step-by-step instructions and use `invoke` to send the request."
      ],
      "metadata": {
        "id": "yaYTX02rEM6u"
      },
      "execution_count": 14,
      "outputs": []
    },
    {
      "cell_type": "code",
      "source": [
        "response = model.invoke(math_problem)\n",
        "print(response.content)\n"
      ],
      "metadata": {
        "id": "LJuZUxe4KtrE",
        "colab": {
          "base_uri": "https://localhost:8080/"
        },
        "outputId": "e19bf3f4-95f3-4c09-b478-d4a380b53b29"
      },
      "execution_count": 15,
      "outputs": [
        {
          "output_type": "stream",
          "name": "stdout",
          "text": [
            "1. **Multiplication:** 45 x 12 = 540\n",
            "\n",
            "2. **Division:** 18 ÷ 6 = 3\n",
            "\n",
            "3. **Addition:** 540 + 3 = 543\n",
            "\n",
            "4. **Subtraction:** 543 - 100 = 443\n",
            "\n",
            "Therefore, the result of 45 x 12 + 18 ÷ 6 - 100 is $\\boxed{443}$.\n",
            "\n"
          ]
        }
      ]
    },
    {
      "cell_type": "markdown",
      "source": [
        "###Exercise 5: Tree-of-Thought Prompting\n"
      ],
      "metadata": {
        "id": "pZZeK15vH2kO"
      }
    },
    {
      "cell_type": "markdown",
      "source": [
        "Define tree-of-thought prompting to explore multiple strategies for increasing website traffic by 30%. The model should evaluate and choose the best strategy.\n",
        "\n"
      ],
      "metadata": {
        "id": "LCl1B12DH6Il"
      }
    },
    {
      "cell_type": "code",
      "source": [
        "# Example: User wants to explore strategies for increasing website traffic.\n",
        "problem = \"Increase website traffic by 30%.\"\n",
        "\n",
        "prompt = \"\"\"\n",
        "\n",
        "We are a company that provides radio on web solution where we publish audio stories, songs, pod casts etc.\n",
        "\n",
        "For the problem mentioned, provide at least three solutions. Please ensure to have the following considered when providing solution:\n",
        "\n",
        "a. Budget - Ensure budgets requirements are minimal compared to what is before traffic increse.\n",
        "b. Maitenance - Ensure does not call for huge investment in this front\n",
        "c. Adaptability - Increase along with traffic rise\n",
        "d. Design - Does not push for lot of changes to the existing design\n",
        "\n",
        "Evaluate each solution, rank them based on parameters that help us increase traffic and adaptability and provide your recommendation\n",
        "\"\"\"\n",
        "\n",
        "# Logic: Use tree-of-thought prompting to explore and evaluate strategies.\n",
        "# Hint: Initialize the prompt with multiple reasoning paths and use `invoke` to send the request."
      ],
      "metadata": {
        "id": "NsXRMqn-H3Pi"
      },
      "execution_count": 17,
      "outputs": []
    },
    {
      "cell_type": "code",
      "source": [
        "response = model.invoke(prompt.format(problem=problem))\n",
        "print(response.content)"
      ],
      "metadata": {
        "id": "DF4oe5PuKuSa",
        "colab": {
          "base_uri": "https://localhost:8080/"
        },
        "outputId": "532ff5a7-4b2e-4e26-f194-92df9f11413e"
      },
      "execution_count": 18,
      "outputs": [
        {
          "output_type": "stream",
          "name": "stdout",
          "text": [
            "Here are three solutions to improve your radio on web solution's scalability and handle increased traffic, keeping budget, maintenance, adaptability, and design impact in mind:\n",
            "\n",
            "**Solution 1: Content Delivery Network (CDN)**\n",
            "\n",
            "* **Concept:** A CDN caches your audio content on servers geographically distributed closer to your users. When a user requests a file, the CDN serves it from the nearest server, reducing latency and load on your origin server.\n",
            "* **Budget:** Moderate. CDN services have tiered pricing based on usage.  You'll likely see increased costs as traffic grows, but the cost per user often decreases with scale.\n",
            "* **Maintenance:** Low. CDNs are managed services. You primarily configure the integration and let the CDN provider handle the infrastructure.\n",
            "* **Adaptability:** High. CDNs are designed for scaling. They automatically handle traffic spikes and distribute load effectively.\n",
            "* **Design:** Minimal impact. Integrating a CDN usually involves changing DNS settings or adding a few lines of code.\n",
            "\n",
            "**Solution 2: Optimized Streaming Server**\n",
            "\n",
            "* **Concept:** Upgrade your existing streaming server software or switch to a more performant solution designed for high-volume streaming. This could involve better caching mechanisms, more efficient codecs, or load balancing across multiple server instances.\n",
            "* **Budget:** Moderate to High.  Depending on the chosen solution, licensing costs and server upgrades might be necessary.\n",
            "* **Maintenance:** Moderate. Requires ongoing server management, software updates, and performance monitoring.\n",
            "* **Adaptability:** Moderate to High.  Scalability depends on the chosen server software and its configuration.  Load balancing can significantly improve adaptability.\n",
            "* **Design:** Minimal impact if staying within the same streaming protocol.  Switching protocols (e.g., from HTTP to RTMP) might require client-side player changes.\n",
            "\n",
            "\n",
            "**Solution 3: Cloud Hosting with Auto-Scaling**\n",
            "\n",
            "* **Concept:** Migrate your entire platform to a cloud provider (AWS, Google Cloud, Azure) and leverage their auto-scaling features.  As traffic increases, the cloud platform automatically provisions more server resources to handle the load and scales back down when traffic subsides.\n",
            "* **Budget:** Moderate to High. Cloud hosting can be cost-effective if managed carefully, but costs can escalate quickly with increased traffic or improper configuration.  Auto-scaling adds complexity to cost management.\n",
            "* **Maintenance:** Low to Moderate. Cloud providers manage the underlying infrastructure.  You're responsible for configuring auto-scaling rules and maintaining your application.\n",
            "* **Adaptability:** High. Cloud auto-scaling offers excellent adaptability to traffic fluctuations.\n",
            "* **Design:**  Potentially moderate impact. Migrating to the cloud might require some code changes depending on your current architecture.\n",
            "\n",
            "\n",
            "\n",
            "**Evaluation and Ranking:**\n",
            "\n",
            "| Feature | CDN | Optimized Streaming Server | Cloud Hosting with Auto-Scaling |\n",
            "|---|---|---|---|\n",
            "| **Traffic Increase Handling** | High | Moderate to High | High |\n",
            "| **Adaptability** | High | Moderate to High | High |\n",
            "| **Budget** | Moderate | Moderate to High | Moderate to High |\n",
            "| **Maintenance** | Low | Moderate | Low to Moderate |\n",
            "| **Design Impact** | Minimal | Minimal to Moderate | Potentially Moderate |\n",
            "\n",
            "\n",
            "\n",
            "**Recommendation:**\n",
            "\n",
            "For your situation, a **Content Delivery Network (CDN)** is the most likely starting recommendation. It provides the best balance of high adaptability, traffic handling, low maintenance, and minimal budget impact, especially initially.  It's also the easiest to implement with the least disruption to your existing design.\n",
            "\n",
            "If you find that the CDN isn't sufficient for handling traffic spikes or that your origin server is still overloaded, then consider **Cloud Hosting with Auto-Scaling** as the next step. This provides the highest level of scalability and adaptability but comes with higher potential costs and a bit more complexity in configuration and management.\n",
            "\n",
            "Optimizing your streaming server should be considered as an ongoing process regardless of the other solutions implemented. However, doing it alone is less likely to be sufficient for significant traffic increases and can be more complex to manage effectively compared to a CDN or cloud auto-scaling.  Consider this as a supplemental optimization alongside a CDN or cloud solution.\n",
            "\n",
            "\n",
            "Remember to carefully evaluate the specific CDN or cloud provider offerings and choose the one that best fits your needs and budget. Consider factors like geographic coverage, pricing models, features, and support.\n",
            "\n"
          ]
        }
      ]
    },
    {
      "cell_type": "markdown",
      "source": [
        "###Exercise 6: Emotional Prompting\n"
      ],
      "metadata": {
        "id": "jvXPx0PNIBx7"
      }
    },
    {
      "cell_type": "markdown",
      "source": [
        "Chose emotional prompting to generate a heartfelt story about a grandmother's life lessons. The story should be written in a nostalgic and emotional tone."
      ],
      "metadata": {
        "id": "rkZhXr30IEbe"
      }
    },
    {
      "cell_type": "code",
      "source": [
        "# Example: User wants a heartfelt story about a grandmother's life lessons.\n",
        "emotional_prompt = \"\"\"\n",
        "Write a heartfelt story about a grandmother's life lessons. Use a nostalgic and emotional tone.\n",
        "\"\"\"\n",
        "\n",
        "# Logic: Use emotional prompting to generate a heartfelt story.\n",
        "# Hint: Initialize the prompt with emotional context and use `invoke` to send the request."
      ],
      "metadata": {
        "id": "P3PZmnGgICqj"
      },
      "execution_count": 19,
      "outputs": []
    },
    {
      "cell_type": "code",
      "source": [
        "response = model.invoke(emotional_prompt)\n",
        "print(response.content)"
      ],
      "metadata": {
        "id": "NY6ZtzcYKu1A",
        "colab": {
          "base_uri": "https://localhost:8080/"
        },
        "outputId": "ad056d77-5958-4bff-f5be-10db851fe8d1"
      },
      "execution_count": 20,
      "outputs": [
        {
          "output_type": "stream",
          "name": "stdout",
          "text": [
            "The attic smelled of dust and dreams. Sunlight, filtered through a grimy windowpane, illuminated motes dancing in the air, each one a tiny memory swirling around me. I was sifting through Grandma Rose's belongings, a bittersweet task after her passing.  Her worn rocking chair sat in the corner, still holding the imprint of her small frame.  It was here, in this hushed space, that she'd spun stories and woven life lessons into the tapestry of my childhood.\n",
            "\n",
            "Grandma Rose wasn't a woman of grand pronouncements. Her wisdom came in whispers, in the gentle kneading of dough, in the hum of her sewing machine. She taught me the language of flowers – the shy blush of a peony, the sunny optimism of a sunflower, the quiet strength of a violet. She'd say, \"Life, darling, is like a garden.  You have to tend to it, nurture it, even when the weeds threaten to overtake the blooms.\"\n",
            "\n",
            "I found a faded photograph tucked inside a worn copy of \"Little Women.\" It was her wedding day.  Her eyes, even in black and white, sparkled with a joy that pierced through the years.  She’d told me once about the hardships she and Grandpa faced, the lean years, the illnesses. Yet, she never dwelled on the thorns, focusing instead on the roses that bloomed despite them. \"Love,\" she'd whispered, her hand wrinkled and warm on mine, \"is the strongest seed.  Plant it deep, and it will weather any storm.\"\n",
            "\n",
            "In a small, wooden box, I discovered a collection of buttons, each one a tiny story. A pearly white one from her wedding dress, a brass one from Grandpa's army uniform, a colorful array from the dresses she'd sewn for me.  They weren't just buttons; they were touchstones to a life lived fully, a life patched together with love and resilience.  She'd shown me that beauty could be found in the simplest things, in the mending of a torn seam, in the warmth of a shared meal, in the quiet comfort of a hand-knitted scarf.\n",
            "\n",
            "A tear traced a path down my cheek as I held a small, worn teddy bear, its fur matted with age. It was the bear she'd clutched when her own mother passed away.  She’d given it to me during a particularly difficult time, whispering, \"Even in the darkest night, darling, there's always a glimmer of hope. Hold on to it.\"\n",
            "\n",
            "The attic air grew heavy with the weight of absence.  But as I gathered her belongings, I realized Grandma Rose wasn’t truly gone. Her spirit lived on in the lessons she’d sown, in the quiet strength she’d instilled, in the love that bloomed eternally within my heart. The dust motes danced, no longer just memories, but tiny whispers of her enduring wisdom, guiding me, nurturing me, reminding me to tend to my own garden, to plant seeds of love and hope, and to cherish the beauty in every button, every bloom, every moment.\n",
            "\n"
          ]
        }
      ]
    }
  ]
}