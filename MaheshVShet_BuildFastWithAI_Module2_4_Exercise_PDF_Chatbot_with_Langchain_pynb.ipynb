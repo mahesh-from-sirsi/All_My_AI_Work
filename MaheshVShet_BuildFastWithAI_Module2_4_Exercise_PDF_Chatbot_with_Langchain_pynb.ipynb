{
  "nbformat": 4,
  "nbformat_minor": 0,
  "metadata": {
    "colab": {
      "provenance": [],
      "include_colab_link": true
    },
    "kernelspec": {
      "name": "python3",
      "display_name": "Python 3"
    },
    "language_info": {
      "name": "python"
    }
  },
  "cells": [
    {
      "cell_type": "markdown",
      "metadata": {
        "id": "view-in-github",
        "colab_type": "text"
      },
      "source": [
        "<a href=\"https://colab.research.google.com/github/mahesh-from-sirsi/All_My_AI_Work/blob/main/MaheshVShet_BuildFastWithAI_Module2_4_Exercise_PDF_Chatbot_with_Langchain_pynb.ipynb\" target=\"_parent\"><img src=\"https://colab.research.google.com/assets/colab-badge.svg\" alt=\"Open In Colab\"/></a>"
      ]
    },
    {
      "cell_type": "markdown",
      "source": [
        "### Exercise 1 : PDF Chatbot with Langchain\n",
        "Implement a PDF chatbot that can process and answer questions based on PDF content. Experiment with different language models (Gemini, Cluade) and vector databases such as FAISS, Chroma, and AstraDB.\n",
        "\n",
        "\n",
        "\n",
        "\n",
        "\n"
      ],
      "metadata": {
        "id": "xy5lRtIWMmL0"
      }
    },
    {
      "cell_type": "markdown",
      "source": [
        "####Hint\n"
      ],
      "metadata": {
        "id": "Jqczg95bkwJ4"
      }
    },
    {
      "cell_type": "code",
      "source": [
        "# Step 1: Load PDF and split text\n",
        "loader = PyPDFLoader(\"path/to/document.pdf\")  # Load PDF\n",
        "text_chunks = CharacterTextSplitter(chunk_size=500, chunk_overlap=50).split_documents(loader.load())\n",
        "\n",
        "# Step 2: Apply embeddings and store in vector DB\n",
        "vector_db = Chroma.from_documents(text_chunks, embeddings)  # Use Chroma, FAISS, or AstraDB\n",
        "\n",
        "# Step 3: Query the database"
      ],
      "metadata": {
        "id": "nZ3FhYEsMpMN"
      },
      "execution_count": null,
      "outputs": []
    },
    {
      "cell_type": "code",
      "source": [],
      "metadata": {
        "id": "EMysDsWLkyGY"
      },
      "execution_count": null,
      "outputs": []
    },
    {
      "cell_type": "markdown",
      "source": [
        "### Exercise 2 : Provide Source\n",
        "Update the `ask_question` function to not only answer user queries but also provide details on the source document and the specific part of the PDF from which the information was retrieved.  \n",
        "\n"
      ],
      "metadata": {
        "id": "lY74lqe-M9-G"
      }
    },
    {
      "cell_type": "markdown",
      "source": [
        "#### Hint"
      ],
      "metadata": {
        "id": "vg0UmIOwkund"
      }
    },
    {
      "cell_type": "code",
      "source": [
        "# get sources from response\n",
        "sources = response.get(\"source_documents\", [])\n",
        "\n",
        "# Format source details (document name and page number)\n",
        "source_info = []\n",
        "for doc in sources:\n",
        "  # Extract metadata\n",
        "  #similarly find source_name and page_number\n",
        "source_info.append(f\"{source_name}, Page {page_number}\")"
      ],
      "metadata": {
        "id": "qwmcngKCM-F0"
      },
      "execution_count": null,
      "outputs": []
    },
    {
      "cell_type": "code",
      "source": [],
      "metadata": {
        "id": "jXAWqdd3kxkA"
      },
      "execution_count": null,
      "outputs": []
    }
  ]
}