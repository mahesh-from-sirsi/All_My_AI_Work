{
  "cells": [
    {
      "cell_type": "markdown",
      "metadata": {
        "id": "view-in-github",
        "colab_type": "text"
      },
      "source": [
        "<a href=\"https://colab.research.google.com/github/mahesh-from-sirsi/All_My_AI_Work/blob/main/Module3_3_Exercise_Image_Models_with_API.ipynb\" target=\"_parent\"><img src=\"https://colab.research.google.com/assets/colab-badge.svg\" alt=\"Open In Colab\"/></a>"
      ]
    },
    {
      "cell_type": "markdown",
      "metadata": {
        "id": "AQSeMm7cRFdJ"
      },
      "source": [
        "## Exercise 1: Generate Custom Images with DALL-E\n",
        "\n",
        "\n",
        "Task: Use OpenAI's DALL-E model to generate an image based on a custom prompt. Experiment with different prompts and observe the results.\n",
        "\n"
      ]
    },
    {
      "cell_type": "markdown",
      "source": [
        "###Hint:"
      ],
      "metadata": {
        "id": "ccU7JRKbTnfl"
      }
    },
    {
      "cell_type": "code",
      "execution_count": null,
      "metadata": {
        "id": "P6-IxxoGRFdL"
      },
      "outputs": [],
      "source": [
        "# Use the client.images.generate() function with the model=\"dall-e-3\" parameter.\n",
        "# Try prompts like: \"A futuristic cityscape at night with flying cars\" or \"A surreal painting of a tree growing out of a book.\"\n",
        "\n",
        "response = client.images.generate(\n",
        "    model=\"dall-e-3\",\n",
        "    prompt=\"A futuristic cityscape at night with flying cars.\",\n",
        ")\n",
        "#Complete The Code"
      ]
    },
    {
      "cell_type": "code",
      "source": [],
      "metadata": {
        "id": "Z3uooCprYva2"
      },
      "execution_count": null,
      "outputs": []
    },
    {
      "cell_type": "markdown",
      "metadata": {
        "id": "YT7NvCffRFdM"
      },
      "source": [
        "## Exercise 2: Combine Fal.ai and Replicate Models\n",
        "\n",
        "Task: Use Fal.ai to generate an image and then use Replicate to modify or enhance the image. For example, generate an image of a \"classroom with students\" using Fal.ai, and then use Replicate to add a \"black forest gateau cake\" to the scene.\n",
        "\n"
      ]
    },
    {
      "cell_type": "markdown",
      "source": [
        "###Hint"
      ],
      "metadata": {
        "id": "C7mXO1xrWv7Z"
      }
    },
    {
      "cell_type": "code",
      "source": [
        "# Step 1: Generate an image using Fal.ai\n",
        "# Step 2: Modify the image using Replicate\n",
        "result = fal_client.subscribe(\n",
        "    \"fal-ai/flux/schnell\",\n",
        "    arguments={\n",
        "        \"prompt\": \"Generate an image of students in a classroom with a teacher.\"\n",
        "    },\n",
        "    with_logs=True,\n",
        ")\n",
        "#Complete the code"
      ],
      "metadata": {
        "id": "PdthFFsSZngR"
      },
      "execution_count": null,
      "outputs": []
    },
    {
      "cell_type": "code",
      "source": [],
      "metadata": {
        "id": "PUU1cFDnseUf"
      },
      "execution_count": null,
      "outputs": []
    },
    {
      "cell_type": "markdown",
      "metadata": {
        "id": "lgIcHIuUtm19"
      },
      "source": [
        "## Exercise 3: Create a \"Meme Generator App\"\n",
        "\n",
        "Task: Build a Meme Generator App that allows users to input a meme caption and generate a meme image using an image generation model (e.g., DALL-E or Fal.ai). Then, use a text generation model (e.g., GPT or Llama, Gemini) to suggest funny or creative captions for the meme.\n",
        "\n",
        "\n",
        "\n"
      ]
    },
    {
      "cell_type": "code",
      "source": [
        "#Step 1 : Use the client.images.generate() function for DALL-E or fal_client.subscribe() for Fal.ai to generate the meme image.\n",
        "#Step 2 : Create the function to generate captions using a text model like GPT or Llama.\n",
        "#Step 3 : Allow the user to input a description of the meme (e.g., \"a dog wearing a crown\").\n",
        "\n",
        "#Create generate_meme_image Funtion\n",
        "def generate_meme_image(prompt: str) -> str:\n",
        "    # Use DALL-E for image generation\n",
        "\n",
        "#Create generate_meme_captions Funtion\n",
        "def generate_meme_captions(image_url: str) -> str:\n",
        "  #use any text model GPT or Gemini\n",
        "\n",
        "#Create meme_generator_app Funtion\n",
        "def meme_generator_app():\n",
        "  #Generate Funtion"
      ],
      "metadata": {
        "id": "cW9SafBetywU"
      },
      "execution_count": null,
      "outputs": []
    },
    {
      "cell_type": "code",
      "source": [],
      "metadata": {
        "id": "WbEygnxMvRh0"
      },
      "execution_count": null,
      "outputs": []
    }
  ],
  "metadata": {
    "kernelspec": {
      "display_name": "Python 3",
      "language": "python",
      "name": "python3"
    },
    "language_info": {
      "name": "python",
      "version": "3.12.8"
    },
    "colab": {
      "provenance": [],
      "include_colab_link": true
    }
  },
  "nbformat": 4,
  "nbformat_minor": 0
}